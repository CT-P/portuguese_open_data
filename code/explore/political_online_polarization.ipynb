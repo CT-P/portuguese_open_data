{
 "cells": [
  {
   "cell_type": "code",
   "execution_count": 4,
   "metadata": {},
   "outputs": [],
   "source": [
    "import pandas as pd\n",
    "import numpy as np\n",
    "pd.options.mode.chained_assignment = None  # default='warn'\n",
    "from collections import Counter\n",
    "import nltk\n",
    "from numpy import trapz\n",
    "from scipy.signal import find_peaks\n",
    "import re\n",
    "\n",
    "stop_words_nltk = nltk.corpus.stopwords.words('portuguese')\n",
    "snowball = nltk.stem.snowball.SnowballStemmer('portuguese')\n",
    "right=[ 'PSD',  'CDS-PP', 'CH','IL','CDS']\n",
    "left=[ 'PS', 'BE', 'PCP', 'PAN', 'PEV','L']"
   ]
  },
  {
   "cell_type": "code",
   "execution_count": 33,
   "metadata": {},
   "outputs": [],
   "source": [
    "# FUNCTIONS\n",
    "def clean_tweets(text):\n",
    "\n",
    "        emoji_pattern = re.compile(\"[\"\n",
    "                u\"\\U0001F600-\\U0001F64F\"  # emoticons\n",
    "                u\"\\U0001F300-\\U0001F5FF\"  # symbols & pictographs\n",
    "                u\"\\U0001F680-\\U0001F6FF\"  # transport & map symbols\n",
    "                u\"\\U0001F1E0-\\U0001F1FF\"  # flags (iOS)\n",
    "                                \"]+\", flags=re.UNICODE)\n",
    "        text=emoji_pattern.sub(r'', text)\n",
    "\n",
    "        text = re.sub(r'https?:\\/\\/.*[\\r\\n]*', '', text, flags=re.MULTILINE) \n",
    "        \n",
    "        \n",
    "\n",
    "        return text\n",
    "\n",
    "def remove_punctuation(col_name, df):\n",
    "    df[col_name]=df[col_name].str.replace('[^\\w\\s]', '')\n",
    "    print('Punctuation removed')\n",
    "    return df\n",
    "\n",
    "def remove_special_char(col_name, df, char1,char2):\n",
    "    df[col_name]=df[col_name].str.replace(char1,char2)\n",
    "    print('Character '+char1 + 'replaced by '+ char2)\n",
    "    return df\n",
    "\n",
    "def aux_remove_accents(a):\n",
    "    import unidecode\n",
    "    return unidecode.unidecode(a)\n",
    "\n",
    "def remove_accents(col_name, df ):\n",
    "    df[col_name] = df[col_name].apply(aux_remove_accents)\n",
    "    print('Accents removed')\n",
    "    return df\n",
    "\n",
    "def normlizeTokens(tokenLst, stopwordLst = None, stemmer = None):\n",
    "    #We can use a generator here as we just need to iterate over it\n",
    "\n",
    "    #Lowering the case and removing non-words\n",
    "    workingIter = (w.lower() for w in tokenLst if w.isalpha())\n",
    "\n",
    "    #Now we can use the semmer, if provided\n",
    "    if stemmer is not None:\n",
    "        workingIter = (stemmer.stem(w) for w in workingIter)\n",
    "         \n",
    "    #And remove the stopwords\n",
    "    if stopwordLst is not None:\n",
    "        workingIter = (w for w in workingIter if w not in stopwordLst)\n",
    "    #We will return a list with the stopwords removed\n",
    "    return list(workingIter)\n",
    "\n",
    "def create_tokenized_dataset(df_input, text_col):\n",
    "    # 1 create token column: tokens\n",
    "    df_input['tokens']=df_input[text_col].apply(lambda x: nltk.word_tokenize(x))\n",
    "    # 2 create token without stopwords and stemmer: tokens_stemer_stop. 16min\n",
    "    df_input['tokens_stemer_stop'] = df_input['tokens'].apply(lambda x: normlizeTokens(x, stopwordLst = stop_words_nltk, stemmer = snowball))\n",
    "    \n",
    "    # 3 extract very frequent or rare words: token_cleaned\n",
    "    flat_tokens=[item for sublist in df_input['tokens_stemer_stop'] for item in sublist]\n",
    "    aux_c=Counter(flat_tokens)\n",
    "        \n",
    "    extrat_common=['par', 'nao', 'sr', 'deput', 'govern', 'muit', 'pel', 'president','tod','tamb','srs','sras','pod','part','psd','sao','aplaus','ja','porqu','faz','ha','diz','quer','pais','sobr','bem','nest']\n",
    "    extract_rare=[x[0] for x in aux_c.most_common()[-30:]]\n",
    "\n",
    "    df_input['tokens_cleaned'] = df_input['tokens_stemer_stop'].apply(lambda x : [i for i in x if not i in extrat_common])\n",
    "    df_input['tokens_cleaned'] = df_input['tokens_cleaned'].apply(lambda x : [i for i in x if not i in extract_rare])\n",
    "    #df_input.to_pickle('dftok.pkl')  \n",
    "    return df_input\n",
    "\n",
    "def generate_N_grams(text,ngram=1):\n",
    "  words=[word for word in text]  \n",
    "  temp=zip(*[words[i:] for i in range(0,ngram)])\n",
    "  ans=[' '.join(ngram) for ngram in temp]\n",
    "  return ans\n",
    "\n",
    "def create_grams(df_frame, n):\n",
    "    grams_d={1: 'uni_grams', 2: 'bi_grams', 3: 'tri_grams'}\n",
    "    df_frame[grams_d[n]] = df_frame['tokens_cleaned'].apply(lambda x: generate_N_grams(x,n))\n",
    "    return df_frame \n",
    "\n",
    "#political polarization functions\n",
    "\n",
    "\n",
    "\n",
    "\n",
    "def create_frequency_table_grams(n_gram=1, indf=None, right_parties=right, left_parties=left):\n",
    "    grams_d={1: 'uni_grams', 2: 'bi_grams', 3: 'tri_grams'}\n",
    "   \n",
    "\n",
    "    r_grams=[item for sublist in indf[indf.party.isin(right)][grams_d[n_gram]] for item in sublist]\n",
    "    l_grams=[item for sublist in indf[indf.party.isin(left)][grams_d[n_gram]] for item in sublist]\n",
    "\n",
    "    total_counter = Counter([item for sublist in indf[grams_d[n_gram]] for item in sublist])\n",
    "    right_counter = Counter(r_grams)\n",
    "    left_counter = Counter(l_grams)\n",
    "\n",
    "    df_all = pd.DataFrame.from_dict(total_counter, orient='index').reset_index()\n",
    "    df_all.columns=['phrase','count']\n",
    "    df_all['count_right']=[right_counter[x] for x in df_all.phrase]\n",
    "    df_all['count_left']=[left_counter[x] for x in df_all.phrase]\n",
    "\n",
    "\n",
    "    df_all['count_left_total']=sum(left_counter.values())\n",
    "    df_all['count_right_total']=sum(right_counter.values())\n",
    "    # frequency of every words except the given one (by row)\n",
    "    #Jensen et al. (2012),p.10 \n",
    "    #f-pck is the frequency of all phrases used in Con­gress c by party k excluding phrase p\n",
    "    df_all['f_right_minus']=( df_all['count_right_total']-df_all['count_right'])/df_all['count_right_total']\n",
    "    df_all['f_left_minus']=( df_all['count_left_total']-df_all['count_left'])/df_all['count_left_total']\n",
    "\n",
    "    df_all['f_right']=df_all['count_right']/df_all['count_right_total']\n",
    "    df_all['f_right_norm'] = (df_all['f_right'] - df_all['f_right'].min()) / (df_all['f_right'].max() - df_all['f_right'].min())  \n",
    "    df_all['f_left']=df_all['count_left']/df_all['count_left_total']\n",
    "    df_all['f_left_norm'] = (df_all['f_left'] - df_all['f_left'].min()) / (df_all['f_left'].max() - df_all['f_left'].min())  \n",
    "\n",
    "    df_all['f_right_minus_norm']=(df_all['f_right_minus'] - df_all['f_right_minus'].min()) / (df_all['f_right_minus'].max() - df_all['f_right_minus'].min()) \n",
    "    df_all['f_left_minus_norm']=(df_all['f_left_minus'] - df_all['f_left_minus'].min()) / (df_all['f_left_minus'].max() - df_all['f_left_minus'].min()) \n",
    "\n",
    "    return df_all\n",
    "\n",
    "\n",
    "def calculate_pearson(df_all):\n",
    "    aa=df_all['f_right_norm']*df_all['f_left_minus_norm'] \n",
    "    bb=df_all['f_left_norm']*df_all['f_right_minus_norm']\n",
    "    cc=aa-bb\n",
    "    dd=cc*cc\n",
    "    d11=df_all['f_right_norm']+df_all['f_left_norm']\n",
    "    d22=df_all['f_right_norm']+df_all['f_right_minus_norm']\n",
    "    d33=df_all['f_left_norm']+df_all['f_left_minus_norm']\n",
    "    d44=df_all['f_right_minus_norm']+df_all['f_left_minus_norm']\n",
    "    denom=d11*d22*d33*d44\n",
    "    pp=dd/denom\n",
    "    return pp\n",
    "\n",
    "def create_phrase_partisanship(df):\n",
    "    aa=df['f_right_norm']+df['f_left_norm']\n",
    "    df['rho']=df['f_right_norm']/aa\n",
    "    \n",
    "    df['gram_partisanship']= 0.5 * df['f_right_norm']*df['rho']+0.5 *df['f_right_norm']*(1-df['rho'])\n",
    "    \n",
    "    return df\n",
    "\n",
    "def create_polarization_correlation(df):\n",
    "    \n",
    "    aa=df['f_left_norm']*-1\n",
    "    bb= df['f_right_norm']*1\n",
    "    df['beta_polarization']=aa+bb\n",
    "\n",
    "    return df\n",
    "\n",
    "def partisanship_by_speach(df_in,partisan_dict, new_column='partisanship', ngrams_col='tri_grams'):\n",
    "    df_in[new_column] = [np.empty(0,dtype=float)]*len(df_in)\n",
    "    df_in[new_column] =df_in[new_column].astype(object)\n",
    "    out_res=[]\n",
    "    for n,row in enumerate(df_in[ngrams_col]):\n",
    "    \n",
    "        res=[]\n",
    "        for x in row:\n",
    "            \n",
    "            if x in partisan_dict:\n",
    "                res.append( partisan_dict[x])\n",
    "            \n",
    "            else:\n",
    "                res.append( 0)\n",
    "        out_res.append(res)\n",
    "    df_in[new_column]=out_res\n",
    "    return df_in\n",
    "\n",
    "def create_200r(df_mainf):\n",
    "    indexes_no_applause=[n for n,x in enumerate(df_mainf.phrase) if 'aplausos' not in x]\n",
    "    df_mainf=df_mainf.iloc[indexes_no_applause]\n",
    "\n",
    "    tri_final = df_mainf[0:200].append(df_mainf[-200:], ignore_index=True)\n",
    "    return tri_final\n",
    "\n",
    "\n",
    "def find_nearest_idx(array, value):\n",
    "    array = np.asarray(array)\n",
    "    idx = (np.abs(array - value)).argmin()\n",
    "    return  idx\n"
   ]
  },
  {
   "cell_type": "code",
   "execution_count": 20,
   "metadata": {},
   "outputs": [],
   "source": [
    "#read data\n",
    "tweets_df= pd.read_pickle('raw_tweets.pkl')  \n",
    "replies_df= pd.read_pickle('raw_replies.pkl')  \n",
    "df_twitter=pd.read_csv('twitter_deputies.csv')"
   ]
  },
  {
   "cell_type": "code",
   "execution_count": 21,
   "metadata": {},
   "outputs": [],
   "source": [
    "#ADD party \n",
    "df_twitter = df_twitter.rename(columns={'twitter': 'user_name'})\n",
    "df_twitter['user_name']=df_twitter['user_name'].str.lower()\n",
    "tweets_df['user_name']=tweets_df['user_name'].str.lower()\n",
    "df_ptweets=tweets_df.merge(df_twitter[['party', 'user_name']], on='user_name', how='left')"
   ]
  },
  {
   "cell_type": "code",
   "execution_count": 30,
   "metadata": {},
   "outputs": [
    {
     "name": "stdout",
     "output_type": "stream",
     "text": [
      "Character çreplaced by c\n"
     ]
    },
    {
     "name": "stderr",
     "output_type": "stream",
     "text": [
      "C:\\Users\\trind\\AppData\\Local\\Temp\\ipykernel_7760\\3209318255.py:18: FutureWarning: The default value of regex will change from True to False in a future version.\n",
      "  df[col_name]=df[col_name].str.replace('[^\\w\\s]', '')\n"
     ]
    },
    {
     "name": "stdout",
     "output_type": "stream",
     "text": [
      "Punctuation removed\n",
      "Accents removed\n"
     ]
    }
   ],
   "source": [
    "df_ptweets['text_clean']=df_ptweets['text'].str.lower()\n",
    "df_ptweets['text_clean']=df_ptweets['text_clean'].apply(lambda x : clean_tweets(x))\n",
    "df_ptweets['text_clean']=df_ptweets['text_clean'].apply(lambda x : re.sub('RT @\\w+: ','  ',x))\n",
    "df_ptweets= remove_special_char('text_clean', df_ptweets, 'ç','c') #dialogsDF['clean_speaker'].str.replace('ç','c')\n",
    "df_ptweets= remove_punctuation('text_clean', df_ptweets) #dialogsDF['clean_speaker'].str.replace('[^\\w\\s]', '')\n",
    "df_ptweets= remove_accents('text_clean', df_ptweets)"
   ]
  },
  {
   "cell_type": "code",
   "execution_count": 34,
   "metadata": {},
   "outputs": [],
   "source": [
    "df_twitter_tok=create_tokenized_dataset(df_ptweets,'text_clean')"
   ]
  },
  {
   "cell_type": "code",
   "execution_count": 36,
   "metadata": {},
   "outputs": [
    {
     "data": {
      "text/html": [
       "<div>\n",
       "<style scoped>\n",
       "    .dataframe tbody tr th:only-of-type {\n",
       "        vertical-align: middle;\n",
       "    }\n",
       "\n",
       "    .dataframe tbody tr th {\n",
       "        vertical-align: top;\n",
       "    }\n",
       "\n",
       "    .dataframe thead th {\n",
       "        text-align: right;\n",
       "    }\n",
       "</style>\n",
       "<table border=\"1\" class=\"dataframe\">\n",
       "  <thead>\n",
       "    <tr style=\"text-align: right;\">\n",
       "      <th></th>\n",
       "      <th>user_name</th>\n",
       "      <th>text</th>\n",
       "      <th>year</th>\n",
       "      <th>tweet_id</th>\n",
       "      <th>url</th>\n",
       "      <th>party</th>\n",
       "      <th>text_clean</th>\n",
       "      <th>tokens</th>\n",
       "      <th>tokens_stemer_stop</th>\n",
       "      <th>tokens_cleaned</th>\n",
       "    </tr>\n",
       "  </thead>\n",
       "  <tbody>\n",
       "    <tr>\n",
       "      <th>0</th>\n",
       "      <td>alexandre_poco</td>\n",
       "      <td>✍🏻 Convido à leitura do artigo de opinião que ...</td>\n",
       "      <td>2021</td>\n",
       "      <td>1475489298027843592</td>\n",
       "      <td>https://twitter.com/Alexandre_Poco/status/1475...</td>\n",
       "      <td>PSD</td>\n",
       "      <td>convido a leitura do artigo de opiniao que es...</td>\n",
       "      <td>[convido, a, leitura, do, artigo, de, opiniao,...</td>\n",
       "      <td>[conv, leitur, artig, opinia, escrev, novosema...</td>\n",
       "      <td>[conv, leitur, artig, opinia, escrev, novosema...</td>\n",
       "    </tr>\n",
       "    <tr>\n",
       "      <th>1</th>\n",
       "      <td>alexandre_poco</td>\n",
       "      <td>🗣 No congresso do meu partido a defender um no...</td>\n",
       "      <td>2021</td>\n",
       "      <td>1473000761621508096</td>\n",
       "      <td>https://twitter.com/Alexandre_Poco/status/1473...</td>\n",
       "      <td>PSD</td>\n",
       "      <td>no congresso do meu partido a defender um nov...</td>\n",
       "      <td>[no, congresso, do, meu, partido, a, defender,...</td>\n",
       "      <td>[congress, part, defend, nov, caminh, par, nos...</td>\n",
       "      <td>[congress, defend, nov, caminh, noss, jsd, ppd...</td>\n",
       "    </tr>\n",
       "  </tbody>\n",
       "</table>\n",
       "</div>"
      ],
      "text/plain": [
       "        user_name                                               text  year  \\\n",
       "0  alexandre_poco  ✍🏻 Convido à leitura do artigo de opinião que ...  2021   \n",
       "1  alexandre_poco  🗣 No congresso do meu partido a defender um no...  2021   \n",
       "\n",
       "              tweet_id                                                url  \\\n",
       "0  1475489298027843592  https://twitter.com/Alexandre_Poco/status/1475...   \n",
       "1  1473000761621508096  https://twitter.com/Alexandre_Poco/status/1473...   \n",
       "\n",
       "  party                                         text_clean  \\\n",
       "0   PSD   convido a leitura do artigo de opiniao que es...   \n",
       "1   PSD   no congresso do meu partido a defender um nov...   \n",
       "\n",
       "                                              tokens  \\\n",
       "0  [convido, a, leitura, do, artigo, de, opiniao,...   \n",
       "1  [no, congresso, do, meu, partido, a, defender,...   \n",
       "\n",
       "                                  tokens_stemer_stop  \\\n",
       "0  [conv, leitur, artig, opinia, escrev, novosema...   \n",
       "1  [congress, part, defend, nov, caminh, par, nos...   \n",
       "\n",
       "                                      tokens_cleaned  \n",
       "0  [conv, leitur, artig, opinia, escrev, novosema...  \n",
       "1  [congress, defend, nov, caminh, noss, jsd, ppd...  "
      ]
     },
     "execution_count": 36,
     "metadata": {},
     "output_type": "execute_result"
    }
   ],
   "source": [
    "df_twitter_tok.head(2)"
   ]
  },
  {
   "cell_type": "code",
   "execution_count": 37,
   "metadata": {},
   "outputs": [],
   "source": [
    "# 1 Create n-grams\n",
    "#df_tok=create_grams(df_tok, 2)\n",
    "df_twitter_gram=create_grams(df_twitter_tok, 3)"
   ]
  },
  {
   "cell_type": "code",
   "execution_count": 38,
   "metadata": {},
   "outputs": [],
   "source": [
    "# 2 create frequency table\n",
    "df_tweets_freq=create_frequency_table_grams(n_gram=3, indf=df_twitter_gram, right_parties=right, left_parties=left)\n",
    "# 3 Filter pearson >0\n",
    "df_tweets_freq['pearson_quad']=calculate_pearson(df_tweets_freq)\n",
    "trigrams_tweet_table=df_tweets_freq[df_tweets_freq.pearson_quad>0]\n",
    "#  4 Add  partisanship by word\n",
    "trigrams_tweet_table=create_phrase_partisanship(trigrams_tweet_table)\n",
    "trigrams_tweet_table=create_polarization_correlation(trigrams_tweet_table)\n",
    "trigrams_tweet_table=trigrams_tweet_table.sort_values(by='gram_partisanship',ascending=False)"
   ]
  },
  {
   "cell_type": "code",
   "execution_count": 39,
   "metadata": {},
   "outputs": [],
   "source": [
    "# 5 Dictionary of trigrams and partisanship\n",
    "partisan_dict=dict(zip(trigrams_tweet_table.phrase,trigrams_tweet_table.gram_partisanship))"
   ]
  },
  {
   "cell_type": "code",
   "execution_count": 40,
   "metadata": {},
   "outputs": [],
   "source": [
    "# 6 Partisanship by speach\n",
    "df_twitter_gram=partisanship_by_speach(df_in=df_twitter_gram, new_column='partisanship', ngrams_col='tri_grams',partisan_dict=partisan_dict)\n",
    "df_twitter_gram['avg_partisanship']=df_twitter_gram.partisanship.apply(lambda x: sum(x))"
   ]
  },
  {
   "cell_type": "code",
   "execution_count": 42,
   "metadata": {},
   "outputs": [
    {
     "data": {
      "text/html": [
       "<div>\n",
       "<style scoped>\n",
       "    .dataframe tbody tr th:only-of-type {\n",
       "        vertical-align: middle;\n",
       "    }\n",
       "\n",
       "    .dataframe tbody tr th {\n",
       "        vertical-align: top;\n",
       "    }\n",
       "\n",
       "    .dataframe thead th {\n",
       "        text-align: right;\n",
       "    }\n",
       "</style>\n",
       "<table border=\"1\" class=\"dataframe\">\n",
       "  <thead>\n",
       "    <tr style=\"text-align: right;\">\n",
       "      <th></th>\n",
       "      <th>user_name</th>\n",
       "      <th>text</th>\n",
       "      <th>year</th>\n",
       "      <th>tweet_id</th>\n",
       "      <th>url</th>\n",
       "      <th>party</th>\n",
       "      <th>text_clean</th>\n",
       "      <th>tokens</th>\n",
       "      <th>tokens_stemer_stop</th>\n",
       "      <th>tokens_cleaned</th>\n",
       "      <th>tri_grams</th>\n",
       "      <th>partisanship</th>\n",
       "      <th>avg_partisanship</th>\n",
       "    </tr>\n",
       "  </thead>\n",
       "  <tbody>\n",
       "    <tr>\n",
       "      <th>0</th>\n",
       "      <td>alexandre_poco</td>\n",
       "      <td>✍🏻 Convido à leitura do artigo de opinião que ...</td>\n",
       "      <td>2021</td>\n",
       "      <td>1475489298027843592</td>\n",
       "      <td>https://twitter.com/Alexandre_Poco/status/1475...</td>\n",
       "      <td>PSD</td>\n",
       "      <td>convido a leitura do artigo de opiniao que es...</td>\n",
       "      <td>[convido, a, leitura, do, artigo, de, opiniao,...</td>\n",
       "      <td>[conv, leitur, artig, opinia, escrev, novosema...</td>\n",
       "      <td>[conv, leitur, artig, opinia, escrev, novosema...</td>\n",
       "      <td>[conv leitur artig, leitur artig opinia, artig...</td>\n",
       "      <td>[0.001436781609195402, 0.0014367816091954023, ...</td>\n",
       "      <td>0.010057</td>\n",
       "    </tr>\n",
       "    <tr>\n",
       "      <th>1</th>\n",
       "      <td>alexandre_poco</td>\n",
       "      <td>🗣 No congresso do meu partido a defender um no...</td>\n",
       "      <td>2021</td>\n",
       "      <td>1473000761621508096</td>\n",
       "      <td>https://twitter.com/Alexandre_Poco/status/1473...</td>\n",
       "      <td>PSD</td>\n",
       "      <td>no congresso do meu partido a defender um nov...</td>\n",
       "      <td>[no, congresso, do, meu, partido, a, defender,...</td>\n",
       "      <td>[congress, part, defend, nov, caminh, par, nos...</td>\n",
       "      <td>[congress, defend, nov, caminh, noss, jsd, ppd...</td>\n",
       "      <td>[congress defend nov, defend nov caminh, nov c...</td>\n",
       "      <td>[0.001436781609195402, 0.001436781609195402, 0...</td>\n",
       "      <td>0.010057</td>\n",
       "    </tr>\n",
       "  </tbody>\n",
       "</table>\n",
       "</div>"
      ],
      "text/plain": [
       "        user_name                                               text  year  \\\n",
       "0  alexandre_poco  ✍🏻 Convido à leitura do artigo de opinião que ...  2021   \n",
       "1  alexandre_poco  🗣 No congresso do meu partido a defender um no...  2021   \n",
       "\n",
       "              tweet_id                                                url  \\\n",
       "0  1475489298027843592  https://twitter.com/Alexandre_Poco/status/1475...   \n",
       "1  1473000761621508096  https://twitter.com/Alexandre_Poco/status/1473...   \n",
       "\n",
       "  party                                         text_clean  \\\n",
       "0   PSD   convido a leitura do artigo de opiniao que es...   \n",
       "1   PSD   no congresso do meu partido a defender um nov...   \n",
       "\n",
       "                                              tokens  \\\n",
       "0  [convido, a, leitura, do, artigo, de, opiniao,...   \n",
       "1  [no, congresso, do, meu, partido, a, defender,...   \n",
       "\n",
       "                                  tokens_stemer_stop  \\\n",
       "0  [conv, leitur, artig, opinia, escrev, novosema...   \n",
       "1  [congress, part, defend, nov, caminh, par, nos...   \n",
       "\n",
       "                                      tokens_cleaned  \\\n",
       "0  [conv, leitur, artig, opinia, escrev, novosema...   \n",
       "1  [congress, defend, nov, caminh, noss, jsd, ppd...   \n",
       "\n",
       "                                           tri_grams  \\\n",
       "0  [conv leitur artig, leitur artig opinia, artig...   \n",
       "1  [congress defend nov, defend nov caminh, nov c...   \n",
       "\n",
       "                                        partisanship  avg_partisanship  \n",
       "0  [0.001436781609195402, 0.0014367816091954023, ...          0.010057  \n",
       "1  [0.001436781609195402, 0.001436781609195402, 0...          0.010057  "
      ]
     },
     "execution_count": 42,
     "metadata": {},
     "output_type": "execute_result"
    }
   ],
   "source": [
    "df_twitter_gram.head(2)"
   ]
  },
  {
   "cell_type": "code",
   "execution_count": 43,
   "metadata": {},
   "outputs": [
    {
     "data": {
      "image/png": "[encoded data removed]",
      "text/plain": [
       "<Figure size 432x288 with 1 Axes>"
      ]
     },
     "metadata": {
      "needs_background": "light"
     },
     "output_type": "display_data"
    }
   ],
   "source": [
    "import seaborn as sns\n",
    "import matplotlib.pyplot as plt\n",
    "df_twitter_gram['avg_partisanship'].plot.density(color='green')\n",
    "plt.title('Density Plot for Tip')\n",
    "plt.show()"
   ]
  },
  {
   "cell_type": "code",
   "execution_count": 49,
   "metadata": {},
   "outputs": [
    {
     "name": "stderr",
     "output_type": "stream",
     "text": [
      "C:\\Users\\trind\\AppData\\Local\\Temp\\ipykernel_7760\\1178378920.py:2: FutureWarning: The frame.append method is deprecated and will be removed from pandas in a future version. Use pandas.concat instead.\n",
      "  tri_final = df_twitter_gram[0:500].append(df_twitter_gram[-500:], ignore_index=True)\n"
     ]
    }
   ],
   "source": [
    "df_twitter_gram.sort_values(\"avg_partisanship\", axis =0, ascending = False,inplace = True)\n",
    "tri_final = df_twitter_gram[0:500].append(df_twitter_gram[-500:], ignore_index=True)"
   ]
  },
  {
   "cell_type": "code",
   "execution_count": 50,
   "metadata": {},
   "outputs": [
    {
     "data": {
      "image/png": "[encoded data removed]",
      "text/plain": [
       "<Figure size 432x288 with 1 Axes>"
      ]
     },
     "metadata": {
      "needs_background": "light"
     },
     "output_type": "display_data"
    },
    {
     "name": "stdout",
     "output_type": "stream",
     "text": [
      "1o 0.3413505058777847 0.5640010293096163\n",
      "no data for 2017\n"
     ]
    },
    {
     "data": {
      "image/png": "[encoded data removed]",
      "text/plain": [
       "<Figure size 432x288 with 1 Axes>"
      ]
     },
     "metadata": {
      "needs_background": "light"
     },
     "output_type": "display_data"
    },
    {
     "name": "stdout",
     "output_type": "stream",
     "text": [
      "1o 0.24514766193697618 0.6771915933975217\n"
     ]
    },
    {
     "data": {
      "image/png": "[encoded data removed]",
      "text/plain": [
       "<Figure size 432x288 with 1 Axes>"
      ]
     },
     "metadata": {
      "needs_background": "light"
     },
     "output_type": "display_data"
    },
    {
     "name": "stdout",
     "output_type": "stream",
     "text": [
      "1o 0.8567975604135415 0.14300065482522648\n"
     ]
    },
    {
     "data": {
      "image/png": "[encoded data removed]",
      "text/plain": [
       "<Figure size 432x288 with 1 Axes>"
      ]
     },
     "metadata": {
      "needs_background": "light"
     },
     "output_type": "display_data"
    },
    {
     "name": "stdout",
     "output_type": "stream",
     "text": [
      "1o 0.46562283637591606 0.5341712534278813\n"
     ]
    },
    {
     "data": {
      "image/png": "[encoded data removed]",
      "text/plain": [
       "<Figure size 432x288 with 1 Axes>"
      ]
     },
     "metadata": {
      "needs_background": "light"
     },
     "output_type": "display_data"
    },
    {
     "name": "stdout",
     "output_type": "stream",
     "text": [
      "1o 0.5618160422185023 0.43681916161719625\n"
     ]
    },
    {
     "data": {
      "text/plain": [
       "<Figure size 432x288 with 0 Axes>"
      ]
     },
     "metadata": {},
     "output_type": "display_data"
    }
   ],
   "source": [
    "# \n",
    "df_polmetric=pd.DataFrame([])\n",
    "\n",
    "for YEAR_S in range(2016, 2022):\n",
    "    try:\n",
    "        res=[]\n",
    "        tri_final[tri_final.year==YEAR_S]['avg_partisanship'].plot.density(color='blue')\n",
    "        plt.title('Density plot for Parliament Speach in '+ str(YEAR_S))\n",
    "        plt.xlabel('Average partisanship by speach')\n",
    "        line = plt.gca().get_lines()\n",
    "        x_data = line[0].get_data()[0]\n",
    "        y1_data = line[0].get_data()[1]\n",
    "        peaks, _ = find_peaks(y1_data, height=0)\n",
    "        plt.plot(x_data[peaks[0]],y1_data[peaks[0]], \"x\", color='red')\n",
    "        if len(peaks)>1:\n",
    "            plt.plot(x_data[peaks[1]],y1_data[peaks[1]], \"x\", color='red')\n",
    "\n",
    "        plt.show()\n",
    "        plt.clf()\n",
    "        if len(peaks)>1:\n",
    "            #distance_from_peaks=x_data[peaks[0]]\n",
    "\n",
    "            first_peak_startX=x_data[0]\n",
    "            fstartY=find_nearest_idx(x_data, first_peak_startX)\n",
    "            #print(fstartY,fendY)\n",
    "            first_peak_endX=x_data[peaks[0]]+((x_data[peaks[1]]-x_data[peaks[0]])/2 )\n",
    "            fendY=find_nearest_idx(x_data, first_peak_endX)\n",
    "            area_left = trapz(y1_data[fstartY:fendY], x_data[fstartY:fendY],dx=1)\n",
    "\n",
    "            second_peak_start=first_peak_endX\n",
    "            SstartY=find_nearest_idx(x_data, second_peak_start)\n",
    "            second_peak_end=x_data[peaks[1]]+((x_data[peaks[1]]-x_data[peaks[0]])/2 )\n",
    "            SendY=find_nearest_idx(x_data, second_peak_end)\n",
    "\n",
    "\n",
    "            area_right = trapz(y1_data[SstartY:SendY], x_data[SstartY:SendY],dx=1)\n",
    "\n",
    "            print('1o', area_left,area_right)\n",
    "        else:\n",
    "            distance_from_peaks=min(x_data[:peaks[0]])\n",
    "\n",
    "            first_peak_startX=x_data[0]\n",
    "            fstartY=find_nearest_idx(x_data, first_peak_startX)\n",
    "\n",
    "            first_peak_endX=x_data[peaks[0]]+((x_data[peaks[0]]-x_data[0])/2 )\n",
    "            fendY=find_nearest_idx(x_data, first_peak_endX)\n",
    "            area_left = trapz(y1_data[fstartY:fendY], x_data[fstartY:fendY],dx=1)\n",
    "\n",
    "            area_right=0\n",
    "            print(area_left,area_right)\n",
    "\n",
    "        res.append(YEAR_S)\n",
    "        if len(peaks)>1:\n",
    "            res.append(x_data[peaks[1]]-x_data[peaks[0]]) #partisanship_interval\n",
    "        else:\n",
    "            res.append(0)\n",
    "        res.append(area_left)\n",
    "        res.append( area_right)\n",
    "    except:\n",
    "        print('no data for', YEAR_S)\n",
    "\n",
    "    new_df = pd.DataFrame([res])\n",
    "    df_polmetric = pd.concat([df_polmetric, new_df], axis=0, ignore_index=True)\n",
    "    "
   ]
  },
  {
   "cell_type": "code",
   "execution_count": 52,
   "metadata": {},
   "outputs": [
    {
     "data": {
      "text/html": [
       "<div>\n",
       "<style scoped>\n",
       "    .dataframe tbody tr th:only-of-type {\n",
       "        vertical-align: middle;\n",
       "    }\n",
       "\n",
       "    .dataframe tbody tr th {\n",
       "        vertical-align: top;\n",
       "    }\n",
       "\n",
       "    .dataframe thead th {\n",
       "        text-align: right;\n",
       "    }\n",
       "</style>\n",
       "<table border=\"1\" class=\"dataframe\">\n",
       "  <thead>\n",
       "    <tr style=\"text-align: right;\">\n",
       "      <th></th>\n",
       "      <th>year</th>\n",
       "      <th>partisanship_interval</th>\n",
       "      <th>left_probability</th>\n",
       "      <th>right_probability</th>\n",
       "    </tr>\n",
       "  </thead>\n",
       "  <tbody>\n",
       "    <tr>\n",
       "      <th>0</th>\n",
       "      <td>2016.0</td>\n",
       "      <td>0.030415</td>\n",
       "      <td>0.341351</td>\n",
       "      <td>0.564001</td>\n",
       "    </tr>\n",
       "    <tr>\n",
       "      <th>1</th>\n",
       "      <td>NaN</td>\n",
       "      <td>NaN</td>\n",
       "      <td>NaN</td>\n",
       "      <td>NaN</td>\n",
       "    </tr>\n",
       "    <tr>\n",
       "      <th>2</th>\n",
       "      <td>2018.0</td>\n",
       "      <td>0.033729</td>\n",
       "      <td>0.245148</td>\n",
       "      <td>0.677192</td>\n",
       "    </tr>\n",
       "    <tr>\n",
       "      <th>3</th>\n",
       "      <td>2019.0</td>\n",
       "      <td>0.713472</td>\n",
       "      <td>0.856798</td>\n",
       "      <td>0.143001</td>\n",
       "    </tr>\n",
       "    <tr>\n",
       "      <th>4</th>\n",
       "      <td>2020.0</td>\n",
       "      <td>1.109382</td>\n",
       "      <td>0.465623</td>\n",
       "      <td>0.534171</td>\n",
       "    </tr>\n",
       "    <tr>\n",
       "      <th>5</th>\n",
       "      <td>2021.0</td>\n",
       "      <td>0.914061</td>\n",
       "      <td>0.561816</td>\n",
       "      <td>0.436819</td>\n",
       "    </tr>\n",
       "  </tbody>\n",
       "</table>\n",
       "</div>"
      ],
      "text/plain": [
       "     year  partisanship_interval  left_probability  right_probability\n",
       "0  2016.0               0.030415          0.341351           0.564001\n",
       "1     NaN                    NaN               NaN                NaN\n",
       "2  2018.0               0.033729          0.245148           0.677192\n",
       "3  2019.0               0.713472          0.856798           0.143001\n",
       "4  2020.0               1.109382          0.465623           0.534171\n",
       "5  2021.0               0.914061          0.561816           0.436819"
      ]
     },
     "execution_count": 52,
     "metadata": {},
     "output_type": "execute_result"
    }
   ],
   "source": [
    "df_polmetric.columns='year','partisanship_interval', 'left_probability','right_probability'\n",
    "df_polmetric"
   ]
  },
  {
   "cell_type": "code",
   "execution_count": 54,
   "metadata": {},
   "outputs": [],
   "source": [
    "tri_final\n",
    "#add term\n",
    "tri_final['term'] = np.where(tri_final.year <=2019, '13', '14')"
   ]
  },
  {
   "cell_type": "code",
   "execution_count": 61,
   "metadata": {},
   "outputs": [
    {
     "data": {
      "image/png": "[encoded data removed]",
      "text/plain": [
       "<Figure size 432x288 with 1 Axes>"
      ]
     },
     "metadata": {
      "needs_background": "light"
     },
     "output_type": "display_data"
    },
    {
     "name": "stdout",
     "output_type": "stream",
     "text": [
      "1o 0.5636096150855303 0.4326871377957867\n"
     ]
    },
    {
     "data": {
      "image/png": "[encoded data removed]",
      "text/plain": [
       "<Figure size 432x288 with 1 Axes>"
      ]
     },
     "metadata": {
      "needs_background": "light"
     },
     "output_type": "display_data"
    },
    {
     "name": "stdout",
     "output_type": "stream",
     "text": [
      "1o 0.49382544993083655 0.5059498440835043\n"
     ]
    },
    {
     "data": {
      "text/plain": [
       "<Figure size 432x288 with 0 Axes>"
      ]
     },
     "metadata": {},
     "output_type": "display_data"
    }
   ],
   "source": [
    "# \n",
    "df_polmetric=pd.DataFrame([])\n",
    "\n",
    "for YEAR_S in range(13, 15):\n",
    "    res=[]\n",
    "    YEAR_S=str(YEAR_S)\n",
    "    tri_final[tri_final.term==YEAR_S]['avg_partisanship'].plot.density(color='blue')\n",
    "    plt.title('Density plot for Parliament Speach in '+ str(YEAR_S)+ 'th Government Term')\n",
    "    plt.xlabel('Average partisanship by speach')\n",
    "    line = plt.gca().get_lines()\n",
    "    x_data = line[0].get_data()[0]\n",
    "    y1_data = line[0].get_data()[1]\n",
    "    peaks, _ = find_peaks(y1_data, height=0)\n",
    "    plt.plot(x_data[peaks[0]],y1_data[peaks[0]], \"x\", color='red')\n",
    "    if len(peaks)>1:\n",
    "        plt.plot(x_data[peaks[1]],y1_data[peaks[1]], \"x\", color='red')\n",
    "\n",
    "    plt.show()\n",
    "    plt.clf()\n",
    "    if len(peaks)>1:\n",
    "        #distance_from_peaks=x_data[peaks[0]]\n",
    "\n",
    "        first_peak_startX=x_data[0]\n",
    "        fstartY=find_nearest_idx(x_data, first_peak_startX)\n",
    "        #print(fstartY,fendY)\n",
    "        first_peak_endX=x_data[peaks[0]]+((x_data[peaks[1]]-x_data[peaks[0]])/2 )\n",
    "        fendY=find_nearest_idx(x_data, first_peak_endX)\n",
    "        area_left = trapz(y1_data[fstartY:fendY], x_data[fstartY:fendY],dx=1)\n",
    "\n",
    "        second_peak_start=first_peak_endX\n",
    "        SstartY=find_nearest_idx(x_data, second_peak_start)\n",
    "        second_peak_end=x_data[peaks[1]]+((x_data[peaks[1]]-x_data[peaks[0]])/2 )\n",
    "        SendY=find_nearest_idx(x_data, second_peak_end)\n",
    "\n",
    "\n",
    "        area_right = trapz(y1_data[SstartY:SendY], x_data[SstartY:SendY],dx=1)\n",
    "\n",
    "        print('1o', area_left,area_right)\n",
    "    else:\n",
    "        distance_from_peaks=min(x_data[:peaks[0]])\n",
    "\n",
    "        first_peak_startX=x_data[0]\n",
    "        fstartY=find_nearest_idx(x_data, first_peak_startX)\n",
    "\n",
    "        first_peak_endX=x_data[peaks[0]]+((x_data[peaks[0]]-x_data[0])/2 )\n",
    "        fendY=find_nearest_idx(x_data, first_peak_endX)\n",
    "        area_left = trapz(y1_data[fstartY:fendY], x_data[fstartY:fendY],dx=1)\n",
    "\n",
    "        area_right=0\n",
    "        print(area_left,area_right)\n",
    "\n",
    "    res.append(YEAR_S)\n",
    "    if len(peaks)>1:\n",
    "        res.append(x_data[peaks[1]]-x_data[peaks[0]]) #partisanship_interval\n",
    "    else:\n",
    "        res.append(0)\n",
    "    res.append(area_left)\n",
    "    res.append( area_right)\n",
    "\n",
    "    new_df = pd.DataFrame([res])\n",
    "    df_polmetric = pd.concat([df_polmetric, new_df], axis=0, ignore_index=True)"
   ]
  },
  {
   "cell_type": "code",
   "execution_count": 63,
   "metadata": {},
   "outputs": [
    {
     "data": {
      "text/html": [
       "<div>\n",
       "<style scoped>\n",
       "    .dataframe tbody tr th:only-of-type {\n",
       "        vertical-align: middle;\n",
       "    }\n",
       "\n",
       "    .dataframe tbody tr th {\n",
       "        vertical-align: top;\n",
       "    }\n",
       "\n",
       "    .dataframe thead th {\n",
       "        text-align: right;\n",
       "    }\n",
       "</style>\n",
       "<table border=\"1\" class=\"dataframe\">\n",
       "  <thead>\n",
       "    <tr style=\"text-align: right;\">\n",
       "      <th></th>\n",
       "      <th>term</th>\n",
       "      <th>partisanship_interval</th>\n",
       "      <th>left_probability</th>\n",
       "      <th>right_probability</th>\n",
       "    </tr>\n",
       "  </thead>\n",
       "  <tbody>\n",
       "    <tr>\n",
       "      <th>0</th>\n",
       "      <td>13</td>\n",
       "      <td>0.722447</td>\n",
       "      <td>0.563610</td>\n",
       "      <td>0.432687</td>\n",
       "    </tr>\n",
       "    <tr>\n",
       "      <th>1</th>\n",
       "      <td>14</td>\n",
       "      <td>1.083026</td>\n",
       "      <td>0.493825</td>\n",
       "      <td>0.505950</td>\n",
       "    </tr>\n",
       "  </tbody>\n",
       "</table>\n",
       "</div>"
      ],
      "text/plain": [
       "  term  partisanship_interval  left_probability  right_probability\n",
       "0   13               0.722447          0.563610           0.432687\n",
       "1   14               1.083026          0.493825           0.505950"
      ]
     },
     "execution_count": 63,
     "metadata": {},
     "output_type": "execute_result"
    }
   ],
   "source": [
    "df_polmetric.columns='term','partisanship_interval', 'left_probability','right_probability'\n",
    "df_polmetric"
   ]
  },
  {
   "cell_type": "code",
   "execution_count": null,
   "metadata": {},
   "outputs": [],
   "source": []
  }
 ],
 "metadata": {
  "kernelspec": {
   "display_name": "Python 3.9.12 ('base')",
   "language": "python",
   "name": "python3"
  },
  "language_info": {
   "codemirror_mode": {
    "name": "ipython",
    "version": 3
   },
   "file_extension": ".py",
   "mimetype": "text/x-python",
   "name": "python",
   "nbconvert_exporter": "python",
   "pygments_lexer": "ipython3",
   "version": "3.9.12"
  },
  "orig_nbformat": 4,
  "vscode": {
   "interpreter": {
    "hash": "ddb3f830e79c6f8e791b80246b7047706826e249abf27510d15251ed3cae5420"
   }
  }
 },
 "nbformat": 4,
 "nbformat_minor": 2
}
