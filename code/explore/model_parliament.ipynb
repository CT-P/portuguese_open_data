{
 "cells": [
  {
   "cell_type": "code",
   "execution_count": 5,
   "metadata": {},
   "outputs": [],
   "source": [
    "create_tokenizedDF= False\n",
    "import pandas as pd\n",
    "import numpy as np\n",
    "pd.options.mode.chained_assignment = None  # default='warn'\n",
    "from collections import Counter\n",
    "import nltk\n",
    "from numpy import trapz\n",
    "from scipy.signal import find_peaks\n",
    "\n",
    "stop_words_nltk = nltk.corpus.stopwords.words('portuguese')\n",
    "snowball = nltk.stem.snowball.SnowballStemmer('portuguese')\n",
    "right=[ 'PSD',  'CDS-PP', 'CH','IL','CDS']\n",
    "left=[ 'PS', 'BE', 'PCP', 'PAN', 'PEV','L']"
   ]
  },
  {
   "cell_type": "code",
   "execution_count": 6,
   "metadata": {},
   "outputs": [],
   "source": [
    "def normlizeTokens(tokenLst, stopwordLst = None, stemmer = None):\n",
    "    #We can use a generator here as we just need to iterate over it\n",
    "\n",
    "    #Lowering the case and removing non-words\n",
    "    workingIter = (w.lower() for w in tokenLst if w.isalpha())\n",
    "\n",
    "    #Now we can use the semmer, if provided\n",
    "    if stemmer is not None:\n",
    "        workingIter = (stemmer.stem(w) for w in workingIter)\n",
    "         \n",
    "    #And remove the stopwords\n",
    "    if stopwordLst is not None:\n",
    "        workingIter = (w for w in workingIter if w not in stopwordLst)\n",
    "    #We will return a list with the stopwords removed\n",
    "    return list(workingIter)\n",
    "\n",
    "def create_tokenized_dataset(df_input):\n",
    "    # 1 create token column: tokens\n",
    "    df_input['tokens']=df_input['speech'].apply(lambda x: nltk.word_tokenize(x))\n",
    "    # 2 create token without stopwords and stemmer: tokens_stemer_stop. 16min\n",
    "    df_input['tokens_stemer_stop'] = df_input['tokens'].apply(lambda x: normlizeTokens(x, stopwordLst = stop_words_nltk, stemmer = snowball))\n",
    "    \n",
    "    # 3 extract very frequent or rare words: token_cleaned\n",
    "    flat_tokens=[item for sublist in df_input['tokens_stemer_stop'] for item in sublist]\n",
    "    aux_c=Counter(flat_tokens)\n",
    "        \n",
    "    extrat_common=['par', 'nao', 'sr', 'deput', 'govern', 'muit', 'pel', 'president','tod','tamb','srs','sras','pod','part','psd','sao','aplaus','ja','porqu','faz','ha','diz','quer','pais','sobr','bem','nest']\n",
    "    extract_rare=[x[0] for x in aux_c.most_common()[-30:]]\n",
    "\n",
    "    df_input['tokens_cleaned'] = df_input['tokens_stemer_stop'].apply(lambda x : [i for i in x if not i in extrat_common])\n",
    "    df_input['tokens_cleaned'] = df_input['tokens_cleaned'].apply(lambda x : [i for i in x if not i in extract_rare])\n",
    "    df_input.to_pickle('dftok.pkl')  \n",
    "    return df_input\n",
    "\n",
    "def generate_N_grams(text,ngram=1):\n",
    "  words=[word for word in text]  \n",
    "  temp=zip(*[words[i:] for i in range(0,ngram)])\n",
    "  ans=[' '.join(ngram) for ngram in temp]\n",
    "  return ans\n",
    "\n",
    "def create_grams(df_frame, n):\n",
    "    grams_d={1: 'uni_grams', 2: 'bi_grams', 3: 'tri_grams'}\n",
    "    df_frame[grams_d[n]] = df_frame['tokens_cleaned'].apply(lambda x: generate_N_grams(x,n))\n",
    "    return df_frame \n",
    "\n",
    "#political polarization functions\n",
    "\n",
    "\n",
    "\n",
    "\n",
    "def create_frequency_table_grams(n_gram=1, indf=None, right_parties=right, left_parties=left):\n",
    "    grams_d={1: 'uni_grams', 2: 'bi_grams', 3: 'tri_grams'}\n",
    "   \n",
    "\n",
    "    r_grams=[item for sublist in indf[indf.party.isin(right)][grams_d[n_gram]] for item in sublist]\n",
    "    l_grams=[item for sublist in indf[indf.party.isin(left)][grams_d[n_gram]] for item in sublist]\n",
    "\n",
    "    total_counter = Counter([item for sublist in indf[grams_d[n_gram]] for item in sublist])\n",
    "    right_counter = Counter(r_grams)\n",
    "    left_counter = Counter(l_grams)\n",
    "\n",
    "    df_all = pd.DataFrame.from_dict(total_counter, orient='index').reset_index()\n",
    "    df_all.columns=['phrase','count']\n",
    "    df_all['count_right']=[right_counter[x] for x in df_all.phrase]\n",
    "    df_all['count_left']=[left_counter[x] for x in df_all.phrase]\n",
    "\n",
    "\n",
    "    df_all['count_left_total']=sum(left_counter.values())\n",
    "    df_all['count_right_total']=sum(right_counter.values())\n",
    "    # frequency of every words except the given one (by row)\n",
    "    #Jensen et al. (2012),p.10 \n",
    "    #f-pck is the frequency of all phrases used in Con­gress c by party k excluding phrase p\n",
    "    df_all['f_right_minus']=( df_all['count_right_total']-df_all['count_right'])/df_all['count_right_total']\n",
    "    df_all['f_left_minus']=( df_all['count_left_total']-df_all['count_left'])/df_all['count_left_total']\n",
    "\n",
    "    df_all['f_right']=df_all['count_right']/df_all['count_right_total']\n",
    "    df_all['f_right_norm'] = (df_all['f_right'] - df_all['f_right'].min()) / (df_all['f_right'].max() - df_all['f_right'].min())  \n",
    "    df_all['f_left']=df_all['count_left']/df_all['count_left_total']\n",
    "    df_all['f_left_norm'] = (df_all['f_left'] - df_all['f_left'].min()) / (df_all['f_left'].max() - df_all['f_left'].min())  \n",
    "\n",
    "    df_all['f_right_minus_norm']=(df_all['f_right_minus'] - df_all['f_right_minus'].min()) / (df_all['f_right_minus'].max() - df_all['f_right_minus'].min()) \n",
    "    df_all['f_left_minus_norm']=(df_all['f_left_minus'] - df_all['f_left_minus'].min()) / (df_all['f_left_minus'].max() - df_all['f_left_minus'].min()) \n",
    "\n",
    "    return df_all\n",
    "\n",
    "\n",
    "def calculate_pearson(df_all):\n",
    "    aa=df_all['f_right_norm']*df_all['f_left_minus_norm'] \n",
    "    bb=df_all['f_left_norm']*df_all['f_right_minus_norm']\n",
    "    cc=aa-bb\n",
    "    dd=cc*cc\n",
    "    d11=df_all['f_right_norm']+df_all['f_left_norm']\n",
    "    d22=df_all['f_right_norm']+df_all['f_right_minus_norm']\n",
    "    d33=df_all['f_left_norm']+df_all['f_left_minus_norm']\n",
    "    d44=df_all['f_right_minus_norm']+df_all['f_left_minus_norm']\n",
    "    denom=d11*d22*d33*d44\n",
    "    pp=dd/denom\n",
    "    return pp\n",
    "\n",
    "def create_phrase_partisanship(df):\n",
    "    aa=df['f_right_norm']+df['f_left_norm']\n",
    "    df['rho']=df['f_right_norm']/aa\n",
    "    \n",
    "    df['gram_partisanship']= 0.5 * df['f_right_norm']*df['rho']+0.5 *df['f_right_norm']*(1-df['rho'])\n",
    "    \n",
    "    return df\n",
    "\n",
    "def create_polarization_correlation(df):\n",
    "    \n",
    "    aa=df['f_left_norm']*-1\n",
    "    bb= df['f_right_norm']*1\n",
    "    df['beta_polarization']=aa+bb\n",
    "\n",
    "    return df\n",
    "\n",
    "def partisanship_by_speach(df_in,partisan_dict, new_column='partisanship', ngrams_col='tri_grams'):\n",
    "    df_in[new_column] = [np.empty(0,dtype=float)]*len(df_in)\n",
    "    df_in[new_column] =df_in[new_column].astype(object)\n",
    "    out_res=[]\n",
    "    for n,row in enumerate(df_in[ngrams_col]):\n",
    "    \n",
    "        res=[]\n",
    "        for x in row:\n",
    "            \n",
    "            if x in partisan_dict:\n",
    "                res.append( partisan_dict[x])\n",
    "            \n",
    "            else:\n",
    "                res.append( 0)\n",
    "        out_res.append(res)\n",
    "    df_in[new_column]=out_res\n",
    "    return df_in\n",
    "\n",
    "def create_200r(df_mainf):\n",
    "    indexes_no_applause=[n for n,x in enumerate(df_mainf.phrase) if 'aplausos' not in x]\n",
    "    df_mainf=df_mainf.iloc[indexes_no_applause]\n",
    "\n",
    "    tri_final = df_mainf[0:200].append(df_mainf[-200:], ignore_index=True)\n",
    "    return tri_final\n",
    "\n",
    "\n",
    "def find_nearest_idx(array, value):\n",
    "    array = np.asarray(array)\n",
    "    idx = (np.abs(array - value)).argmin()\n",
    "    return  idx"
   ]
  },
  {
   "cell_type": "code",
   "execution_count": 7,
   "metadata": {},
   "outputs": [],
   "source": [
    "# load dataframe\n",
    "if create_tokenizedDF==True:\n",
    "    df_input = pd.read_pickle('parliament_fdf.pkl')  \n",
    "    df_tok=create_tokenized_dataset(df_input)\n",
    "else:\n",
    "    df_tok = pd.read_pickle('dftok.pkl')  \n",
    "    "
   ]
  },
  {
   "cell_type": "code",
   "execution_count": 8,
   "metadata": {},
   "outputs": [],
   "source": [
    "# 1 Create n-grams\n",
    "#df_tok=create_grams(df_tok, 2)\n",
    "df_tok=create_grams(df_tok, 3)"
   ]
  },
  {
   "cell_type": "code",
   "execution_count": 9,
   "metadata": {},
   "outputs": [],
   "source": [
    "# 2 create frequency table\n",
    "df_freq=create_frequency_table_grams(n_gram=3, indf=df_tok, right_parties=right, left_parties=left)\n",
    "# 3 Filter pearson >0\n",
    "df_freq['pearson_quad']=calculate_pearson(df_freq)\n",
    "trigrams_table=df_freq[df_freq.pearson_quad>0]\n",
    "#  4 Add  partisanship by word\n",
    "trigrams_table=create_phrase_partisanship(trigrams_table)\n",
    "trigrams_table=create_polarization_correlation(trigrams_table)\n",
    "trigrams_table=trigrams_table.sort_values(by='gram_partisanship',ascending=False)\n"
   ]
  },
  {
   "cell_type": "code",
   "execution_count": 10,
   "metadata": {},
   "outputs": [],
   "source": [
    "# 5 Dictionary of trigrams and partisanship\n",
    "partisan_dict=dict(zip(trigrams_table.phrase,trigrams_table.gram_partisanship))"
   ]
  },
  {
   "cell_type": "code",
   "execution_count": 11,
   "metadata": {},
   "outputs": [],
   "source": [
    "# 6 Partisanship by speach\n",
    "df_tok=partisanship_by_speach(df_in=df_tok, new_column='partisanship', ngrams_col='tri_grams',partisan_dict=partisan_dict)\n",
    "df_tok['avg_partisanship']=df_tok.partisanship.apply(lambda x: sum(x))"
   ]
  },
  {
   "cell_type": "code",
   "execution_count": 14,
   "metadata": {},
   "outputs": [
    {
     "data": {
      "image/png": "[encoded data removed]",
      "text/plain": [
       "<Figure size 432x288 with 1 Axes>"
      ]
     },
     "metadata": {
      "needs_background": "light"
     },
     "output_type": "display_data"
    }
   ],
   "source": [
    "df_tok.head(5)\n",
    "import seaborn as sns\n",
    "import matplotlib.pyplot as plt\n",
    "df_tok['avg_partisanship'].plot.density(color='green')\n",
    "plt.title('Density Plot for Tip')\n",
    "plt.show()\n"
   ]
  },
  {
   "cell_type": "code",
   "execution_count": 15,
   "metadata": {},
   "outputs": [
    {
     "name": "stderr",
     "output_type": "stream",
     "text": [
      "C:\\Users\\trind\\AppData\\Local\\Temp\\ipykernel_16260\\793341432.py:1: FutureWarning: The frame.append method is deprecated and will be removed from pandas in a future version. Use pandas.concat instead.\n",
      "  tri_final = df_tok[0:200].append(df_tok[-200:], ignore_index=True)\n"
     ]
    },
    {
     "data": {
      "image/png": "[encoded data removed]",
      "text/plain": [
       "<Figure size 432x288 with 1 Axes>"
      ]
     },
     "metadata": {
      "needs_background": "light"
     },
     "output_type": "display_data"
    }
   ],
   "source": [
    "tri_final = df_tok[0:200].append(df_tok[-200:], ignore_index=True)\n",
    "tri_final['avg_partisanship'].plot.density(color='green')\n",
    "plt.title('Density Plot for Tip')\n",
    "plt.show()"
   ]
  },
  {
   "cell_type": "code",
   "execution_count": 21,
   "metadata": {},
   "outputs": [
    {
     "name": "stderr",
     "output_type": "stream",
     "text": [
      "C:\\Users\\trind\\AppData\\Local\\Temp\\ipykernel_16260\\3479927013.py:2: FutureWarning: The frame.append method is deprecated and will be removed from pandas in a future version. Use pandas.concat instead.\n",
      "  tri_final = df_tok[0:200].append(df_tok[-200:], ignore_index=True)\n"
     ]
    }
   ],
   "source": [
    "df_tok.sort_values(\"avg_partisanship\", axis =0, ascending = False,inplace = True)\n",
    "tri_final = df_tok[0:200].append(df_tok[-200:], ignore_index=True)"
   ]
  },
  {
   "cell_type": "code",
   "execution_count": 142,
   "metadata": {},
   "outputs": [
    {
     "data": {
      "text/plain": [
       "array([2018, 2017, 2021, 2020, 2019, 2016], dtype=int64)"
      ]
     },
     "execution_count": 142,
     "metadata": {},
     "output_type": "execute_result"
    }
   ],
   "source": [
    "tri_final.year.unique()"
   ]
  },
  {
   "cell_type": "code",
   "execution_count": 237,
   "metadata": {},
   "outputs": [],
   "source": [
    "YEAR_S=2018"
   ]
  },
  {
   "cell_type": "code",
   "execution_count": 242,
   "metadata": {},
   "outputs": [
    {
     "data": {
      "image/png": "[encoded data removed]",
      "text/plain": [
       "<Figure size 432x288 with 1 Axes>"
      ]
     },
     "metadata": {
      "needs_background": "light"
     },
     "output_type": "display_data"
    },
    {
     "name": "stdout",
     "output_type": "stream",
     "text": [
      "0.7963331523460946 0\n"
     ]
    },
    {
     "data": {
      "image/png": "[encoded data removed]",
      "text/plain": [
       "<Figure size 432x288 with 1 Axes>"
      ]
     },
     "metadata": {
      "needs_background": "light"
     },
     "output_type": "display_data"
    },
    {
     "name": "stdout",
     "output_type": "stream",
     "text": [
      "1o 0.9212949683295211 0.0667097561290795\n"
     ]
    },
    {
     "data": {
      "image/png": "[encoded data removed]",
      "text/plain": [
       "<Figure size 432x288 with 1 Axes>"
      ]
     },
     "metadata": {
      "needs_background": "light"
     },
     "output_type": "display_data"
    },
    {
     "name": "stdout",
     "output_type": "stream",
     "text": [
      "0.9259059475548395 0\n"
     ]
    },
    {
     "data": {
      "image/png": "[encoded data removed]",
      "text/plain": [
       "<Figure size 432x288 with 1 Axes>"
      ]
     },
     "metadata": {
      "needs_background": "light"
     },
     "output_type": "display_data"
    },
    {
     "name": "stdout",
     "output_type": "stream",
     "text": [
      "1o 0.869321273013123 0.12793056049954568\n"
     ]
    },
    {
     "data": {
      "image/png": "[encoded data removed]",
      "text/plain": [
       "<Figure size 432x288 with 1 Axes>"
      ]
     },
     "metadata": {
      "needs_background": "light"
     },
     "output_type": "display_data"
    },
    {
     "name": "stdout",
     "output_type": "stream",
     "text": [
      "1o 0.9257688615171447 0.07379755290802323\n"
     ]
    },
    {
     "data": {
      "text/plain": [
       "<Figure size 432x288 with 0 Axes>"
      ]
     },
     "metadata": {},
     "output_type": "display_data"
    }
   ],
   "source": [
    "# \n",
    "df_polmetric=pd.DataFrame([])\n",
    "\n",
    "for YEAR_S in range(2016, 2021):\n",
    "    res=[]\n",
    "    tri_final[tri_final.year==YEAR_S]['avg_partisanship'].plot.density(color='blue')\n",
    "    plt.title('Density plot for Parliament Speach in '+ str(YEAR_S))\n",
    "    plt.xlabel('Average partisanship by speach')\n",
    "    line = plt.gca().get_lines()\n",
    "    x_data = line[0].get_data()[0]\n",
    "    y1_data = line[0].get_data()[1]\n",
    "    peaks, _ = find_peaks(y1_data, height=0)\n",
    "    plt.plot(x_data[peaks[0]],y1_data[peaks[0]], \"x\", color='red')\n",
    "    if len(peaks)>1:\n",
    "        plt.plot(x_data[peaks[1]],y1_data[peaks[1]], \"x\", color='red')\n",
    "\n",
    "    plt.show()\n",
    "    plt.clf()\n",
    "    if len(peaks)>1:\n",
    "        #distance_from_peaks=x_data[peaks[0]]\n",
    "\n",
    "        first_peak_startX=x_data[0]\n",
    "        fstartY=find_nearest_idx(x_data, first_peak_startX)\n",
    "        #print(fstartY,fendY)\n",
    "        first_peak_endX=x_data[peaks[0]]+((x_data[peaks[1]]-x_data[peaks[0]])/2 )\n",
    "        fendY=find_nearest_idx(x_data, first_peak_endX)\n",
    "        area_left = trapz(y1_data[fstartY:fendY], x_data[fstartY:fendY],dx=1)\n",
    "\n",
    "        second_peak_start=first_peak_endX\n",
    "        SstartY=find_nearest_idx(x_data, second_peak_start)\n",
    "        second_peak_end=x_data[peaks[1]]+((x_data[peaks[1]]-x_data[peaks[0]])/2 )\n",
    "        SendY=find_nearest_idx(x_data, second_peak_end)\n",
    "\n",
    "\n",
    "        area_right = trapz(y1_data[SstartY:SendY], x_data[SstartY:SendY],dx=1)\n",
    "\n",
    "        print('1o', area_left,area_right)\n",
    "    else:\n",
    "        distance_from_peaks=min(x_data[:peaks[0]])\n",
    "\n",
    "        first_peak_startX=x_data[0]\n",
    "        fstartY=find_nearest_idx(x_data, first_peak_startX)\n",
    "\n",
    "        first_peak_endX=x_data[peaks[0]]+((x_data[peaks[0]]-x_data[0])/2 )\n",
    "        fendY=find_nearest_idx(x_data, first_peak_endX)\n",
    "        area_left = trapz(y1_data[fstartY:fendY], x_data[fstartY:fendY],dx=1)\n",
    "\n",
    "        area_right=0\n",
    "        print(area_left,area_right)\n",
    "\n",
    "    res.append(YEAR_S)\n",
    "    if len(peaks)>1:\n",
    "        res.append(x_data[peaks[1]]-x_data[peaks[0]]) #partisanship_interval\n",
    "    else:\n",
    "        res.append(0)\n",
    "    res.append(area_left)\n",
    "    res.append( area_right)\n",
    "\n",
    "    new_df = pd.DataFrame([res])\n",
    "    df_polmetric = pd.concat([df_polmetric, new_df], axis=0, ignore_index=True)\n",
    "    "
   ]
  },
  {
   "cell_type": "code",
   "execution_count": 243,
   "metadata": {},
   "outputs": [
    {
     "data": {
      "text/html": [
       "<div>\n",
       "<style scoped>\n",
       "    .dataframe tbody tr th:only-of-type {\n",
       "        vertical-align: middle;\n",
       "    }\n",
       "\n",
       "    .dataframe tbody tr th {\n",
       "        vertical-align: top;\n",
       "    }\n",
       "\n",
       "    .dataframe thead th {\n",
       "        text-align: right;\n",
       "    }\n",
       "</style>\n",
       "<table border=\"1\" class=\"dataframe\">\n",
       "  <thead>\n",
       "    <tr style=\"text-align: right;\">\n",
       "      <th></th>\n",
       "      <th>year</th>\n",
       "      <th>partisanship_interval</th>\n",
       "      <th>left_probability</th>\n",
       "      <th>right_probability</th>\n",
       "    </tr>\n",
       "  </thead>\n",
       "  <tbody>\n",
       "    <tr>\n",
       "      <th>0</th>\n",
       "      <td>2016</td>\n",
       "      <td>0.000000</td>\n",
       "      <td>0.796333</td>\n",
       "      <td>0.000000</td>\n",
       "    </tr>\n",
       "    <tr>\n",
       "      <th>1</th>\n",
       "      <td>2017</td>\n",
       "      <td>0.754615</td>\n",
       "      <td>0.921295</td>\n",
       "      <td>0.066710</td>\n",
       "    </tr>\n",
       "    <tr>\n",
       "      <th>2</th>\n",
       "      <td>2018</td>\n",
       "      <td>0.000000</td>\n",
       "      <td>0.925906</td>\n",
       "      <td>0.000000</td>\n",
       "    </tr>\n",
       "    <tr>\n",
       "      <th>3</th>\n",
       "      <td>2019</td>\n",
       "      <td>0.648760</td>\n",
       "      <td>0.869321</td>\n",
       "      <td>0.127931</td>\n",
       "    </tr>\n",
       "    <tr>\n",
       "      <th>4</th>\n",
       "      <td>2020</td>\n",
       "      <td>1.058149</td>\n",
       "      <td>0.925769</td>\n",
       "      <td>0.073798</td>\n",
       "    </tr>\n",
       "  </tbody>\n",
       "</table>\n",
       "</div>"
      ],
      "text/plain": [
       "   year  partisanship_interval  left_probability  right_probability\n",
       "0  2016               0.000000          0.796333           0.000000\n",
       "1  2017               0.754615          0.921295           0.066710\n",
       "2  2018               0.000000          0.925906           0.000000\n",
       "3  2019               0.648760          0.869321           0.127931\n",
       "4  2020               1.058149          0.925769           0.073798"
      ]
     },
     "execution_count": 243,
     "metadata": {},
     "output_type": "execute_result"
    }
   ],
   "source": [
    "df_polmetric.columns='year','partisanship_interval', 'left_probability','right_probability'\n",
    "df_polmetric"
   ]
  },
  {
   "cell_type": "code",
   "execution_count": null,
   "metadata": {},
   "outputs": [],
   "source": [
    "#graficos tabela\n",
    "#graficos porlegislatura"
   ]
  }
 ],
 "metadata": {
  "kernelspec": {
   "display_name": "Python 3.9.12 ('base')",
   "language": "python",
   "name": "python3"
  },
  "language_info": {
   "codemirror_mode": {
    "name": "ipython",
    "version": 3
   },
   "file_extension": ".py",
   "mimetype": "text/x-python",
   "name": "python",
   "nbconvert_exporter": "python",
   "pygments_lexer": "ipython3",
   "version": "3.9.12"
  },
  "orig_nbformat": 4,
  "vscode": {
   "interpreter": {
    "hash": "ddb3f830e79c6f8e791b80246b7047706826e249abf27510d15251ed3cae5420"
   }
  }
 },
 "nbformat": 4,
 "nbformat_minor": 2
}
