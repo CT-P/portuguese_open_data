{
 "cells": [
  {
   "cell_type": "code",
   "execution_count": 1,
   "metadata": {},
   "outputs": [],
   "source": [
    "import pandas as pd\n",
    "import numpy as np\n",
    "#imports\n",
    "import warnings\n",
    "warnings.filterwarnings(\"ignore\")\n"
   ]
  },
  {
   "cell_type": "code",
   "execution_count": 2,
   "metadata": {},
   "outputs": [],
   "source": [
    "import sys\n",
    "# sys.path is a list of absolute path strings\n",
    "sys.path.append('c:\\\\Users\\\\caperei\\\\portuguese_open_data\\\\code\\\\deployment')\n",
    "import polarization_parliament.utils.data_utils as dtu\n",
    "import polarization_parliament.nlp.nlp_function as nlpf\n",
    "import polarization_parliament.polarization_model.polarized_terms as polr"
   ]
  },
  {
   "cell_type": "code",
   "execution_count": 3,
   "metadata": {},
   "outputs": [],
   "source": [
    "def get_table_polarized_terms_by_leg(file_leg): #\"speech_selected_13.csv\"\n",
    "    declaracoes2=dtu.read_pre_text(file_leg)\n",
    "    names_deputies, parties_=dtu.load_deputies_names('deputies_2015_now.csv')\n",
    "    dates_df=dtu.load_data_legis('datas_leg.csv')\n",
    "    declaracoes2=dtu.clean_partiesnames(declaracoes2)\n",
    "\n",
    "\n",
    "    declaracoes2=nlpf.remove_punctuation(declaracoes2)\n",
    "    declaracoes2=nlpf.remove_names_in_speech(declaracoes2,names_deputies,parties_)\n",
    "    declaracoes2=nlpf.create_tokens(declaracoes2)\n",
    "    declaracoes2=nlpf.create_grams(declaracoes2, 3)\n",
    "\n",
    "    declaracoes2=dtu.add_dates_main(declaracoes2, dates_df)\n",
    "    declaracoes2=dtu.extract_president_names(declaracoes2)\n",
    "\n",
    "    declaracoes3=polr.apply_polarization_model(declaracoes2)\n",
    "    df_final200=nlpf.create_200r(declaracoes3)\n",
    "    df_final200=nlpf.add_url_finaldf(df_final200,declaracoes2)\n",
    "\n",
    "    return declaracoes3, df_final200\n",
    "\n",
    "\n",
    "def get_table_shared_terms_by_leg(file_leg): #\"speech_selected_13.csv\"\n",
    "    declaracoes2=dtu.read_pre_text(file_leg)\n",
    "    names_deputies, parties_=dtu.load_deputies_names('deputies_2015_now.csv')\n",
    "    dates_df=dtu.load_data_legis('datas_leg.csv')\n",
    "    declaracoes2=dtu.clean_partiesnames(declaracoes2)\n",
    "\n",
    "\n",
    "    declaracoes2=nlpf.remove_punctuation(declaracoes2)\n",
    "    declaracoes2=nlpf.remove_names_in_speech(declaracoes2,names_deputies,parties_)\n",
    "    declaracoes2=nlpf.create_tokens(declaracoes2)\n",
    "    declaracoes2=nlpf.create_grams(declaracoes2, 3)\n",
    "\n",
    "    declaracoes2=dtu.add_dates_main(declaracoes2, dates_df)\n",
    "    declaracoes2=dtu.extract_president_names(declaracoes2)\n",
    "\n",
    "    declaracoes3=polr.apply_shared_issues(declaracoes2)\n",
    "    \n",
    "    \n",
    "    return declaracoes3, declaracoes2\n",
    "\n",
    "def get_minimal_count(n, name_file):\n",
    "    dates_df=dtu.load_data_legis(name_file) #'datas_leg.csv'\n",
    "    dates_df=dates_df[dates_df.legislatura==n]\n",
    "    dd=dates_df.groupby(['legislatura','session','number']).number.nunique()\n",
    "    dff=pd.DataFrame(pd.DataFrame(dd).groupby(['legislatura','session']).number.sum())\n",
    "    out_=dff.number.sum()\n",
    "    return int(0.1*out_)\n"
   ]
  },
  {
   "cell_type": "code",
   "execution_count": 8,
   "metadata": {},
   "outputs": [
    {
     "name": "stderr",
     "output_type": "stream",
     "text": [
      "[nltk_data] Downloading package stopwords to\n",
      "[nltk_data]     C:\\Users\\caperei\\AppData\\Roaming\\nltk_data...\n",
      "[nltk_data]   Package stopwords is already up-to-date!\n",
      "[nltk_data] Downloading package stopwords to\n",
      "[nltk_data]     C:\\Users\\caperei\\AppData\\Roaming\\nltk_data...\n",
      "[nltk_data]   Package stopwords is already up-to-date!\n"
     ]
    }
   ],
   "source": [
    "declaracoes13, df_final_13_200= get_table_polarized_terms_by_leg('speech_selected_13.csv')\n",
    "df_final_13_200.to_excel(\"output/polarized200_leg13.xlsx\")  \n",
    "\n",
    "declaracoes14, df_final_14_200= get_table_polarized_terms_by_leg('speech_selected_14.csv')\n",
    "df_final_14_200.to_excel(\"output/polarized200_leg14.xlsx\")  \n"
   ]
  },
  {
   "cell_type": "code",
   "execution_count": 4,
   "metadata": {},
   "outputs": [],
   "source": [
    "l13_cn=get_minimal_count(13, 'datas_leg.csv')\n",
    "l14_cn=get_minimal_count(14, 'datas_leg.csv')"
   ]
  },
  {
   "cell_type": "code",
   "execution_count": 5,
   "metadata": {},
   "outputs": [
    {
     "name": "stdout",
     "output_type": "stream",
     "text": [
      "Leg 13 inicio e fim:\n",
      " 2015-10-23 00:00:00 2019-10-09 00:00:00\n",
      "number of discourses: 410\n",
      "\n",
      "Leg 14 inicio e fim:\n",
      " 2015-10-23 00:00:00 2019-10-09 00:00:00\n",
      "number of discourses: 200\n"
     ]
    }
   ],
   "source": [
    "dates_df=dtu.load_data_legis('datas_leg.csv') #'datas_leg.csv'\n",
    "dates_df['date']=pd.to_datetime(dates_df['date'], format='%d/%m/%Y')\n",
    "print('Leg 13 inicio e fim:\\n',dates_df[dates_df.legislatura==13].date.min(), dates_df[dates_df.legislatura==13].date.max())\n",
    "print('number of discourses:',l13_cn*10)\n",
    "\n",
    "print('\\nLeg 14 inicio e fim:\\n',dates_df[dates_df.legislatura==13].date.min(), dates_df[dates_df.legislatura==13].date.max())\n",
    "print('number of discourses:',l14_cn*10)"
   ]
  },
  {
   "cell_type": "code",
   "execution_count": 6,
   "metadata": {},
   "outputs": [
    {
     "name": "stderr",
     "output_type": "stream",
     "text": [
      "[nltk_data] Downloading package stopwords to\n",
      "[nltk_data]     C:\\Users\\caperei\\AppData\\Roaming\\nltk_data...\n",
      "[nltk_data]   Package stopwords is already up-to-date!\n"
     ]
    }
   ],
   "source": [
    "df_shared_13, df_url_13=get_table_shared_terms_by_leg(\"speech_selected_13.csv\") #\"speech_selected_13.csv\"\n",
    "df_shared_14, df_url_14=get_table_shared_terms_by_leg(\"speech_selected_14.csv\") #\"speech_selected_13.csv\""
   ]
  },
  {
   "cell_type": "code",
   "execution_count": 7,
   "metadata": {},
   "outputs": [
    {
     "data": {
      "text/plain": [
       "0.25     99.0\n",
       "0.50    123.0\n",
       "0.75    179.0\n",
       "Name: count, dtype: float64"
      ]
     },
     "execution_count": 7,
     "metadata": {},
     "output_type": "execute_result"
    },
    {
     "data": {
      "image/png": "[encoded data removed]",
      "text/plain": [
       "<Figure size 432x288 with 1 Axes>"
      ]
     },
     "metadata": {
      "needs_background": "light"
     },
     "output_type": "display_data"
    }
   ],
   "source": [
    "#Selection first on number of times the words are spoken\n",
    "\n",
    "#count of trigrams bigger than 20% of the number of sessions (total of 410 sessions in leg13)\n",
    "#spoken at least in 20% of the sessions\n",
    "#df_shared_13[df_shared_13['count']>82]['count'].hist()\n",
    "#clipping outliers visually fetch from historgram\n",
    "#remove highly spoken works\n",
    "df_shared_13[(df_shared_13['count']>82) & (df_shared_13['count']<600)]['count'].hist()\n",
    "\n",
    "df_shared_13[(df_shared_13['count']>82) & (df_shared_13['count']<600)]['count'].quantile([0.25,0.5,0.75])\n",
    "\n",
    "#conclusion: selection between Q1 and Q3: 96<count<134"
   ]
  },
  {
   "cell_type": "code",
   "execution_count": 8,
   "metadata": {},
   "outputs": [
    {
     "data": {
      "text/plain": [
       "0.25   -0.000010\n",
       "0.50   -0.000002\n",
       "0.75    0.000005\n",
       "Name: gram_partisanship, dtype: float64"
      ]
     },
     "execution_count": 8,
     "metadata": {},
     "output_type": "execute_result"
    },
    {
     "data": {
      "image/png": "[encoded data removed]",
      "text/plain": [
       "<Figure size 432x288 with 1 Axes>"
      ]
     },
     "metadata": {
      "needs_background": "light"
     },
     "output_type": "display_data"
    }
   ],
   "source": [
    "#Selection from the partisanship\n",
    "\n",
    "#count of trigrams bigger than 20% of the number of sessions (total of 410 sessions in leg13)\n",
    "#spoken at least in 20% of the sessions\n",
    "#declaracoes13[declaracoes13['count']>82]['count'].hist()\n",
    "#clipping outliers visually fetch from historgram\n",
    "#remove highly spoken works\n",
    "df_shared_13[(df_shared_13['count']>99) & (df_shared_13['count']<179)]['gram_partisanship'].hist()\n",
    "\n",
    "df_shared_13[(df_shared_13['count']>99) & (df_shared_13['count']<179)]['gram_partisanship'].quantile([0.25,0.5,0.75])\n",
    "\n",
    "#conclusion: selection between Q1 and Q3: 96<count<134"
   ]
  },
  {
   "cell_type": "code",
   "execution_count": 9,
   "metadata": {},
   "outputs": [],
   "source": [
    "df_shared_13_final=df_shared_13[(df_shared_13['count']>99) & (df_shared_13['count']<179)& (df_shared_13['gram_partisanship']>-0.000010) & (df_shared_13['gram_partisanship']<0.000005)]\n",
    "\n",
    "df_finalshared=nlpf.add_url_finaldf(df_shared_13_final,df_url_13)\n",
    "df_finalshared.to_excel(\"output/df_shared_13_final.xlsx\")  "
   ]
  },
  {
   "cell_type": "code",
   "execution_count": 32,
   "metadata": {},
   "outputs": [
    {
     "ename": "KeyboardInterrupt",
     "evalue": "",
     "output_type": "error",
     "traceback": [
      "\u001b[1;31m---------------------------------------------------------------------------\u001b[0m",
      "\u001b[1;31mKeyboardInterrupt\u001b[0m                         Traceback (most recent call last)",
      "\u001b[1;32m<ipython-input-32-9213a4a03414>\u001b[0m in \u001b[0;36m<module>\u001b[1;34m\u001b[0m\n\u001b[0;32m      5\u001b[0m \u001b[1;32mfor\u001b[0m \u001b[0mn\u001b[0m\u001b[1;33m,\u001b[0m\u001b[0mx\u001b[0m \u001b[1;32min\u001b[0m \u001b[0menumerate\u001b[0m\u001b[1;33m(\u001b[0m\u001b[0mtri_final\u001b[0m\u001b[1;33m.\u001b[0m\u001b[0mphrase\u001b[0m\u001b[1;33m)\u001b[0m\u001b[1;33m:\u001b[0m\u001b[1;33m\u001b[0m\u001b[1;33m\u001b[0m\u001b[0m\n\u001b[0;32m      6\u001b[0m \u001b[1;33m\u001b[0m\u001b[0m\n\u001b[1;32m----> 7\u001b[1;33m     \u001b[0ma\u001b[0m\u001b[1;33m=\u001b[0m\u001b[1;33m[\u001b[0m\u001b[0mi\u001b[0m\u001b[1;33m.\u001b[0m\u001b[0mcount\u001b[0m\u001b[1;33m(\u001b[0m\u001b[0mx\u001b[0m\u001b[1;33m)\u001b[0m \u001b[1;32mfor\u001b[0m \u001b[0mi\u001b[0m \u001b[1;32min\u001b[0m \u001b[0mdf_url_13\u001b[0m\u001b[1;33m.\u001b[0m\u001b[0mtri_grams\u001b[0m\u001b[1;33m]\u001b[0m\u001b[1;33m\u001b[0m\u001b[1;33m\u001b[0m\u001b[0m\n\u001b[0m\u001b[0;32m      8\u001b[0m     \u001b[0mindexes\u001b[0m\u001b[1;33m=\u001b[0m\u001b[0mnp\u001b[0m\u001b[1;33m.\u001b[0m\u001b[0mwhere\u001b[0m\u001b[1;33m(\u001b[0m\u001b[0mnp\u001b[0m\u001b[1;33m.\u001b[0m\u001b[0marray\u001b[0m\u001b[1;33m(\u001b[0m\u001b[0ma\u001b[0m\u001b[1;33m)\u001b[0m \u001b[1;33m>=\u001b[0m \u001b[1;36m3\u001b[0m\u001b[1;33m)\u001b[0m\u001b[1;33m[\u001b[0m\u001b[1;36m0\u001b[0m\u001b[1;33m]\u001b[0m\u001b[1;33m\u001b[0m\u001b[1;33m\u001b[0m\u001b[0m\n\u001b[0;32m      9\u001b[0m     \u001b[0mlist_links\u001b[0m\u001b[1;33m=\u001b[0m\u001b[1;33m[\u001b[0m\u001b[1;33m]\u001b[0m\u001b[1;33m\u001b[0m\u001b[1;33m\u001b[0m\u001b[0m\n",
      "\u001b[1;32m<ipython-input-32-9213a4a03414>\u001b[0m in \u001b[0;36m<listcomp>\u001b[1;34m(.0)\u001b[0m\n\u001b[0;32m      5\u001b[0m \u001b[1;32mfor\u001b[0m \u001b[0mn\u001b[0m\u001b[1;33m,\u001b[0m\u001b[0mx\u001b[0m \u001b[1;32min\u001b[0m \u001b[0menumerate\u001b[0m\u001b[1;33m(\u001b[0m\u001b[0mtri_final\u001b[0m\u001b[1;33m.\u001b[0m\u001b[0mphrase\u001b[0m\u001b[1;33m)\u001b[0m\u001b[1;33m:\u001b[0m\u001b[1;33m\u001b[0m\u001b[1;33m\u001b[0m\u001b[0m\n\u001b[0;32m      6\u001b[0m \u001b[1;33m\u001b[0m\u001b[0m\n\u001b[1;32m----> 7\u001b[1;33m     \u001b[0ma\u001b[0m\u001b[1;33m=\u001b[0m\u001b[1;33m[\u001b[0m\u001b[0mi\u001b[0m\u001b[1;33m.\u001b[0m\u001b[0mcount\u001b[0m\u001b[1;33m(\u001b[0m\u001b[0mx\u001b[0m\u001b[1;33m)\u001b[0m \u001b[1;32mfor\u001b[0m \u001b[0mi\u001b[0m \u001b[1;32min\u001b[0m \u001b[0mdf_url_13\u001b[0m\u001b[1;33m.\u001b[0m\u001b[0mtri_grams\u001b[0m\u001b[1;33m]\u001b[0m\u001b[1;33m\u001b[0m\u001b[1;33m\u001b[0m\u001b[0m\n\u001b[0m\u001b[0;32m      8\u001b[0m     \u001b[0mindexes\u001b[0m\u001b[1;33m=\u001b[0m\u001b[0mnp\u001b[0m\u001b[1;33m.\u001b[0m\u001b[0mwhere\u001b[0m\u001b[1;33m(\u001b[0m\u001b[0mnp\u001b[0m\u001b[1;33m.\u001b[0m\u001b[0marray\u001b[0m\u001b[1;33m(\u001b[0m\u001b[0ma\u001b[0m\u001b[1;33m)\u001b[0m \u001b[1;33m>=\u001b[0m \u001b[1;36m3\u001b[0m\u001b[1;33m)\u001b[0m\u001b[1;33m[\u001b[0m\u001b[1;36m0\u001b[0m\u001b[1;33m]\u001b[0m\u001b[1;33m\u001b[0m\u001b[1;33m\u001b[0m\u001b[0m\n\u001b[0;32m      9\u001b[0m     \u001b[0mlist_links\u001b[0m\u001b[1;33m=\u001b[0m\u001b[1;33m[\u001b[0m\u001b[1;33m]\u001b[0m\u001b[1;33m\u001b[0m\u001b[1;33m\u001b[0m\u001b[0m\n",
      "\u001b[1;31mKeyboardInterrupt\u001b[0m: "
     ]
    }
   ],
   "source": [
    "import datetime\n",
    "tri_final=df_shared_13_final\n",
    "tri_final['reference'] = [[]] * tri_final.shape[0]\n",
    "tri_final=tri_final.reset_index()\n",
    "for n,x in enumerate(tri_final.phrase):\n",
    "    \n",
    "    a=[i.count(x) for i in df_url_13.tri_grams]\n",
    "    indexes=np.where(np.array(a) >= 3)[0]\n",
    "    list_links=[]\n",
    "    for i in indexes:\n",
    "        number=nlpf.add_zeros(df_url_13.iloc[i].number ) \n",
    "        legislature=df_url_13.iloc[i].legislatura \n",
    "        session=df_url_13.iloc[i].session \n",
    "        date=datetime.datetime.strptime(df_url_13.iloc[i].date , '%d/%m/%Y').strftime('%Y-%m-%d')\n",
    "        url_=f'https://debates.parlamento.pt/catalogo/r3/dar/01/{legislature}/{session}/{number}/{date}' \n",
    "        list_links.append(url_)\n",
    "        #print(n, list_links)\n",
    "    if list_links==[]:\n",
    "        list_links=['does not appear more than 3 times']\n",
    "    \n",
    "    tri_final['reference'][n]=list_links"
   ]
  },
  {
   "cell_type": "code",
   "execution_count": null,
   "metadata": {},
   "outputs": [],
   "source": [
    "#14"
   ]
  },
  {
   "cell_type": "code",
   "execution_count": 18,
   "metadata": {},
   "outputs": [
    {
     "name": "stderr",
     "output_type": "stream",
     "text": [
      "[nltk_data] Downloading package stopwords to\n",
      "[nltk_data]     C:\\Users\\caperei\\AppData\\Roaming\\nltk_data...\n",
      "[nltk_data]   Package stopwords is already up-to-date!\n"
     ]
    }
   ],
   "source": [
    "df_shared_14=get_table_shared_terms_by_leg(\"speech_selected_14.csv\") #\"speech_selected_13.csv\""
   ]
  },
  {
   "cell_type": "code",
   "execution_count": 22,
   "metadata": {},
   "outputs": [
    {
     "data": {
      "text/plain": [
       "0.25    48.0\n",
       "0.50    62.0\n",
       "0.75    95.0\n",
       "Name: count, dtype: float64"
      ]
     },
     "execution_count": 22,
     "metadata": {},
     "output_type": "execute_result"
    },
    {
     "data": {
      "image/png": "[encoded data removed]",
      "text/plain": [
       "<Figure size 432x288 with 1 Axes>"
      ]
     },
     "metadata": {
      "needs_background": "light"
     },
     "output_type": "display_data"
    }
   ],
   "source": [
    "#Selection first on number of times the words are spoken\n",
    "\n",
    "#count of trigrams bigger than 20% of the number of sessions (total of 200 sessions in leg14)\n",
    "#spoken at least in 20% of the sessions\n",
    "#df_shared_14[df_shared_14['count']>40]['count'].hist()\n",
    "#clipping outliers visually fetch from historgram\n",
    "#remove highly spoken works\n",
    "df_shared_14[(df_shared_14['count']>40) & (df_shared_14['count']<400)]['count'].hist()\n",
    "\n",
    "df_shared_14[(df_shared_14['count']>40) & (df_shared_14['count']<400)]['count'].quantile([0.25,0.5,0.75])\n",
    "\n",
    "#conclusion: selection between Q1 and Q3: 96<count<134"
   ]
  },
  {
   "cell_type": "code",
   "execution_count": 25,
   "metadata": {},
   "outputs": [
    {
     "data": {
      "text/plain": [
       "0.25   -0.000007\n",
       "0.50   -0.000002\n",
       "0.75    0.000004\n",
       "Name: gram_partisanship, dtype: float64"
      ]
     },
     "execution_count": 25,
     "metadata": {},
     "output_type": "execute_result"
    },
    {
     "data": {
      "image/png": "[encoded data removed]",
      "text/plain": [
       "<Figure size 432x288 with 1 Axes>"
      ]
     },
     "metadata": {
      "needs_background": "light"
     },
     "output_type": "display_data"
    }
   ],
   "source": [
    "#Selection from the partisanship\n",
    "\n",
    "#count of trigrams bigger than 20% of the number of sessions (total of 410 sessions in leg13)\n",
    "#spoken at least in 20% of the sessions\n",
    "#declaracoes13[declaracoes13['count']>82]['count'].hist()\n",
    "#clipping outliers visually fetch from historgram\n",
    "#remove highly spoken works\n",
    "df_shared_14[(df_shared_14['count']>48) & (df_shared_14['count']<95)]['gram_partisanship'].hist()\n",
    "\n",
    "df_shared_14[(df_shared_14['count']>48) & (df_shared_14['count']<95)]['gram_partisanship'].quantile([0.25,0.5,0.75])\n",
    "\n",
    "#conclusion: selection between Q1 and Q3: 96<count<134"
   ]
  },
  {
   "cell_type": "code",
   "execution_count": 26,
   "metadata": {},
   "outputs": [],
   "source": [
    "df_shared_14_final=df_shared_14[(df_shared_14['count']>48) & (df_shared_14['count']<95)& (df_shared_14['gram_partisanship']>-0.000007) & (df_shared_14['gram_partisanship']<0.000004)]\n",
    "\n",
    "\n",
    "df_finalshared14=nlpf.add_url_finaldf(df_shared_14_final,df_url_14)\n",
    "df_finalshared14.to_excel(\"output/df_shared_14_final.xlsx\")  \n"
   ]
  },
  {
   "cell_type": "markdown",
   "metadata": {},
   "source": []
  },
  {
   "cell_type": "code",
   "execution_count": 5,
   "metadata": {},
   "outputs": [
    {
     "data": {
      "image/png": "[encoded data removed]",
      "text/plain": [
       "<Figure size 1440x360 with 1 Axes>"
      ]
     },
     "metadata": {
      "needs_background": "light"
     },
     "output_type": "display_data"
    }
   ],
   "source": [
    "plt.figure(figsize=(20,5))\n",
    "with sns.plotting_context(\"notebook\",font_scale=1.5):\n",
    "    sns.scatterplot(x=\"beta_polarization\",y='count',s=100,\n",
    "                data=df_final200)"
   ]
  },
  {
   "cell_type": "code",
   "execution_count": null,
   "metadata": {},
   "outputs": [],
   "source": [
    "#create link\n",
    "discutidos_final['reference'] = [[]] * discutidos_final.shape[0]\n",
    "for n,x in enumerate(discutidos_final.phrase):\n",
    "    a=[i.count(x) for i in declaracoes2.tri_grams]\n",
    "    indexes=np.where(np.array(a) >= 3)[0]\n",
    "    list_links=[]\n",
    "    for i in indexes:\n",
    "        number=add_zeros(declaracoes2.iloc[i].number ) \n",
    "        legislature=declaracoes2.iloc[i].legislatura \n",
    "        session=declaracoes2.iloc[i].session \n",
    "        date=datetime.datetime.strptime(declaracoes2.iloc[i].date , '%d/%m/%Y').strftime('%Y-%m-%d')\n",
    "        url_=f'https://debates.parlamento.pt/catalogo/r3/dar/01/{legislature}/{session}/{number}/{date}' \n",
    "        list_links.append(url_)\n",
    "    if list_links==[]:\n",
    "        list_links=['does not appear more than 3 times']\n",
    "\n",
    "    discutidos_final.iloc[n, discutidos_final.columns.get_loc('reference')].append(list(set(list_links)))"
   ]
  },
  {
   "cell_type": "code",
   "execution_count": null,
   "metadata": {},
   "outputs": [],
   "source": [
    "discutidos_final.to_csv('temas_discutidos.csv')"
   ]
  },
  {
   "cell_type": "code",
   "execution_count": null,
   "metadata": {},
   "outputs": [],
   "source": []
  }
 ],
 "metadata": {
  "interpreter": {
   "hash": "e152dfdee28af8a479f12678d905829ccdbbe8fcec57885e1fc64b78cf4fda49"
  },
  "kernelspec": {
   "display_name": "Python 3.8.11 64-bit ('base': conda)",
   "language": "python",
   "name": "python3"
  },
  "language_info": {
   "codemirror_mode": {
    "name": "ipython",
    "version": 3
   },
   "file_extension": ".py",
   "mimetype": "text/x-python",
   "name": "python",
   "nbconvert_exporter": "python",
   "pygments_lexer": "ipython3",
   "version": "3.8.12"
  },
  "orig_nbformat": 4
 },
 "nbformat": 4,
 "nbformat_minor": 2
}
