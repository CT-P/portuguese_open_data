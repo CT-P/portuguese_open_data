{
 "cells": [
  {
   "cell_type": "code",
   "execution_count": 1,
   "metadata": {},
   "outputs": [],
   "source": [
    "import os\n",
    "import glob\n",
    "import pandas as pd\n",
    "import re"
   ]
  },
  {
   "cell_type": "code",
   "execution_count": 2,
   "metadata": {},
   "outputs": [],
   "source": [
    "conjunto_dados = pd.DataFrame()\n",
    "\n",
    "SPEAKER_REGEX = re.compile(r'[A|O] Sr\\.ª?( [\\w\\-,]+)+([\\-\\w]+)?( \\([\\w\\s\\.,\\-]+\\))*(?=:)')\n",
    "MULTILINE_SPEAKER_REGEX = re.compile(\"^\" + SPEAKER_REGEX.pattern, flags=re.M) \n",
    "\n",
    "for file in os.scandir(\"./discursos\"):\n",
    "    speech_by_speaker = []\n",
    "\n",
    "    with open(file, encoding=\"utf8\") as fp:\n",
    "        content = fp.read()\n",
    "\n",
    "        #1)remove dates and numbers\n",
    "\n",
    "        datas_texto = re.compile(\"\\d{1,2} [A-Z]+ [A-Z]+ [A-Z]+ \\d{4} (\\n\\n\\d+)?\")\n",
    "        datas_texto.sub(\" \", content)\n",
    "\n",
    "        series_numeros = re.compile(\"[A-Z]+ SÉRIE \\W NÚMERO \\d+ (\\n+\\d+)?\")\n",
    "        series_numeros.sub(\" \", content)\n",
    "\n",
    "        #2) criar dicionario de intervencoes para criar dataframe\n",
    "\n",
    "        #2.1) identificar os intervenientes e intervencoes correspondentes\n",
    "\n",
    "        deputadxs = MULTILINE_SPEAKER_REGEX.finditer(content) \n",
    "        deputadxs = [match.group() for match in deputadxs]\n",
    "        deputadxs = list(set(deputadxs))\n",
    "\n",
    "        #deputadxs = [deputadxs[5]]\n",
    "        #print(deputadxs)\n",
    "\n",
    "        content_on_one_line = ''.join(content.splitlines())\n",
    "\n",
    "        for speaker in deputadxs:\n",
    "            content_split_by_speaker = content_on_one_line.split(speaker + ':')\n",
    "            # Get rid of everything before they speak\n",
    "            content_split_by_speaker.pop(0)\n",
    "\n",
    "            # what_they_say = [speech for speech in speaker_regex]\n",
    "            # for each line in content_split_by_speaker\n",
    "            # use the speaker regex to find the next speaker and get everything before that\n",
    "            for line in content_split_by_speaker:\n",
    "                start_of_next_speaker = SPEAKER_REGEX.finditer(line)\n",
    "\n",
    "                # either an index or None\n",
    "                # if it's None, either:\n",
    "                # - the regex isn't accurate enough; or\n",
    "                # - the speaker is the only person to speak]\n",
    "                next_speaker_indexes = [match.start() for match in start_of_next_speaker]\n",
    "                next_speaker_index = next_speaker_indexes[0] if len(next_speaker_indexes) > 0 else None\n",
    "\n",
    "                speech = line[0:next_speaker_index] if next_speaker_index is not None else line\n",
    "                speech_by_speaker.append((speaker, speech))\n",
    "\n",
    "                # if \"):\" in speech:\n",
    "                #     print(speech)\n",
    "        \n",
    "        df = pd.DataFrame.from_records(speech_by_speaker, columns=[\"speaker\", \"speech\"])#.reset_index()\n",
    "        df['filename'] = os.path.basename(file)\n",
    "        #print(df)\n",
    "                \n",
    "        conjunto_dados = pd.concat([conjunto_dados, df])\n",
    "conjunto_dados.to_pickle('conjunto_dados.pkl')  \n",
    "#conjunto_dados = pd.read_pickle('conjunto_dados.pkl')          \n",
    "#conjunto_dados#.to_csv(\"deputados.csv\")#, index=False)\n",
    "    "
   ]
  },
  {
   "cell_type": "code",
   "execution_count": 7,
   "metadata": {},
   "outputs": [
    {
     "data": {
      "text/plain": [
       "619"
      ]
     },
     "execution_count": 7,
     "metadata": {},
     "output_type": "execute_result"
    }
   ],
   "source": [
    "conjunto_dados.filename.nunique()"
   ]
  },
  {
   "cell_type": "code",
   "execution_count": 4,
   "metadata": {},
   "outputs": [
    {
     "data": {
      "text/html": [
       "<div>\n",
       "<style scoped>\n",
       "    .dataframe tbody tr th:only-of-type {\n",
       "        vertical-align: middle;\n",
       "    }\n",
       "\n",
       "    .dataframe tbody tr th {\n",
       "        vertical-align: top;\n",
       "    }\n",
       "\n",
       "    .dataframe thead th {\n",
       "        text-align: right;\n",
       "    }\n",
       "</style>\n",
       "<table border=\"1\" class=\"dataframe\">\n",
       "  <thead>\n",
       "    <tr style=\"text-align: right;\">\n",
       "      <th></th>\n",
       "      <th>speaker</th>\n",
       "      <th>speech</th>\n",
       "      <th>filename</th>\n",
       "    </tr>\n",
       "  </thead>\n",
       "  <tbody>\n",
       "    <tr>\n",
       "      <th>211</th>\n",
       "      <td>O Sr. António Filipe (PCP)</td>\n",
       "      <td>— Sr. Presidente, Srs. Membros do Governo, Sr...</td>\n",
       "      <td>darl14sl01n042.txt</td>\n",
       "    </tr>\n",
       "    <tr>\n",
       "      <th>212</th>\n",
       "      <td>O Sr. João Pinho de Almeida (CDS-PP)</td>\n",
       "      <td>— Muito bem!</td>\n",
       "      <td>darl14sl01n042.txt</td>\n",
       "    </tr>\n",
       "    <tr>\n",
       "      <th>213</th>\n",
       "      <td>O Sr. João Pinho de Almeida (CDS-PP)</td>\n",
       "      <td>— Muito bem!</td>\n",
       "      <td>darl14sl01n042.txt</td>\n",
       "    </tr>\n",
       "  </tbody>\n",
       "</table>\n",
       "</div>"
      ],
      "text/plain": [
       "                                  speaker  \\\n",
       "211            O Sr. António Filipe (PCP)   \n",
       "212  O Sr. João Pinho de Almeida (CDS-PP)   \n",
       "213  O Sr. João Pinho de Almeida (CDS-PP)   \n",
       "\n",
       "                                                speech            filename  \n",
       "211   — Sr. Presidente, Srs. Membros do Governo, Sr...  darl14sl01n042.txt  \n",
       "212                                      — Muito bem!   darl14sl01n042.txt  \n",
       "213                                      — Muito bem!   darl14sl01n042.txt  "
      ]
     },
     "execution_count": 4,
     "metadata": {},
     "output_type": "execute_result"
    }
   ],
   "source": [
    "conjunto_dados.tail(3)"
   ]
  },
  {
   "cell_type": "code",
   "execution_count": 5,
   "metadata": {},
   "outputs": [
    {
     "name": "stderr",
     "output_type": "stream",
     "text": [
      "C:\\Users\\trind\\AppData\\Local\\Temp\\ipykernel_6612\\4253914740.py:9: FutureWarning: The default value of regex will change from True to False in a future version.\n",
      "  partidos_raw[\"speaker\"] = partidos_raw[\"speaker\"].str.replace(r\"[A|O] Sr\\.ª? \", \"\")\n"
     ]
    }
   ],
   "source": [
    "conjunto_dados[\"speech\"] = [string.lstrip(\"— \") for string in conjunto_dados[\"speech\"]]\n",
    "\n",
    "\n",
    "partidos_raw = conjunto_dados[\"speaker\"].str.split(\"(\", n=1, expand=True)\n",
    "partidos_raw.columns = [\"speaker\", \"partido\"]\n",
    "partidos_raw[\"partido\"] = partidos_raw[\"partido\"].str.rstrip(\")\")\n",
    "partidos_raw[\"speech\"] = conjunto_dados[\"speech\"]\n",
    "partidos_raw[\"filename\"] = conjunto_dados[\"filename\"]\n",
    "partidos_raw[\"speaker\"] = partidos_raw[\"speaker\"].str.replace(r\"[A|O] Sr\\.ª? \", \"\")\n",
    "partidos_raw[\"speaker\"] = partidos_raw[\"speaker\"].str.rstrip(\" \")\n",
    "#conjunto_dados = conjunto_dados.merge(partidos_raw, how=\"right\", on=\"speaker\") it was breaking (maybe memory issues?)\n",
    "\n",
    "#partidos_raw.to_csv(\"deputados.csv\", index=False)"
   ]
  },
  {
   "cell_type": "code",
   "execution_count": 6,
   "metadata": {},
   "outputs": [
    {
     "data": {
      "text/html": [
       "<div>\n",
       "<style scoped>\n",
       "    .dataframe tbody tr th:only-of-type {\n",
       "        vertical-align: middle;\n",
       "    }\n",
       "\n",
       "    .dataframe tbody tr th {\n",
       "        vertical-align: top;\n",
       "    }\n",
       "\n",
       "    .dataframe thead th {\n",
       "        text-align: right;\n",
       "    }\n",
       "</style>\n",
       "<table border=\"1\" class=\"dataframe\">\n",
       "  <thead>\n",
       "    <tr style=\"text-align: right;\">\n",
       "      <th></th>\n",
       "      <th>speaker</th>\n",
       "      <th>partido</th>\n",
       "      <th>speech</th>\n",
       "      <th>filename</th>\n",
       "      <th>number</th>\n",
       "      <th>session</th>\n",
       "      <th>legislatura</th>\n",
       "    </tr>\n",
       "  </thead>\n",
       "  <tbody>\n",
       "    <tr>\n",
       "      <th>0</th>\n",
       "      <td>presidente</td>\n",
       "      <td>None</td>\n",
       "      <td>Sr.as e Srs. Deputados, ao assumir a direção d...</td>\n",
       "      <td>darl13sl01n001.txt</td>\n",
       "      <td>001</td>\n",
       "      <td>01</td>\n",
       "      <td>13</td>\n",
       "    </tr>\n",
       "    <tr>\n",
       "      <th>1</th>\n",
       "      <td>presidente</td>\n",
       "      <td>None</td>\n",
       "      <td>Tem a palavra o Sr. Deputado Ferro Rodrigues.</td>\n",
       "      <td>darl13sl01n001.txt</td>\n",
       "      <td>001</td>\n",
       "      <td>01</td>\n",
       "      <td>13</td>\n",
       "    </tr>\n",
       "    <tr>\n",
       "      <th>2</th>\n",
       "      <td>presidente</td>\n",
       "      <td>None</td>\n",
       "      <td>Sr.as e Srs. Deputados, o Sr. Secretário vai p...</td>\n",
       "      <td>darl13sl01n001.txt</td>\n",
       "      <td>001</td>\n",
       "      <td>01</td>\n",
       "      <td>13</td>\n",
       "    </tr>\n",
       "    <tr>\n",
       "      <th>3</th>\n",
       "      <td>presidente</td>\n",
       "      <td>None</td>\n",
       "      <td>Srs. Deputados, o projeto de resolução está em...</td>\n",
       "      <td>darl13sl01n001.txt</td>\n",
       "      <td>001</td>\n",
       "      <td>01</td>\n",
       "      <td>13</td>\n",
       "    </tr>\n",
       "    <tr>\n",
       "      <th>4</th>\n",
       "      <td>presidente</td>\n",
       "      <td>None</td>\n",
       "      <td>Srs. Deputados, penso que não há objeções, pel...</td>\n",
       "      <td>darl13sl01n001.txt</td>\n",
       "      <td>001</td>\n",
       "      <td>01</td>\n",
       "      <td>13</td>\n",
       "    </tr>\n",
       "  </tbody>\n",
       "</table>\n",
       "</div>"
      ],
      "text/plain": [
       "      speaker partido                                             speech  \\\n",
       "0  presidente    None  Sr.as e Srs. Deputados, ao assumir a direção d...   \n",
       "1  presidente    None     Tem a palavra o Sr. Deputado Ferro Rodrigues.    \n",
       "2  presidente    None  Sr.as e Srs. Deputados, o Sr. Secretário vai p...   \n",
       "3  presidente    None  Srs. Deputados, o projeto de resolução está em...   \n",
       "4  presidente    None  Srs. Deputados, penso que não há objeções, pel...   \n",
       "\n",
       "             filename number session legislatura  \n",
       "0  darl13sl01n001.txt    001      01          13  \n",
       "1  darl13sl01n001.txt    001      01          13  \n",
       "2  darl13sl01n001.txt    001      01          13  \n",
       "3  darl13sl01n001.txt    001      01          13  \n",
       "4  darl13sl01n001.txt    001      01          13  "
      ]
     },
     "execution_count": 6,
     "metadata": {},
     "output_type": "execute_result"
    }
   ],
   "source": [
    "partidos_raw['number']=[ii[11:14] for ii in partidos_raw.filename]\n",
    "partidos_raw['session']=[ii[8:10] for ii in partidos_raw.filename]\n",
    "partidos_raw['legislatura']=[ii[4:6] for ii in partidos_raw.filename]\n",
    "partidos_raw['speaker'] = partidos_raw['speaker'].str.lower()\n",
    "partidos_raw.head()"
   ]
  },
  {
   "cell_type": "code",
   "execution_count": 9,
   "metadata": {},
   "outputs": [],
   "source": [
    "partidos_raw['number']=pd.to_numeric(partidos_raw['number'])\n",
    "partidos_raw.columns=['speaker', 'partido', 'speech', 'filename', 'number', 'session',\n",
    "       'term']"
   ]
  },
  {
   "cell_type": "code",
   "execution_count": 7,
   "metadata": {},
   "outputs": [],
   "source": [
    "dates_term=pd.read_csv('discursos/dates_terms.csv')"
   ]
  },
  {
   "cell_type": "code",
   "execution_count": 20,
   "metadata": {},
   "outputs": [
    {
     "data": {
      "text/plain": [
       "Date        object\n",
       "pages        int64\n",
       "term         int64\n",
       "session      int64\n",
       "number     float64\n",
       "dtype: object"
      ]
     },
     "execution_count": 20,
     "metadata": {},
     "output_type": "execute_result"
    }
   ],
   "source": [
    "\n",
    "dates_term['number']=pd.to_numeric(dates_term['number'],errors='coerce')\n",
    "dates_term=dates_term.dropna()\n",
    "dates_term.dtypes"
   ]
  },
  {
   "cell_type": "code",
   "execution_count": 28,
   "metadata": {},
   "outputs": [
    {
     "data": {
      "text/plain": [
       "speaker     object\n",
       "partido     object\n",
       "speech      object\n",
       "filename    object\n",
       "number       int64\n",
       "session      int64\n",
       "term         int64\n",
       "dtype: object"
      ]
     },
     "execution_count": 28,
     "metadata": {},
     "output_type": "execute_result"
    }
   ],
   "source": [
    "\n",
    "\n",
    "partidos_raw['number']=pd.to_numeric(partidos_raw['number'],errors='coerce')\n",
    "partidos_raw['session']=pd.to_numeric(partidos_raw['session'],errors='coerce')\n",
    "partidos_raw['term']=pd.to_numeric(partidos_raw['term'],errors='coerce')\n",
    "\n",
    "partidos_raw1=partidos_raw[partidos_raw['number'].notna()]\n",
    "partidos_raw1=partidos_raw[partidos_raw['session'].notna()]\n",
    "partidos_raw1=partidos_raw[partidos_raw['term'].notna()]\n",
    "\n",
    "\n",
    "\n",
    "partidos_raw1.dtypes"
   ]
  },
  {
   "cell_type": "code",
   "execution_count": 35,
   "metadata": {},
   "outputs": [],
   "source": [
    "speeches_raw=partidos_raw1.merge(dates_term, on=['term','session','number'], how='left')"
   ]
  },
  {
   "cell_type": "code",
   "execution_count": 40,
   "metadata": {},
   "outputs": [
    {
     "data": {
      "text/plain": [
       "Index(['speaker', 'partido', 'speech', 'filename', 'number', 'session', 'term',\n",
       "       'Date', 'pages'],\n",
       "      dtype='object')"
      ]
     },
     "execution_count": 40,
     "metadata": {},
     "output_type": "execute_result"
    }
   ],
   "source": [
    "speeches_raw.columns"
   ]
  },
  {
   "cell_type": "code",
   "execution_count": 60,
   "metadata": {},
   "outputs": [],
   "source": [
    "#speeches_raw['clean_speaker']=speeches_raw['speaker'].str.replace(r'[^\\w\\s]+', '')\n",
    "speeches_raw['clean_speaker']=speeches_raw['speaker'].str.lower()\n",
    "speeches_raw['clean_speaker']=speeches_raw['clean_speaker'].str.replace('ç','c')\n",
    "speeches_raw['clean_speaker']=speeches_raw['clean_speaker'].str.replace('[^\\w\\s]', '')\n",
    "import unidecode\n",
    "def remove_accents(a):\n",
    "    return unidecode.unidecode(a)\n",
    "\n",
    "speeches_raw['clean_speaker'] = speeches_raw['clean_speaker'].apply(remove_accents)"
   ]
  },
  {
   "cell_type": "code",
   "execution_count": 81,
   "metadata": {},
   "outputs": [],
   "source": [
    "speeches_raw['speaker_len']=speeches_raw['clean_speaker'].str.len()"
   ]
  },
  {
   "cell_type": "code",
   "execution_count": 92,
   "metadata": {},
   "outputs": [],
   "source": [
    "speeches_raw=speeches_raw[speeches_raw.speaker_len<=25]\n",
    "speeches_raw=speeches_raw[speeches_raw.clean_speaker!='presidente']\n",
    "speeches_raw = speeches_raw[~speeches_raw['clean_speaker'].str.contains('secretari', na=False)]\n",
    "speeches_raw = speeches_raw[~speeches_raw['clean_speaker'].str.contains('ministr', na=False)]\n",
    "speeches_raw = speeches_raw[~speeches_raw['clean_speaker'].str.contains('deputad', na=False)]\n",
    "speeches_raw = speeches_raw[~speeches_raw['clean_speaker'].str.contains('presidente', na=False)]\n"
   ]
  },
  {
   "cell_type": "code",
   "execution_count": 100,
   "metadata": {},
   "outputs": [],
   "source": [
    "tirar deputados com cargos ('secretario'): pesquisar normes"
   ]
  },
  {
   "cell_type": "code",
   "execution_count": 103,
   "metadata": {},
   "outputs": [
    {
     "data": {
      "text/plain": [
       "array(['antoniocosta', 'nunomagalhaes', 'telmocorreia',\n",
       "       'teresalealcoelho', 'luismontenegro', 'heloisaapolonia',\n",
       "       'josemanuelpureza', 'joaooliveira', 'pedrofilipesoares',\n",
       "       'ferrorodrigues', 'miguelsantos', 'josemourasoeiro',\n",
       "       'teresacaeiro', 'vaniabarros', 'isabelgalricaneto',\n",
       "       'joseluisferreira', 'jorgemachado', 'adaosilva',\n",
       "       'paulotrigopereira', 'hugolopessoares', 'catarinamartins',\n",
       "       'joanamortagua', 'brunodias', 'helenaroseta', 'carloscesar',\n",
       "       'joaogalamba', 'fernandorochaandrade', 'jeronimodesousa',\n",
       "       'paulateixeiradacruz', 'ceciliameireles', 'andresilva',\n",
       "       'paulasantos', 'anapaulavitorino', 'pedrodelgadoalves',\n",
       "       'carlosabreuamorim', 'jorgeduartecosta', 'isabelpires', 'ritarato',\n",
       "       'pedronunosantos', 'helderamaral', 'jorgefalcatosimoes',\n",
       "       'alvarocastelobranco', 'antoniofilipe', 'paulinoascencao',\n",
       "       'franciscomendesdasilva', 'duartepacheco', 'conceicaobessaruao',\n",
       "       'heitorsousa', 'duartefilipemarques', 'pedrosoares',\n",
       "       'anacatarinamendonca', 'antonioleitaoamaro',\n",
       "       'filipeanacoretacorreia', 'eduardocabrita', 'luisleiteramos',\n",
       "       'bertacabral', 'marianamortagua', 'mariocenteno', 'paulosa',\n",
       "       'ascensosimoes', 'anacatarinamendoncamendes',\n",
       "       'bacelardevasconcelos', 'luismonteiro', 'gabrielacanavilhas',\n",
       "       'anasofiabettencourt', 'jorgecosta', 'gracafonseca',\n",
       "       'carlosalbertogoncalves', 'joaopaulorebelo', 'carlacruz',\n",
       "       'amadeusoaresalbergaria', 'vaniadiasdasilva', 'joaoramos',\n",
       "       'paulopisco', 'sergioazevedo', 'ricardobaptistaleite',\n",
       "       'liliaanaaguas', 'jorgelacao', 'margaridamarques', 'miguelmorgado',\n",
       "       'susanaamador', 'elzapais', 'vitalinocanas', 'isabelalvesmoreira',\n",
       "       'anaritabessa', 'joaovasconcelos', 'andreianeto', 'joaorebelo',\n",
       "       'heitordesousa', 'angelaguerra', 'odetesilva',\n",
       "       'cristovaosimaoribeiro', 'joanabaratalopes', 'isabeloneto',\n",
       "       'antoniorodrigues', 'pedroroque', 'joaotorres', 'sandracunha',\n",
       "       'soniafertuzinhos', 'claramarquesmendes', 'luisasalgueiro',\n",
       "       'mariaantoniaalmeidasantos', 'carlosmatias', 'catarinamarcelino',\n",
       "       'manuelfrexes', 'antoniogameiro', 'moisesferreira',\n",
       "       'antoniocarlosmonteiro', 'inesdomingos', 'jorgepaulooliveira',\n",
       "       'hortensemartins', 'diogoleao', 'pauloriosdeoliveira',\n",
       "       'anavirginiapereira', 'emidioguerreiro', 'joaopaulocorreia',\n",
       "       'migueltiago', 'mariadasmercessoares', 'nilzadesena', 'pedroalves',\n",
       "       'pedropimpao', 'abelbaptista', 'saramadrugadacosta',\n",
       "       'pedrodooramos', 'inesdemedeiros', 'patriciafonseca',\n",
       "       'marcoantoniocosta', 'ajoanamortagua', 'helenafreitas',\n",
       "       'pauloportas', 'filipenetobrandao', 'joaopinhodealmeida',\n",
       "       'pedropassoscoelho', 'adaoesilva', 'dianaferreira',\n",
       "       'tiagobarbosaribeiro', 'porfiriosilva', 'ricardobexiga',\n",
       "       'joaquimbarreto', 'susanalamas', 'mariadaluzrosinha',\n",
       "       'antoniolimacosta', 'sandrapereira', 'alvarocastellobranco',\n",
       "       'rosamariaalbernaz', 'josecarlosbarros', 'josedematoscorreia',\n",
       "       'anamesquita', 'cristovaocrespo', 'euricobrilhantedias',\n",
       "       'fernandoanastacio', 'wandaguimaraes', 'luisvales',\n",
       "       'fernandojesus', 'nunoserra', 'franciscorocha', 'pauloneves',\n",
       "       'carlospereira', 'brunovitorino', 'laramartinho', 'antonioventura',\n",
       "       'luisvilhena', 'rubinaberardo', 'josepedroaguiarbranco',\n",
       "       'carlabarros', 'editeestrela', 'hugocosta', 'antoniocardoso',\n",
       "       'renatosampaio', 'alvarobatista', 'teresamorais',\n",
       "       'josemanuelcarpinteira', 'domiciliacosta', 'sofiaaraujo',\n",
       "       'antoniosales', 'joaoazevedocastro', 'carlossantossilva',\n",
       "       'carlospeixoto', 'sergiosousapinto', 'andrepinotesbatista',\n",
       "       'odetejoao', 'mariaaugustasantos', 'margaridamano', 'carlasousa',\n",
       "       'anapassos', 'mariagermanarocha', 'luismoreiratesta',\n",
       "       'luismarquesguedes', 'luissoares', 'pedromotasoares',\n",
       "       'antonioborges', 'mauriciomarques', 'pedrodocarmo', 'brunocoimbra',\n",
       "       'isabelsantos', 'isaurapedro', 'luisgraca', 'joseantoniosilva',\n",
       "       'euridicepereira', 'fatimaramos', 'jorgecampos',\n",
       "       'luiscamposferreira', 'duartejorgecosta', 'mariamanuelatender',\n",
       "       'josesilvano', 'emiliasantos', 'lauramonteiromagalhaes',\n",
       "       'margaridabalseirolopes', 'alexandrequintanilha', 'fernandonegrao',\n",
       "       'fernandovirgiliomacedo', 'carlospascoagoncalves', 'josecesario',\n",
       "       'pedrocoimbra', 'assuncaocristas', 'manuelrodrigues',\n",
       "       'franciscolopes', 'helgacorreia', 'cristovaonorte',\n",
       "       'antonioeusebio', 'antoniocostasilva', 'joelsa', 'ruiriso',\n",
       "       'carloscostaneves', 'emiliacerqueira', 'ivangoncalves',\n",
       "       'carlatavares', 'josedematosrosa', 'amadeussoaresalbergaria',\n",
       "       'juliarodrigues', 'reginaramosbastos', 'miguelcoelho',\n",
       "       'jorgemoreiradasilva', 'vascosilva', 'marisabelmoutela',\n",
       "       'hugopires', 'luispedropimentel', 'santinhopacheco',\n",
       "       'marialuisalbuquerque', 'joaopaulooliveira', 'joanalima',\n",
       "       'norbertopatinho', 'sandrapontedeira', 'antoniotopa',\n",
       "       'felicianobarreirasduarte', 'felicianobareirasduarte',\n",
       "       'josemiguelmedeiros', 'ricardoleao', 'palmiramaciel',\n",
       "       'ulissespereira', 'joaodeoliveira', 'jamilamadeira',\n",
       "       'marialuisacabral', 'ineslamego', 'joseruicruz',\n",
       "       'franciscaparreira', 'domingospereira', 'ildaaraujonovo',\n",
       "       'joseluispureza', 'anavirginia', 'joaquimraposo', 'jorgefalcato',\n",
       "       'hugosoareslopes', 'eugeniaduarte', 'idaliasalvadorserrao',\n",
       "       'carlossilva', 'joaogouveia', 'jorgepaulocorreia',\n",
       "       'joaopulocorreia', 'pedrobacelardevasconcelos', 'joaosoares',\n",
       "       'idaliaserrao', 'antoniotropa', 'mariamortagua',\n",
       "       'euricobrilhantesdias', 'albertomartins', 'luciaaraujosilva',\n",
       "       'mariamercessoares', 'nunosa', 'mariamercesborges', 'anaoliveira',\n",
       "       'josematosrosa', 'firminopereira', 'fernandorocha', 'ruisilva',\n",
       "       'mariamanuelrola', 'antoniocostapinto', 'hugocarvalho',\n",
       "       'margariabalseirolopes', 'manuelatender', 'joaomarques',\n",
       "       'pedropinto', 'mariaadelaideribeiro', 'mariadasmercesborges',\n",
       "       'catarinamendoncamendes', 'catarinamarcelina', 'joaodias',\n",
       "       'laramarinho', 'jorgedias', 'joaorodrigues',\n",
       "       'joaogoncalvespereira', 'eduardoferraz', 'ernestoferraz',\n",
       "       'constancaurbanodesousa', 'angelamoreira', 'ruicruz',\n",
       "       'mirandacalha', 'jorgegomes', 'duartemarques',\n",
       "       'rosamariabastosalbernaz', 'duartealves', 'aceciliameireles',\n",
       "       'valterloios', 'leonelcosta', 'fernandomanuelbarbosa',\n",
       "       'marcosperestrello', 'josemagalhaes', 'manuelcaldeiracabral',\n",
       "       'lilianasilva', 'mariaconceicaoloureiro', 'pedodooramos',\n",
       "       'marialopes', 'adaosiva', 'duartemaques',\n",
       "       'mariamanuelleitaomarques', 'inesdomingues', 'pedromurcela',\n",
       "       'jorgeoliveira', 'jorgepaulodeoliveira', 'marizabelmoutela',\n",
       "       'paulacruz', 'joaofonseca', 'antoniocostaesilva',\n",
       "       'inesdesousareal', 'fabiolacardoso', 'joseluiscarneiro',\n",
       "       'bebianacunha', 'pedrorodrigues', 'ruirio', 'marianasilva',\n",
       "       'mariabegonha', 'joacinekatarmoreira', 'josemariacardoso',\n",
       "       'nelsonperalta', 'ricardovicente', 'andreventura',\n",
       "       'cristinarodrigues', 'joaocotrimdefigueiredo', 'beatrizgomesdias',\n",
       "       'marcosperestrelo', 'marinagoncalves', 'almarivera',\n",
       "       'monicaquintela', 'alexandravieira', 'ricardopinheiro',\n",
       "       'tiagoestevaomartins', 'mariadagracareis', 'claudiaandre',\n",
       "       'ruicristina', 'isabellopes', 'claudiabento',\n",
       "       'franciscopereiraoliveira', 'antoniomalodeabreu', 'fernandojose',\n",
       "       'alvaroalmeida', 'martafreitas', 'ofeliaramos', 'joanasapereira',\n",
       "       'joaopaulopedrosa', 'filiparoseta', 'claudiasantos',\n",
       "       'afonsooliveira', 'joaoataide', 'filipepacheco',\n",
       "       'eduardobarrocodemelo', 'hugomartinsdecarvalho', 'verabraz',\n",
       "       'isauramorais', 'nunomiguelcarvalho', 'antoniocunha',\n",
       "       'josecancelamoura', 'alexandratavaresdemoura', 'anacatarinamendes',\n",
       "       'albertomachado', 'fernandoruas', 'paulomarques', 'telmaguerreiro',\n",
       "       'carlaborges', 'fernandavelez', 'cristinamoreira', 'brunoaragao',\n",
       "       'saravelez', 'maracoelho', 'miguelmatos', 'rosariogamboa',\n",
       "       'alexandrepoco', 'isabelmeireles', 'albertofonseca',\n",
       "       'joaomiguelnicolau', 'luiscapoulassantos', 'carlosbras',\n",
       "       'catarinarochaferreira', 'andreneves', 'marciapassos',\n",
       "       'manueldossantosafonso', 'romualdafernandes', 'raulmiguelcastro',\n",
       "       'anamiguelsantos', 'carlosreis', 'linalopes', 'amarianamortagua',\n",
       "       'firminomarques', 'aisabelpires', 'jorgesalgueiromendes',\n",
       "       'paulomoniz', 'carlamadureira', 'joaogomesmarques',\n",
       "       'hugopatriciooliveira', 'andrecoelholima', 'hugocarneiro',\n",
       "       'joaomoura', 'eduardoteixeira', 'sofiamatos', 'susanacorreia',\n",
       "       'isabelrodrigues', 'olavocamara', 'nunofazenda',\n",
       "       'anamigueldossantos', 'joanabento', 'aemiliacerqueira',\n",
       "       'fernandopauloferreira', 'hugooliveira', 'sergiomarques',\n",
       "       'joaoazevedo', 'pedrosousa', 'ritaborgesmadeira',\n",
       "       'anabelarodrigues', 'mariajoaquinamatos', 'pedrocegonho',\n",
       "       'anamariasilva', 'pauloleitao', 'carloseduardoreis',\n",
       "       'cristinadejesus', 'celiapaz', 'cristinasousa', 'olgasilvestre',\n",
       "       'artursoveralandrade', 'pauloporto', 'clarissecampos',\n",
       "       'mariagabrielafonseca', 'eduardoferrorodrigues', 'joaoalmeida',\n",
       "       'anacatariamendoncamendes'], dtype=object)"
      ]
     },
     "execution_count": 103,
     "metadata": {},
     "output_type": "execute_result"
    }
   ],
   "source": [
    "speeches_raw.clean_speaker.unique()"
   ]
  },
  {
   "cell_type": "code",
   "execution_count": null,
   "metadata": {},
   "outputs": [],
   "source": [
    "df['Great'] = (df[\"Summary\"].str.lower()\n",
    "                            .str.contains(\"great\", regex=False, na=False)\n",
    "                            .astype(int))"
   ]
  },
  {
   "cell_type": "code",
   "execution_count": 80,
   "metadata": {},
   "outputs": [
    {
     "ename": "AttributeError",
     "evalue": "'numpy.ndarray' object has no attribute 'hist'",
     "output_type": "error",
     "traceback": [
      "\u001b[1;31m---------------------------------------------------------------------------\u001b[0m",
      "\u001b[1;31mAttributeError\u001b[0m                            Traceback (most recent call last)",
      "\u001b[1;32mc:\\Users\\trind\\portuguese_open_data\\code\\explore\\transcripts_txt.ipynb Cell 13'\u001b[0m in \u001b[0;36m<cell line: 3>\u001b[1;34m()\u001b[0m\n\u001b[0;32m      <a href='vscode-notebook-cell:/c%3A/Users/trind/portuguese_open_data/code/explore/transcripts_txt.ipynb#ch0000022?line=0'>1</a>\u001b[0m list_speakers\u001b[39m=\u001b[39mspeeches_raw[speeches_raw\u001b[39m.\u001b[39mterm\u001b[39m==\u001b[39m\u001b[39m13\u001b[39m]\u001b[39m.\u001b[39mclean_speaker\u001b[39m.\u001b[39munique()\n\u001b[1;32m----> <a href='vscode-notebook-cell:/c%3A/Users/trind/portuguese_open_data/code/explore/transcripts_txt.ipynb#ch0000022?line=2'>3</a>\u001b[0m list_speakers\u001b[39m.\u001b[39;49mhist()\n",
      "\u001b[1;31mAttributeError\u001b[0m: 'numpy.ndarray' object has no attribute 'hist'"
     ]
    }
   ],
   "source": [
    "list_speakers=speeches_raw[speeches_raw.term==13].clean_speaker.unique()\n",
    "\n",
    "list_speakers_len=.hist()"
   ]
  },
  {
   "cell_type": "code",
   "execution_count": 6,
   "metadata": {},
   "outputs": [],
   "source": [
    "deputies=pd.read_csv('deputies_2015_now.csv')"
   ]
  },
  {
   "cell_type": "code",
   "execution_count": 7,
   "metadata": {},
   "outputs": [
    {
     "data": {
      "text/html": [
       "<div>\n",
       "<style scoped>\n",
       "    .dataframe tbody tr th:only-of-type {\n",
       "        vertical-align: middle;\n",
       "    }\n",
       "\n",
       "    .dataframe tbody tr th {\n",
       "        vertical-align: top;\n",
       "    }\n",
       "\n",
       "    .dataframe thead th {\n",
       "        text-align: right;\n",
       "    }\n",
       "</style>\n",
       "<table border=\"1\" class=\"dataframe\">\n",
       "  <thead>\n",
       "    <tr style=\"text-align: right;\">\n",
       "      <th></th>\n",
       "      <th>speaker</th>\n",
       "      <th>circulo_eleitoral</th>\n",
       "      <th>partido</th>\n",
       "      <th>legislatura</th>\n",
       "    </tr>\n",
       "  </thead>\n",
       "  <tbody>\n",
       "    <tr>\n",
       "      <th>0</th>\n",
       "      <td>carlos matias</td>\n",
       "      <td>Santarém</td>\n",
       "      <td>BE</td>\n",
       "      <td>13</td>\n",
       "    </tr>\n",
       "    <tr>\n",
       "      <th>1</th>\n",
       "      <td>catarina martins</td>\n",
       "      <td>Porto</td>\n",
       "      <td>BE</td>\n",
       "      <td>13</td>\n",
       "    </tr>\n",
       "    <tr>\n",
       "      <th>2</th>\n",
       "      <td>domicilia costa</td>\n",
       "      <td>Porto</td>\n",
       "      <td>BE</td>\n",
       "      <td>13</td>\n",
       "    </tr>\n",
       "    <tr>\n",
       "      <th>3</th>\n",
       "      <td>ernesto ferraz</td>\n",
       "      <td>Madeira</td>\n",
       "      <td>BE</td>\n",
       "      <td>13</td>\n",
       "    </tr>\n",
       "    <tr>\n",
       "      <th>4</th>\n",
       "      <td>fernando manuel barbosa</td>\n",
       "      <td>Porto</td>\n",
       "      <td>BE</td>\n",
       "      <td>13</td>\n",
       "    </tr>\n",
       "    <tr>\n",
       "      <th>...</th>\n",
       "      <td>...</td>\n",
       "      <td>...</td>\n",
       "      <td>...</td>\n",
       "      <td>...</td>\n",
       "    </tr>\n",
       "    <tr>\n",
       "      <th>570</th>\n",
       "      <td>rui silva</td>\n",
       "      <td>Braga</td>\n",
       "      <td>PSD</td>\n",
       "      <td>14</td>\n",
       "    </tr>\n",
       "    <tr>\n",
       "      <th>571</th>\n",
       "      <td>sandra pereira</td>\n",
       "      <td>Lisboa</td>\n",
       "      <td>PSD</td>\n",
       "      <td>14</td>\n",
       "    </tr>\n",
       "    <tr>\n",
       "      <th>572</th>\n",
       "      <td>sara madruga da costa</td>\n",
       "      <td>Madeira</td>\n",
       "      <td>PSD</td>\n",
       "      <td>14</td>\n",
       "    </tr>\n",
       "    <tr>\n",
       "      <th>573</th>\n",
       "      <td>sérgio marques</td>\n",
       "      <td>Madeira</td>\n",
       "      <td>PSD</td>\n",
       "      <td>14</td>\n",
       "    </tr>\n",
       "    <tr>\n",
       "      <th>574</th>\n",
       "      <td>sofia matos</td>\n",
       "      <td>Porto</td>\n",
       "      <td>PSD</td>\n",
       "      <td>14</td>\n",
       "    </tr>\n",
       "  </tbody>\n",
       "</table>\n",
       "<p>575 rows × 4 columns</p>\n",
       "</div>"
      ],
      "text/plain": [
       "                     speaker circulo_eleitoral partido  legislatura\n",
       "0              carlos matias          Santarém      BE           13\n",
       "1           catarina martins             Porto      BE           13\n",
       "2            domicilia costa             Porto      BE           13\n",
       "3             ernesto ferraz           Madeira      BE           13\n",
       "4    fernando manuel barbosa             Porto      BE           13\n",
       "..                       ...               ...     ...          ...\n",
       "570                rui silva             Braga     PSD           14\n",
       "571           sandra pereira            Lisboa     PSD           14\n",
       "572    sara madruga da costa           Madeira     PSD           14\n",
       "573           sérgio marques           Madeira     PSD           14\n",
       "574              sofia matos             Porto     PSD           14\n",
       "\n",
       "[575 rows x 4 columns]"
      ]
     },
     "execution_count": 7,
     "metadata": {},
     "output_type": "execute_result"
    }
   ],
   "source": [
    "deputies=deputies[['nome', 'circulo_eleitoral', 'partido', 'legislatura']]\n",
    "deputies['nome'] = deputies['nome'].str.lower()\n",
    "deputies.columns=['speaker', 'circulo_eleitoral', 'partido', 'legislatura']\n",
    "deputies"
   ]
  },
  {
   "cell_type": "code",
   "execution_count": 8,
   "metadata": {},
   "outputs": [],
   "source": [
    "dd=partidos_raw.merge(deputies[['speaker', 'partido']], on='speaker', how='left')\n",
    "speech_selected=dd[~dd.partido_y.isna()]"
   ]
  },
  {
   "cell_type": "code",
   "execution_count": 9,
   "metadata": {},
   "outputs": [],
   "source": [
    "speech_selected=speech_selected[['speaker', 'partido_x', 'speech', 'filename', 'number', 'session',\n",
    "       'legislatura']]\n",
    "speech_selected.columns=['speaker', 'party', 'speech', 'filename', 'number', 'session',\n",
    "       'legislatura']"
   ]
  },
  {
   "cell_type": "code",
   "execution_count": 10,
   "metadata": {},
   "outputs": [
    {
     "data": {
      "text/html": [
       "<div>\n",
       "<style scoped>\n",
       "    .dataframe tbody tr th:only-of-type {\n",
       "        vertical-align: middle;\n",
       "    }\n",
       "\n",
       "    .dataframe tbody tr th {\n",
       "        vertical-align: top;\n",
       "    }\n",
       "\n",
       "    .dataframe thead th {\n",
       "        text-align: right;\n",
       "    }\n",
       "</style>\n",
       "<table border=\"1\" class=\"dataframe\">\n",
       "  <thead>\n",
       "    <tr style=\"text-align: right;\">\n",
       "      <th></th>\n",
       "      <th>speaker</th>\n",
       "      <th>party</th>\n",
       "      <th>speech</th>\n",
       "      <th>filename</th>\n",
       "      <th>number</th>\n",
       "      <th>session</th>\n",
       "      <th>legislatura</th>\n",
       "    </tr>\n",
       "  </thead>\n",
       "  <tbody>\n",
       "    <tr>\n",
       "      <th>1</th>\n",
       "      <td>teresa leal coelho</td>\n",
       "      <td>PSD</td>\n",
       "      <td>Muito bem!</td>\n",
       "      <td>darl13sl01n001.txt</td>\n",
       "      <td>001</td>\n",
       "      <td>01</td>\n",
       "      <td>13</td>\n",
       "    </tr>\n",
       "    <tr>\n",
       "      <th>2</th>\n",
       "      <td>nuno magalhães</td>\n",
       "      <td>CDS-PP</td>\n",
       "      <td>Peço a palavra, Sr. Presidente.</td>\n",
       "      <td>darl13sl01n001.txt</td>\n",
       "      <td>001</td>\n",
       "      <td>01</td>\n",
       "      <td>13</td>\n",
       "    </tr>\n",
       "    <tr>\n",
       "      <th>3</th>\n",
       "      <td>nuno magalhães</td>\n",
       "      <td>CDS-PP</td>\n",
       "      <td>Sr. Presidente, queria apenas esclarecer que n...</td>\n",
       "      <td>darl13sl01n001.txt</td>\n",
       "      <td>001</td>\n",
       "      <td>01</td>\n",
       "      <td>13</td>\n",
       "    </tr>\n",
       "    <tr>\n",
       "      <th>4</th>\n",
       "      <td>nuno magalhães</td>\n",
       "      <td>CDS-PP</td>\n",
       "      <td>Sr. Presidente, Sr.as e Srs. Deputados: Não po...</td>\n",
       "      <td>darl13sl01n001.txt</td>\n",
       "      <td>001</td>\n",
       "      <td>01</td>\n",
       "      <td>13</td>\n",
       "    </tr>\n",
       "    <tr>\n",
       "      <th>5</th>\n",
       "      <td>nuno magalhães</td>\n",
       "      <td>CDS-PP</td>\n",
       "      <td>O Sr. Presidente falou do ex-Presidente Jaime ...</td>\n",
       "      <td>darl13sl01n001.txt</td>\n",
       "      <td>001</td>\n",
       "      <td>01</td>\n",
       "      <td>13</td>\n",
       "    </tr>\n",
       "  </tbody>\n",
       "</table>\n",
       "</div>"
      ],
      "text/plain": [
       "              speaker   party  \\\n",
       "1  teresa leal coelho     PSD   \n",
       "2      nuno magalhães  CDS-PP   \n",
       "3      nuno magalhães  CDS-PP   \n",
       "4      nuno magalhães  CDS-PP   \n",
       "5      nuno magalhães  CDS-PP   \n",
       "\n",
       "                                              speech            filename  \\\n",
       "1                                        Muito bem!   darl13sl01n001.txt   \n",
       "2                   Peço a palavra, Sr. Presidente.   darl13sl01n001.txt   \n",
       "3  Sr. Presidente, queria apenas esclarecer que n...  darl13sl01n001.txt   \n",
       "4  Sr. Presidente, Sr.as e Srs. Deputados: Não po...  darl13sl01n001.txt   \n",
       "5  O Sr. Presidente falou do ex-Presidente Jaime ...  darl13sl01n001.txt   \n",
       "\n",
       "  number session legislatura  \n",
       "1    001      01          13  \n",
       "2    001      01          13  \n",
       "3    001      01          13  \n",
       "4    001      01          13  \n",
       "5    001      01          13  "
      ]
     },
     "execution_count": 10,
     "metadata": {},
     "output_type": "execute_result"
    }
   ],
   "source": [
    "speech_selected.head()"
   ]
  },
  {
   "cell_type": "code",
   "execution_count": 11,
   "metadata": {},
   "outputs": [],
   "source": [
    "speech_selected.to_csv('speech_selected.csv')"
   ]
  },
  {
   "cell_type": "code",
   "execution_count": null,
   "metadata": {},
   "outputs": [],
   "source": []
  }
 ],
 "metadata": {
  "interpreter": {
   "hash": "7d5f5762bf8156b826a1a25f042fe5de4e7fdaad58180e0e47c3de3d9124cdeb"
  },
  "kernelspec": {
   "display_name": "Python 3.9.12 ('py39')",
   "language": "python",
   "name": "python3"
  },
  "language_info": {
   "codemirror_mode": {
    "name": "ipython",
    "version": 3
   },
   "file_extension": ".py",
   "mimetype": "text/x-python",
   "name": "python",
   "nbconvert_exporter": "python",
   "pygments_lexer": "ipython3",
   "version": "3.9.12"
  },
  "orig_nbformat": 4
 },
 "nbformat": 4,
 "nbformat_minor": 2
}
