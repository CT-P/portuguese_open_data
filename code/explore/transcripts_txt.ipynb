{
 "cells": [
  {
   "cell_type": "code",
   "execution_count": 1,
   "metadata": {},
   "outputs": [],
   "source": [
    "#import packages\n",
    "import os\n",
    "import glob\n",
    "import pandas as pd\n",
    "import re"
   ]
  },
  {
   "cell_type": "code",
   "execution_count": 2,
   "metadata": {},
   "outputs": [],
   "source": [
    "#Create dataframe from parliament-txt transcripts\n",
    "# Run 1 time only\n",
    "#dialogsDF\n",
    "dialogsDF = pd.DataFrame()\n",
    "\n",
    "#regex expressions to extract speakers\n",
    "SPEAKER_REGEX = re.compile(r'[A|O] Sr\\.ª?( [\\w\\-,]+)+([\\-\\w]+)?( \\([\\w\\s\\.,\\-]+\\))*(?=:)')\n",
    "MULTILINE_SPEAKER_REGEX = re.compile(\"^\" + SPEAKER_REGEX.pattern, flags=re.M) \n",
    "c=0\n",
    "for file in os.scandir(\"./discursos\"):\n",
    "    speech_by_speaker = []\n",
    "\n",
    "    with open(file, encoding=\"utf8\") as fp:\n",
    "        content = fp.read()\n",
    "    \n",
    "        #1)extract dates and numbers\n",
    "\n",
    "        dates_txt = re.compile(\"\\d{1,2} [A-Z]+ [A-Z]+ [A-Z]+ \\d{4} (\\n\\n\\d+)?\")\n",
    "        dates_txt.sub(\" \", content)\n",
    "\n",
    "        series_numb = re.compile(\"[A-Z]+ SÉRIE \\W NÚMERO \\d+ (\\n+\\d+)?\")\n",
    "        series_numb.sub(\" \", content)\n",
    "\n",
    "        deputies = MULTILINE_SPEAKER_REGEX.finditer(content) \n",
    "        deputies = [match.group() for match in deputies]\n",
    "        deputies = list(set(deputies))\n",
    "\n",
    "        content_on_one_line = ''.join(content.splitlines())\n",
    "\n",
    "        for speaker in deputies:\n",
    "            content_split_by_speaker = content_on_one_line.split(speaker + ':')\n",
    "            # Get rid of everything before they speak\n",
    "            content_split_by_speaker.pop(0)\n",
    "\n",
    "            # what_they_say = [speech for speech in speaker_regex]\n",
    "            # for each line in content_split_by_speaker\n",
    "            # use the speaker regex to find the next speaker and get everything before that\n",
    "            for line in content_split_by_speaker:\n",
    "                start_of_next_speaker = SPEAKER_REGEX.finditer(line)\n",
    "\n",
    "                # either an index or None\n",
    "                # if it's None, either:\n",
    "                # - the regex isn't accurate enough; or\n",
    "                # - the speaker is the only person to speak]\n",
    "                next_speaker_indexes = [match.start() for match in start_of_next_speaker]\n",
    "                next_speaker_index = next_speaker_indexes[0] if len(next_speaker_indexes) > 0 else None\n",
    "\n",
    "                speech = line[0:next_speaker_index] if next_speaker_index is not None else line\n",
    "                speech_by_speaker.append((speaker, speech))\n",
    "\n",
    "                # if \"):\" in speech:\n",
    "                #     print(speech)\n",
    "        \n",
    "        df = pd.DataFrame.from_records(speech_by_speaker, columns=[\"speaker\", \"speech\"])#.reset_index()\n",
    "        df['filename'] = os.path.basename(file)\n",
    "        #print(df)\n",
    "                \n",
    "        dialogsDF = pd.concat([dialogsDF, df])\n",
    "dialogsDF.to_pickle('dialogsDF.pkl')  \n",
    "        \n",
    "#conjunto_dados#.to_csv(\"deputados.csv\")#, index=False)\n",
    "    "
   ]
  },
  {
   "cell_type": "code",
   "execution_count": 50,
   "metadata": {},
   "outputs": [
    {
     "name": "stdout",
     "output_type": "stream",
     "text": [
      "(151340, 3)\n"
     ]
    },
    {
     "data": {
      "text/html": [
       "<div>\n",
       "<style scoped>\n",
       "    .dataframe tbody tr th:only-of-type {\n",
       "        vertical-align: middle;\n",
       "    }\n",
       "\n",
       "    .dataframe tbody tr th {\n",
       "        vertical-align: top;\n",
       "    }\n",
       "\n",
       "    .dataframe thead th {\n",
       "        text-align: right;\n",
       "    }\n",
       "</style>\n",
       "<table border=\"1\" class=\"dataframe\">\n",
       "  <thead>\n",
       "    <tr style=\"text-align: right;\">\n",
       "      <th></th>\n",
       "      <th>speaker</th>\n",
       "      <th>speech</th>\n",
       "      <th>filename</th>\n",
       "    </tr>\n",
       "  </thead>\n",
       "  <tbody>\n",
       "    <tr>\n",
       "      <th>114</th>\n",
       "      <td>O Sr. Ministro da Educação (Tiago Brandão Rodr...</td>\n",
       "      <td>— Obrigado!</td>\n",
       "      <td>darl14sl03n031.txt</td>\n",
       "    </tr>\n",
       "    <tr>\n",
       "      <th>115</th>\n",
       "      <td>O Sr. Secretário (Diogo Leão)</td>\n",
       "      <td>— Sr.ª Presidente, Srs. Deputados, relativame...</td>\n",
       "      <td>darl14sl03n031.txt</td>\n",
       "    </tr>\n",
       "    <tr>\n",
       "      <th>116</th>\n",
       "      <td>O Sr. Secretário (Diogo Leão)</td>\n",
       "      <td>— Sr.ª Presidente e Srs. Deputados, relativam...</td>\n",
       "      <td>darl14sl03n031.txt</td>\n",
       "    </tr>\n",
       "  </tbody>\n",
       "</table>\n",
       "</div>"
      ],
      "text/plain": [
       "                                               speaker  \\\n",
       "114  O Sr. Ministro da Educação (Tiago Brandão Rodr...   \n",
       "115                      O Sr. Secretário (Diogo Leão)   \n",
       "116                      O Sr. Secretário (Diogo Leão)   \n",
       "\n",
       "                                                speech            filename  \n",
       "114                                       — Obrigado!   darl14sl03n031.txt  \n",
       "115   — Sr.ª Presidente, Srs. Deputados, relativame...  darl14sl03n031.txt  \n",
       "116   — Sr.ª Presidente e Srs. Deputados, relativam...  darl14sl03n031.txt  "
      ]
     },
     "execution_count": 50,
     "metadata": {},
     "output_type": "execute_result"
    }
   ],
   "source": [
    "# load dataframe with speaches\n",
    "dialogsDF = pd.read_pickle('dialogsDF.pkl')  \n",
    "#see it\n",
    "print(dialogsDF.shape)\n",
    "dialogsDF.tail(3)"
   ]
  },
  {
   "cell_type": "code",
   "execution_count": 35,
   "metadata": {},
   "outputs": [],
   "source": [
    "def remove_punctuation(col_name, df):\n",
    "    df[col_name]=df[col_name].str.replace('[^\\w\\s]', '')\n",
    "    print('Punctuation removed')\n",
    "    return df\n",
    "\n",
    "def remove_special_char(col_name, df, char1,char2):\n",
    "    df[col_name]=df[col_name].str.replace(char1,char2)\n",
    "    print('Character '+char1 + 'replaced by '+ char2)\n",
    "    return df\n",
    "\n",
    "def aux_remove_accents(a):\n",
    "    import unidecode\n",
    "    return unidecode.unidecode(a)\n",
    "\n",
    "def remove_accents(col_name, df ):\n",
    "    df[col_name] = df[col_name].apply(aux_remove_accents)\n",
    "    print('Accents removed')\n",
    "    return df\n",
    "\n"
   ]
  },
  {
   "cell_type": "code",
   "execution_count": 51,
   "metadata": {},
   "outputs": [
    {
     "name": "stdout",
     "output_type": "stream",
     "text": [
      "Character çreplaced by c\n"
     ]
    },
    {
     "name": "stderr",
     "output_type": "stream",
     "text": [
      "C:\\Users\\trind\\AppData\\Local\\Temp\\ipykernel_868\\3502243115.py:2: FutureWarning: The default value of regex will change from True to False in a future version.\n",
      "  df[col_name]=df[col_name].str.replace('[^\\w\\s]', '')\n"
     ]
    },
    {
     "name": "stdout",
     "output_type": "stream",
     "text": [
      "Punctuation removed\n",
      "Accents removed\n"
     ]
    },
    {
     "name": "stderr",
     "output_type": "stream",
     "text": [
      "C:\\Users\\trind\\AppData\\Local\\Temp\\ipykernel_868\\1481384319.py:14: FutureWarning: The default value of regex will change from True to False in a future version.\n",
      "  dialogsDF[\"speaker\"] = aux[\"speaker\"].str.replace(r\"[A|O] Sr\\.ª? \", \"\")\n"
     ]
    }
   ],
   "source": [
    "# 1 Speakers selection\n",
    "#remove ministers, secretaries, presidents' dialogs\n",
    "dialogsDF['clean_speaker']=dialogsDF['speaker'].str.lower()\n",
    "dialogsDF= remove_special_char('clean_speaker', dialogsDF, 'ç','c') #dialogsDF['clean_speaker'].str.replace('ç','c')\n",
    "dialogsDF= remove_punctuation('clean_speaker', dialogsDF) #dialogsDF['clean_speaker'].str.replace('[^\\w\\s]', '')\n",
    "dialogsDF= remove_accents('clean_speaker', dialogsDF)\n",
    "dialogsDF = dialogsDF[~dialogsDF['clean_speaker'].str.contains('secretari*', na=False)]\n",
    "dialogsDF = dialogsDF[~dialogsDF['clean_speaker'].str.contains('ministr*', na=False)]\n",
    "dialogsDF = dialogsDF[~dialogsDF['clean_speaker'].str.contains('presidente*', na=False)]\n",
    "dialogsDF.drop('clean_speaker',  axis=1, inplace=True)\n",
    "# 1.1 Speakers cleaning name\n",
    "aux = dialogsDF[\"speaker\"].str.split(\"(\", n=1, expand=True)\n",
    "aux.columns = [\"speaker\", \"party\"]\n",
    "dialogsDF[\"speaker\"] = aux[\"speaker\"].str.replace(r\"[A|O] Sr\\.ª? \", \"\")\n",
    "dialogsDF[\"speaker\"] = dialogsDF[\"speaker\"].str.rstrip(\" \")\n",
    "dialogsDF['speaker'] = dialogsDF['speaker'].str.lower()\n",
    "\n",
    "\n",
    "#2 speach data cleaning\n",
    "dialogsDF[\"speech\"] = [string.lstrip(\"— \") for string in dialogsDF[\"speech\"]]\n",
    "# 3 creation of number columns\n",
    "dialogsDF['number']=[ii[11:14] for ii in dialogsDF.filename]\n",
    "dialogsDF['number']=pd.to_numeric(dialogsDF['number'],errors='coerce')\n",
    "dialogsDF['session']=[ii[8:10] for ii in dialogsDF.filename]\n",
    "dialogsDF['session']=pd.to_numeric(dialogsDF['session'],errors='coerce')\n",
    "dialogsDF['term']=[ii[4:6] for ii in dialogsDF.filename]\n",
    "dialogsDF['term']=pd.to_numeric(dialogsDF['term'],errors='coerce')\n",
    "\n",
    "# 4 creation of party column\n",
    "dialogsDF[\"party\"] = aux[\"party\"].str.rstrip(\")\")\n",
    "# 5 creation of dates column for each parliament session \n",
    "dates_term=pd.read_csv('dates_terms.csv')\n",
    "dates_term['number']=pd.to_numeric(dates_term['number'],errors='coerce')\n",
    "dates_term=dates_term.dropna()\n",
    "dialogsDF=dialogsDF.merge(dates_term, on=['term','session','number'], how='left')"
   ]
  },
  {
   "cell_type": "code",
   "execution_count": 55,
   "metadata": {},
   "outputs": [
    {
     "data": {
      "text/html": [
       "<div>\n",
       "<style scoped>\n",
       "    .dataframe tbody tr th:only-of-type {\n",
       "        vertical-align: middle;\n",
       "    }\n",
       "\n",
       "    .dataframe tbody tr th {\n",
       "        vertical-align: top;\n",
       "    }\n",
       "\n",
       "    .dataframe thead th {\n",
       "        text-align: right;\n",
       "    }\n",
       "</style>\n",
       "<table border=\"1\" class=\"dataframe\">\n",
       "  <thead>\n",
       "    <tr style=\"text-align: right;\">\n",
       "      <th></th>\n",
       "      <th>speaker</th>\n",
       "      <th>speech</th>\n",
       "      <th>filename</th>\n",
       "      <th>number</th>\n",
       "      <th>session</th>\n",
       "      <th>term</th>\n",
       "      <th>party</th>\n",
       "      <th>Date</th>\n",
       "    </tr>\n",
       "  </thead>\n",
       "  <tbody>\n",
       "    <tr>\n",
       "      <th>0</th>\n",
       "      <td>ferro rodrigues</td>\n",
       "      <td>Sr. Presidente, o Grupo Parlamentar do PS indi...</td>\n",
       "      <td>darl13sl01n001.txt</td>\n",
       "      <td>1</td>\n",
       "      <td>1</td>\n",
       "      <td>13</td>\n",
       "      <td>PS</td>\n",
       "      <td>23/10/2015</td>\n",
       "    </tr>\n",
       "    <tr>\n",
       "      <th>1</th>\n",
       "      <td>luís montenegro</td>\n",
       "      <td>Muito bom dia a todos, Sr.as e Srs. Deputados....</td>\n",
       "      <td>darl13sl01n001.txt</td>\n",
       "      <td>1</td>\n",
       "      <td>1</td>\n",
       "      <td>13</td>\n",
       "      <td>PSD</td>\n",
       "      <td>23/10/2015</td>\n",
       "    </tr>\n",
       "    <tr>\n",
       "      <th>2</th>\n",
       "      <td>luís montenegro</td>\n",
       "      <td>O seu exemplo de tolerância, imparcialidade, d...</td>\n",
       "      <td>darl13sl01n001.txt</td>\n",
       "      <td>1</td>\n",
       "      <td>1</td>\n",
       "      <td>13</td>\n",
       "      <td>PSD</td>\n",
       "      <td>23/10/2015</td>\n",
       "    </tr>\n",
       "    <tr>\n",
       "      <th>3</th>\n",
       "      <td>luís montenegro</td>\n",
       "      <td>Sr. Presidente, o Grupo Parlamentar do PSD ind...</td>\n",
       "      <td>darl13sl01n001.txt</td>\n",
       "      <td>1</td>\n",
       "      <td>1</td>\n",
       "      <td>13</td>\n",
       "      <td>PSD</td>\n",
       "      <td>23/10/2015</td>\n",
       "    </tr>\n",
       "    <tr>\n",
       "      <th>4</th>\n",
       "      <td>luís montenegro</td>\n",
       "      <td>Sr. Presidente, Sr.as e Srs. Deputados: Hoje f...</td>\n",
       "      <td>darl13sl01n001.txt</td>\n",
       "      <td>1</td>\n",
       "      <td>1</td>\n",
       "      <td>13</td>\n",
       "      <td>PSD</td>\n",
       "      <td>23/10/2015</td>\n",
       "    </tr>\n",
       "  </tbody>\n",
       "</table>\n",
       "</div>"
      ],
      "text/plain": [
       "           speaker                                             speech  \\\n",
       "0  ferro rodrigues  Sr. Presidente, o Grupo Parlamentar do PS indi...   \n",
       "1  luís montenegro  Muito bom dia a todos, Sr.as e Srs. Deputados....   \n",
       "2  luís montenegro  O seu exemplo de tolerância, imparcialidade, d...   \n",
       "3  luís montenegro  Sr. Presidente, o Grupo Parlamentar do PSD ind...   \n",
       "4  luís montenegro  Sr. Presidente, Sr.as e Srs. Deputados: Hoje f...   \n",
       "\n",
       "             filename  number  session  term party        Date  \n",
       "0  darl13sl01n001.txt       1        1    13    PS  23/10/2015  \n",
       "1  darl13sl01n001.txt       1        1    13   PSD  23/10/2015  \n",
       "2  darl13sl01n001.txt       1        1    13   PSD  23/10/2015  \n",
       "3  darl13sl01n001.txt       1        1    13   PSD  23/10/2015  \n",
       "4  darl13sl01n001.txt       1        1    13   PSD  23/10/2015  "
      ]
     },
     "execution_count": 55,
     "metadata": {},
     "output_type": "execute_result"
    }
   ],
   "source": [
    "dialogsDF.head()"
   ]
  },
  {
   "cell_type": "code",
   "execution_count": 68,
   "metadata": {},
   "outputs": [
    {
     "ename": "AttributeError",
     "evalue": "'Series' object has no attribute 'strftime'",
     "output_type": "error",
     "traceback": [
      "\u001b[1;31m---------------------------------------------------------------------------\u001b[0m",
      "\u001b[1;31mAttributeError\u001b[0m                            Traceback (most recent call last)",
      "\u001b[1;32mc:\\Users\\trind\\portuguese_open_data\\code\\explore\\transcripts_txt.ipynb Cell 7\u001b[0m in \u001b[0;36m<cell line: 1>\u001b[1;34m()\u001b[0m\n\u001b[1;32m----> <a href='vscode-notebook-cell:/c%3A/Users/trind/portuguese_open_data/code/explore/transcripts_txt.ipynb#ch0000045?line=0'>1</a>\u001b[0m dialogsDF[\u001b[39m'\u001b[39;49m\u001b[39mDate\u001b[39;49m\u001b[39m'\u001b[39;49m]\u001b[39m.\u001b[39;49mstrftime(\u001b[39m'\u001b[39m\u001b[39m%\u001b[39m\u001b[39mm-\u001b[39m\u001b[39m%d\u001b[39;00m\u001b[39m-\u001b[39m\u001b[39m%\u001b[39m\u001b[39mY\u001b[39m\u001b[39m'\u001b[39m)\n",
      "File \u001b[1;32mc:\\Users\\trind\\anaconda3\\envs\\py39\\lib\\site-packages\\pandas\\core\\generic.py:5575\u001b[0m, in \u001b[0;36mNDFrame.__getattr__\u001b[1;34m(self, name)\u001b[0m\n\u001b[0;32m   5568\u001b[0m \u001b[39mif\u001b[39;00m (\n\u001b[0;32m   5569\u001b[0m     name \u001b[39mnot\u001b[39;00m \u001b[39min\u001b[39;00m \u001b[39mself\u001b[39m\u001b[39m.\u001b[39m_internal_names_set\n\u001b[0;32m   5570\u001b[0m     \u001b[39mand\u001b[39;00m name \u001b[39mnot\u001b[39;00m \u001b[39min\u001b[39;00m \u001b[39mself\u001b[39m\u001b[39m.\u001b[39m_metadata\n\u001b[0;32m   5571\u001b[0m     \u001b[39mand\u001b[39;00m name \u001b[39mnot\u001b[39;00m \u001b[39min\u001b[39;00m \u001b[39mself\u001b[39m\u001b[39m.\u001b[39m_accessors\n\u001b[0;32m   5572\u001b[0m     \u001b[39mand\u001b[39;00m \u001b[39mself\u001b[39m\u001b[39m.\u001b[39m_info_axis\u001b[39m.\u001b[39m_can_hold_identifiers_and_holds_name(name)\n\u001b[0;32m   5573\u001b[0m ):\n\u001b[0;32m   5574\u001b[0m     \u001b[39mreturn\u001b[39;00m \u001b[39mself\u001b[39m[name]\n\u001b[1;32m-> 5575\u001b[0m \u001b[39mreturn\u001b[39;00m \u001b[39mobject\u001b[39;49m\u001b[39m.\u001b[39;49m\u001b[39m__getattribute__\u001b[39;49m(\u001b[39mself\u001b[39;49m, name)\n",
      "\u001b[1;31mAttributeError\u001b[0m: 'Series' object has no attribute 'strftime'"
     ]
    }
   ],
   "source": [
    "\n",
    "dialogsDF['Date'].strftime('%m-%d-%Y')\n"
   ]
  },
  {
   "cell_type": "code",
   "execution_count": null,
   "metadata": {},
   "outputs": [],
   "source": [
    "'https://debates.parlamento.pt/catalogo/r3/dar/01/'+dialogsDF.term+'/'+term+'/'+number+'/'+Date"
   ]
  }
 ],
 "metadata": {
  "interpreter": {
   "hash": "7d5f5762bf8156b826a1a25f042fe5de4e7fdaad58180e0e47c3de3d9124cdeb"
  },
  "kernelspec": {
   "display_name": "Python 3.9.12 ('py39')",
   "language": "python",
   "name": "python3"
  },
  "language_info": {
   "codemirror_mode": {
    "name": "ipython",
    "version": 3
   },
   "file_extension": ".py",
   "mimetype": "text/x-python",
   "name": "python",
   "nbconvert_exporter": "python",
   "pygments_lexer": "ipython3",
   "version": "3.9.12"
  },
  "orig_nbformat": 4
 },
 "nbformat": 4,
 "nbformat_minor": 2
}
