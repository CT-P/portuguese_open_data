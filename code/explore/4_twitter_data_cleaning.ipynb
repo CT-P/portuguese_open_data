{
 "cells": [
  {
   "cell_type": "code",
   "execution_count": 1,
   "metadata": {},
   "outputs": [],
   "source": [
    "# Import Libraries\n",
    "from textblob import TextBlob\n",
    "import sys\n",
    "import tweepy\n",
    "import matplotlib.pyplot as plt\n",
    "import pandas as pd\n",
    "import numpy as np\n",
    "import os\n",
    "\n",
    "#import pycountry\n",
    "import re\n",
    "import string\n",
    "import logging\n",
    "import time\n",
    "\n",
    "from sklearn.preprocessing import MinMaxScaler\n",
    "\n",
    "\n"
   ]
  },
  {
   "cell_type": "code",
   "execution_count": 2,
   "metadata": {},
   "outputs": [],
   "source": [
    "#read data\n",
    "tweets_df= pd.read_pickle('raw_tweets.pkl')  \n",
    "replies_df= pd.read_pickle('raw_replies.pkl')  \n",
    "df_twitter=pd.read_csv('twitter_deputies.csv')\n",
    "genre_speakers=pd.read_csv('genre_speakers.csv')\n",
    "genre_speakers.fillna(0, inplace=True)\n",
    "genre_speakers['genre'] = genre_speakers['genre'].map({ 1: 'female', 0:'male'})"
   ]
  },
  {
   "cell_type": "code",
   "execution_count": 3,
   "metadata": {},
   "outputs": [],
   "source": [
    "#ADD genre\n",
    "df_twitter=df_twitter.merge(genre_speakers, on='speaker', how='left')"
   ]
  },
  {
   "cell_type": "code",
   "execution_count": 4,
   "metadata": {},
   "outputs": [],
   "source": [
    "#ADD party and genre\n",
    "df_twitter = df_twitter.rename(columns={'twitter': 'user_name'})\n",
    "df_twitter['user_name']=df_twitter['user_name'].str.lower()\n",
    "tweets_df['user_name']=tweets_df['user_name'].str.lower()\n",
    "df_ptweets=tweets_df.merge(df_twitter[['party', 'user_name','genre']], on='user_name', how='left')"
   ]
  },
  {
   "cell_type": "code",
   "execution_count": 5,
   "metadata": {},
   "outputs": [
    {
     "data": {
      "text/html": [
       "<div>\n",
       "<style scoped>\n",
       "    .dataframe tbody tr th:only-of-type {\n",
       "        vertical-align: middle;\n",
       "    }\n",
       "\n",
       "    .dataframe tbody tr th {\n",
       "        vertical-align: top;\n",
       "    }\n",
       "\n",
       "    .dataframe thead th {\n",
       "        text-align: right;\n",
       "    }\n",
       "</style>\n",
       "<table border=\"1\" class=\"dataframe\">\n",
       "  <thead>\n",
       "    <tr style=\"text-align: right;\">\n",
       "      <th></th>\n",
       "      <th>user_name</th>\n",
       "      <th>text</th>\n",
       "      <th>year</th>\n",
       "      <th>tweet_id</th>\n",
       "      <th>url</th>\n",
       "      <th>party</th>\n",
       "      <th>genre</th>\n",
       "    </tr>\n",
       "  </thead>\n",
       "  <tbody>\n",
       "    <tr>\n",
       "      <th>0</th>\n",
       "      <td>alexandre_poco</td>\n",
       "      <td>✍🏻 Convido à leitura do artigo de opinião que ...</td>\n",
       "      <td>2021</td>\n",
       "      <td>1475489298027843592</td>\n",
       "      <td>https://twitter.com/Alexandre_Poco/status/1475...</td>\n",
       "      <td>PSD</td>\n",
       "      <td>male</td>\n",
       "    </tr>\n",
       "    <tr>\n",
       "      <th>1</th>\n",
       "      <td>alexandre_poco</td>\n",
       "      <td>🗣 No congresso do meu partido a defender um no...</td>\n",
       "      <td>2021</td>\n",
       "      <td>1473000761621508096</td>\n",
       "      <td>https://twitter.com/Alexandre_Poco/status/1473...</td>\n",
       "      <td>PSD</td>\n",
       "      <td>male</td>\n",
       "    </tr>\n",
       "  </tbody>\n",
       "</table>\n",
       "</div>"
      ],
      "text/plain": [
       "        user_name                                               text  year  \\\n",
       "0  alexandre_poco  ✍🏻 Convido à leitura do artigo de opinião que ...  2021   \n",
       "1  alexandre_poco  🗣 No congresso do meu partido a defender um no...  2021   \n",
       "\n",
       "              tweet_id                                                url  \\\n",
       "0  1475489298027843592  https://twitter.com/Alexandre_Poco/status/1475...   \n",
       "1  1473000761621508096  https://twitter.com/Alexandre_Poco/status/1473...   \n",
       "\n",
       "  party genre  \n",
       "0   PSD  male  \n",
       "1   PSD  male  "
      ]
     },
     "execution_count": 5,
     "metadata": {},
     "output_type": "execute_result"
    }
   ],
   "source": [
    "df_ptweets.head(2)"
   ]
  },
  {
   "cell_type": "code",
   "execution_count": 6,
   "metadata": {},
   "outputs": [],
   "source": [
    "#number of tweets per party per year\n",
    "num_tweets=pd.DataFrame(df_ptweets.groupby(['year','party']).size()).reset_index()\n",
    "num_tweets.columns=['year','party','num_tweets']\n",
    "#num of unique accounts per party per year\n",
    "num_accounts=pd.DataFrame(df_ptweets.groupby(['year','party']).user_name.nunique()).reset_index()\n",
    "counting_tweets=num_tweets.merge(num_accounts, on=['year','party'], how='left')\n",
    "#num of tweets per acount per year per party\n",
    "counting_tweets['year_avg_per_deputy']=counting_tweets.num_tweets/counting_tweets.user_name\n",
    "\n",
    "counting_tweets.to_csv('tweets_stats.csv')\n"
   ]
  },
  {
   "cell_type": "code",
   "execution_count": 7,
   "metadata": {},
   "outputs": [
    {
     "data": {
      "text/plain": [
       "(array([0, 1, 2, 3, 4, 5, 6]),\n",
       " [Text(0, 0, '2015'),\n",
       "  Text(1, 0, '2016'),\n",
       "  Text(2, 0, '2017'),\n",
       "  Text(3, 0, '2018'),\n",
       "  Text(4, 0, '2019'),\n",
       "  Text(5, 0, '2020'),\n",
       "  Text(6, 0, '2021')])"
      ]
     },
     "execution_count": 7,
     "metadata": {},
     "output_type": "execute_result"
    },
    {
     "data": {
      "image/png": "[encoded data removed]",
      "text/plain": [
       "<Figure size 1080x576 with 1 Axes>"
      ]
     },
     "metadata": {
      "needs_background": "light"
     },
     "output_type": "display_data"
    }
   ],
   "source": [
    "#counting_tweets[['year','party','year_avg_per_deputy']].plot.barh()\n",
    "plt.figure(figsize=(15,8))\n",
    "import seaborn as sns\n",
    "\n",
    "sns.barplot(x='year', y='year_avg_per_deputy', hue='party', data=counting_tweets[['year','party','year_avg_per_deputy']]) \n",
    "#add overall title\n",
    "plt.title('Yearly Average Of Tweets Per Party', fontsize=16)\n",
    "\n",
    "#add axis titles\n",
    "plt.xlabel('Year')\n",
    "plt.ylabel('Average Number of Tweets per Party ')\n",
    "\n",
    "#rotate x-axis labels\n",
    "plt.xticks(rotation=45)"
   ]
  },
  {
   "cell_type": "code",
   "execution_count": 8,
   "metadata": {},
   "outputs": [],
   "source": [
    "#ENGAGEMENTS: MASS POLARIZATION\n",
    "#ADD party and genre\n",
    "\n",
    "replies_df['user_name']=replies_df['user_name'].str.lower()\n",
    "df_preplies=replies_df.merge(df_twitter[['party', 'user_name','genre']], on='user_name', how='left')\n",
    "\n",
    "\n",
    "#number of replies per party per year\n",
    "num_replies=pd.DataFrame(df_preplies.groupby(['year','party']).size()).reset_index()\n",
    "num_replies.columns=['year','party','num_replies']\n",
    "\n",
    "df_eng=num_replies.merge(counting_tweets[['year','party','num_tweets']], on=['year','party'],how='left')\n",
    "df_eng=df_eng.fillna(0)\n",
    "df_eng['engagement']=df_eng.num_replies/df_eng.num_tweets\n",
    "df_eng['engagement'].replace(np.inf, 0, inplace=True)\n",
    "df_eng['engagement_norm']=(df_eng['engagement'] - df_eng['engagement'].min()) / (df_eng['engagement'].max() - df_eng['engagement'].min()) \n",
    "df_eng.to_csv('replies_eng.csv')"
   ]
  },
  {
   "cell_type": "code",
   "execution_count": 9,
   "metadata": {},
   "outputs": [
    {
     "data": {
      "text/plain": [
       "(array([0, 1, 2, 3, 4, 5, 6]),\n",
       " [Text(0, 0, '2015.0'),\n",
       "  Text(1, 0, '2016.0'),\n",
       "  Text(2, 0, '2017.0'),\n",
       "  Text(3, 0, '2018.0'),\n",
       "  Text(4, 0, '2019.0'),\n",
       "  Text(5, 0, '2020.0'),\n",
       "  Text(6, 0, '2021.0')])"
      ]
     },
     "execution_count": 9,
     "metadata": {},
     "output_type": "execute_result"
    },
    {
     "data": {
      "image/png": "[encoded data removed]",
      "text/plain": [
       "<Figure size 1080x576 with 1 Axes>"
      ]
     },
     "metadata": {
      "needs_background": "light"
     },
     "output_type": "display_data"
    }
   ],
   "source": [
    "plt.figure(figsize=(15,8))\n",
    "import seaborn as sns\n",
    "\n",
    "sns.barplot(x='year', y='engagement_norm', hue='party', data=df_eng[['year','party','engagement_norm']]) \n",
    "#add overall title\n",
    "plt.title('Twiter Engagement Per Party', fontsize=16)\n",
    "\n",
    "#add axis titles\n",
    "plt.xlabel('Year')\n",
    "plt.ylabel('Engagement Percentage')\n",
    "\n",
    "#rotate x-axis labels\n",
    "plt.xticks(rotation=45)"
   ]
  },
  {
   "cell_type": "code",
   "execution_count": 10,
   "metadata": {},
   "outputs": [],
   "source": [
    "# Tweets per genre per term\n",
    "#add term\n",
    "df_ptweets['term'] = np.where(df_ptweets.year <=2019, '13', '14')\n",
    "# genre tweet count by term\n",
    "genre_tweets=pd.DataFrame(df_ptweets[['term','party','genre']].groupby(['term','party','genre']).size().reset_index())\n",
    "genre_tweets.to_csv('genre_tweets.csv')"
   ]
  },
  {
   "cell_type": "code",
   "execution_count": 12,
   "metadata": {},
   "outputs": [],
   "source": [
    "# Engagement per genre per term\n",
    "#add term\n",
    "df_preplies['term'] = np.where(df_preplies.year <=2019, '13', '14')\n",
    "\n",
    "#number of replies per party per term per genre\n",
    "num_repliesG=pd.DataFrame(df_preplies.groupby(['term','party','genre']).size()).reset_index()\n",
    "num_repliesG.columns=['term','party','genre', 'num_replies']\n",
    "\n",
    "#num of unique accounts per party per year\n",
    "num_accountsG=pd.DataFrame(df_ptweets.groupby(['term','party','genre']).user_name.nunique()).reset_index()\n",
    "counting_tweetsG=num_repliesG.merge(num_accountsG, on=['term','party','genre'], how='left')\n",
    "\n",
    "df_engG=num_repliesG.merge(counting_tweetsG[['term','party','genre','user_name']], on=['term','party','genre'],how='left')\n",
    "df_engG=df_engG.fillna(0)\n",
    "df_engG['engagement']=df_engG.num_replies/df_engG.user_name\n",
    "df_engG['engagement'].replace(np.inf, 0, inplace=True)\n",
    "df_engG['engagement_norm']=(df_engG['engagement'] - df_engG['engagement'].min()) / (df_engG['engagement'].max() - df_engG['engagement'].min()) \n",
    "df_engG.to_csv('Greplies_eng.csv')"
   ]
  },
  {
   "cell_type": "code",
   "execution_count": null,
   "metadata": {},
   "outputs": [],
   "source": []
  }
 ],
 "metadata": {
  "kernelspec": {
   "display_name": "Python 3.9.12 ('base')",
   "language": "python",
   "name": "python3"
  },
  "language_info": {
   "codemirror_mode": {
    "name": "ipython",
    "version": 3
   },
   "file_extension": ".py",
   "mimetype": "text/x-python",
   "name": "python",
   "nbconvert_exporter": "python",
   "pygments_lexer": "ipython3",
   "version": "3.9.12"
  },
  "orig_nbformat": 4,
  "vscode": {
   "interpreter": {
    "hash": "ddb3f830e79c6f8e791b80246b7047706826e249abf27510d15251ed3cae5420"
   }
  }
 },
 "nbformat": 4,
 "nbformat_minor": 2
}
