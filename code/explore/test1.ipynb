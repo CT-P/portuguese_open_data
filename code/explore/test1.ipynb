{
 "cells": [
  {
   "cell_type": "code",
   "execution_count": 60,
   "metadata": {},
   "outputs": [],
   "source": [
    "import pandas as pd\n",
    "from lxml import etree\n",
    "import os\n",
    "from bs4 import BeautifulSoup\n",
    "import requests\n",
    "import xml.etree.ElementTree as ET\n",
    "import validators\n",
    "import datetime\n",
    "import re"
   ]
  },
  {
   "cell_type": "code",
   "execution_count": 20,
   "metadata": {},
   "outputs": [
    {
     "data": {
      "text/plain": [
       "array([13], dtype=int64)"
      ]
     },
     "execution_count": 20,
     "metadata": {},
     "output_type": "execute_result"
    }
   ],
   "source": [
    "input_data.pages.values[0:1]"
   ]
  },
  {
   "cell_type": "code",
   "execution_count": 2,
   "metadata": {},
   "outputs": [],
   "source": [
    "current_directory=\"C:\\\\Users\\caperei\"\n",
    "cycle='14'\n",
    "session='1'\n",
    "data_directory=f\"\\portuguese_open_data\\data\\cycle\\{cycle}\\session\\{session}\\\\numbers_dates_pages.csv\"\n",
    "input_data=pd.read_csv(r\"C:\\Users\\caperei\\portuguese_open_data\\data\\cyle\\14\\session\\1\\numbers_dates_pages.csv\")"
   ]
  },
  {
   "cell_type": "code",
   "execution_count": 42,
   "metadata": {},
   "outputs": [],
   "source": [
    "\n",
    "def add_zeros(int_):\n",
    "    if len(str(int_))<2:\n",
    "        return '00'+str(int_)\n",
    "    if len(str(int_))<3:\n",
    "        return '0'+str(int_)\n",
    "    if len(str(int_))==3:\n",
    "        return str(int_)\n",
    "\n",
    "def get_text_from_html(url__):\n",
    "    from bs4 import BeautifulSoup\n",
    "    res = requests.get(url__)\n",
    "    html_page = res.content\n",
    "    soup = BeautifulSoup(html_page, 'html.parser')\n",
    "    return str(soup.noscript)\n",
    "\n",
    "df = pd.DataFrame(columns=['legislature','cycle','session','number','date','page', 'text_1','url'])        \n",
    "legislature='dar/01'\n",
    "cycle='14'\n",
    "session=['01'] #['01','02','03']\n",
    "numbers_dates=list(zip(input_data.number, input_data.date,input_data.pages ))[0:1]\n",
    "pages=input_data.pages.values[0:1]\n",
    "\n",
    "\n",
    "\n",
    "\n",
    "\n"
   ]
  },
  {
   "cell_type": "code",
   "execution_count": 41,
   "metadata": {},
   "outputs": [
    {
     "data": {
      "text/html": [
       "<div>\n",
       "<style scoped>\n",
       "    .dataframe tbody tr th:only-of-type {\n",
       "        vertical-align: middle;\n",
       "    }\n",
       "\n",
       "    .dataframe tbody tr th {\n",
       "        vertical-align: top;\n",
       "    }\n",
       "\n",
       "    .dataframe thead th {\n",
       "        text-align: right;\n",
       "    }\n",
       "</style>\n",
       "<table border=\"1\" class=\"dataframe\">\n",
       "  <thead>\n",
       "    <tr style=\"text-align: right;\">\n",
       "      <th></th>\n",
       "      <th>number</th>\n",
       "      <th>date</th>\n",
       "      <th>pages</th>\n",
       "    </tr>\n",
       "  </thead>\n",
       "  <tbody>\n",
       "    <tr>\n",
       "      <th>0</th>\n",
       "      <td>1</td>\n",
       "      <td>25/10/2019</td>\n",
       "      <td>13</td>\n",
       "    </tr>\n",
       "    <tr>\n",
       "      <th>1</th>\n",
       "      <td>2</td>\n",
       "      <td>30/10/2019</td>\n",
       "      <td>124</td>\n",
       "    </tr>\n",
       "    <tr>\n",
       "      <th>2</th>\n",
       "      <td>3</td>\n",
       "      <td>31/10/2019</td>\n",
       "      <td>26</td>\n",
       "    </tr>\n",
       "    <tr>\n",
       "      <th>3</th>\n",
       "      <td>4</td>\n",
       "      <td>06/11/2019</td>\n",
       "      <td>53</td>\n",
       "    </tr>\n",
       "    <tr>\n",
       "      <th>4</th>\n",
       "      <td>5</td>\n",
       "      <td>13/11/2019</td>\n",
       "      <td>36</td>\n",
       "    </tr>\n",
       "    <tr>\n",
       "      <th>...</th>\n",
       "      <td>...</td>\n",
       "      <td>...</td>\n",
       "      <td>...</td>\n",
       "    </tr>\n",
       "    <tr>\n",
       "      <th>73</th>\n",
       "      <td>74</td>\n",
       "      <td>09/07/2020</td>\n",
       "      <td>64</td>\n",
       "    </tr>\n",
       "    <tr>\n",
       "      <th>74</th>\n",
       "      <td>75</td>\n",
       "      <td>10/07/2020</td>\n",
       "      <td>81</td>\n",
       "    </tr>\n",
       "    <tr>\n",
       "      <th>75</th>\n",
       "      <td>76</td>\n",
       "      <td>23/07/2020</td>\n",
       "      <td>114</td>\n",
       "    </tr>\n",
       "    <tr>\n",
       "      <th>76</th>\n",
       "      <td>77</td>\n",
       "      <td>24/07/2020</td>\n",
       "      <td>63</td>\n",
       "    </tr>\n",
       "    <tr>\n",
       "      <th>77</th>\n",
       "      <td>78</td>\n",
       "      <td>10/09/2020</td>\n",
       "      <td>42</td>\n",
       "    </tr>\n",
       "  </tbody>\n",
       "</table>\n",
       "<p>78 rows × 3 columns</p>\n",
       "</div>"
      ],
      "text/plain": [
       "    number        date  pages\n",
       "0        1  25/10/2019     13\n",
       "1        2  30/10/2019    124\n",
       "2        3  31/10/2019     26\n",
       "3        4  06/11/2019     53\n",
       "4        5  13/11/2019     36\n",
       "..     ...         ...    ...\n",
       "73      74  09/07/2020     64\n",
       "74      75  10/07/2020     81\n",
       "75      76  23/07/2020    114\n",
       "76      77  24/07/2020     63\n",
       "77      78  10/09/2020     42\n",
       "\n",
       "[78 rows x 3 columns]"
      ]
     },
     "execution_count": 41,
     "metadata": {},
     "output_type": "execute_result"
    }
   ],
   "source": [
    "input_data"
   ]
  },
  {
   "cell_type": "code",
   "execution_count": 54,
   "metadata": {},
   "outputs": [],
   "source": [
    "s_c=[]\n",
    "n_c=[]\n",
    "d_c=[]\n",
    "p_c=[]\n",
    "u_c=[]\n",
    "t_c=[]\n",
    "for s in session:\n",
    "    for number, date, page in numbers_dates:\n",
    "        number=add_zeros(number)\n",
    "        date=datetime.datetime.strptime(date, '%d/%m/%Y').strftime('%Y-%m-%d')\n",
    "        for page_i in range(1,page+1):\n",
    "                url_=f'https://debates.parlamento.pt/catalogo/r3/{legislature}/{cycle}/{s}/{number}/{date}/{page_i}'\n",
    "                if validators.url(url_):\n",
    "                    #print (url_)\n",
    "                    u_c.append(url_)\n",
    "                    p_c.append(page_i)\n",
    "                    t_c.append(get_text_from_html(url_))\n",
    "                    s_c.append(s)\n",
    "                    n_c.append(number)\n",
    "                    d_c.append(date)\n",
    "df['page']=p_c\n",
    "df['session']=s_c\n",
    "df['number']=n_c\n",
    "df['date']=d_c\n",
    "\n",
    "df['text_1']=t_c\n",
    "df['url']=u_c\n",
    "df['legislature']=legislature\n",
    "df['cycle']=cycle    "
   ]
  },
  {
   "cell_type": "code",
   "execution_count": null,
   "metadata": {},
   "outputs": [],
   "source": [
    "df.to_pickle('portuguese_transcripts.pkl') \n",
    "#df = pd.read_pickle('portuguese_transcripts.pkl')"
   ]
  },
  {
   "cell_type": "code",
   "execution_count": 40,
   "metadata": {},
   "outputs": [
    {
     "data": {
      "text/plain": [
       "array([13], dtype=int64)"
      ]
     },
     "execution_count": 40,
     "metadata": {},
     "output_type": "execute_result"
    }
   ],
   "source": [
    "pages"
   ]
  },
  {
   "cell_type": "code",
   "execution_count": 67,
   "metadata": {},
   "outputs": [],
   "source": [
    "def check_dialog(text_):\n",
    "    pat=\"(?:</p><p>.*?\\(.*?\\): —.*?\\: —)\"\n",
    "    match=re.findall(pat, text_)\n",
    "    if match is None :\n",
    "        return 'no_dialog'\n",
    "    else:\n",
    "        for m in match:\n",
    "            \n",
    "        return match.group()"
   ]
  },
  {
   "cell_type": "code",
   "execution_count": 68,
   "metadata": {},
   "outputs": [],
   "source": [
    "df['dialogs']=[check_dialog(t) for t in df.text_1]"
   ]
  },
  {
   "cell_type": "code",
   "execution_count": 65,
   "metadata": {},
   "outputs": [],
   "source": [
    "pat=\"(?:</p><p>.*?\\(.*?\\): —.*?\\: —)\"\n",
    "match=re.search(pat, df.text_1[0])\n",
    "match"
   ]
  },
  {
   "cell_type": "code",
   "execution_count": 73,
   "metadata": {},
   "outputs": [
    {
     "data": {
      "text/plain": [
       "'</p><p></p><p></p><p>2 </p><p>Às 10 horas e 9 minutos, tomou a palavra a Deputada do PS Ana Catarina Mendonça Mendes.</p><p></p><p>A Sr.ª Ana Catarina Mendonça Mendes (PS): — Sr.as e Srs. Deputados, em nome da boa praxe parlamentar, </p><p>e sendo do grupo parlamentar maioritário nesta Assembleia da República, cabe-me iniciar os trabalhos desta </p><p>nova Legislatura. </p><p>Por isso mesmo, gostaria, em primeiro lugar, de saudar todas Sr.as Deputadas e todos os Srs. Deputados, </p><p>todos os eleitos, para que cumpramos aquele que é o respeito pela intuição democrática Assembleia da </p><p>República e para que cada um de nós exerça o seu mandato em representação daqueles que nos elegeram </p><p>para aqui estar. </p><p>Cumprindo também a praxe parlamentar, cabe-me, em nome do Grupo Parlamentar do Partido Socialista, </p><p>com muita honra também, designar para presidir aos nossos trabalhos, nesta primeira sessão, o Sr. Deputado </p><p>Eduardo Ferro Rodrigues, que é, de resto, o Presidente da Assembleia da República cessante e a quem peço </p><p>que suba ao seu lugar. </p><p></p><p>Aplausos do PS, do BE, do PCP, do PEV e de Deputados do PSD. </p><p></p><p>Com o assentimento da Assembleia, assumiu a presidência o Deputado do PS Eduardo Ferro Rodrigues. </p><p></p><p>O Sr. Presidente: —'"
      ]
     },
     "execution_count": 73,
     "metadata": {},
     "output_type": "execute_result"
    }
   ],
   "source": [
    "df[df.dialogs!='no_dialog'].dialogs[1]"
   ]
  },
  {
   "cell_type": "code",
   "execution_count": 78,
   "metadata": {},
   "outputs": [],
   "source": [
    "tt=\"</p><p></p><p></p><p>2 </p><p>Às 10 horas e 9 minutos, tomou a palavra a Deputada do PS Ana Catarina Mendonça Mendes.</p><p></p><p>A Sr.ª Ana Catarina Mendonça Mendes (PS): — Sr.as e Srs. Deputados, em nome da boa praxe parlamentar, </p><p>e sendo do grupo parlamentar maioritário nesta Assembleia da República, cabe-me iniciar os trabalhos desta </p><p>nova Legislatura. </p><p>Por isso mesmo, gostaria, em primeiro lugar, de saudar todas Sr.as Deputadas e todos os Srs. Deputados, </p><p>todos os eleitos, para que cumpramos aquele que é o respeito pela intuição democrática Assembleia da </p><p>República e para que cada um de nós exerça o seu mandato em representação daqueles que nos elegeram </p><p>para aqui estar. </p><p>Cumprindo também a praxe parlamentar, cabe-me, em nome do Grupo Parlamentar do Partido Socialista, </p><p>com muita honra também, designar para presidir aos nossos trabalhos, nesta primeira sessão, o Sr. Deputado </p><p>Eduardo Ferro Rodrigues, que é, de resto, o Presidente da Assembleia da República cessante e a quem peço </p><p>que suba ao seu lugar. </p><p></p><p>Aplausos do PS, do BE, do PCP, do PEV e de Deputados do PSD. </p><p></p><p>Com o assentimento da Assembleia, assumiu a presidência o Deputado do PS Eduardo Ferro Rodrigues. </p><p></p><p>O Sr. Presidente: —Às 10 horas e 9 minutos, tomou a palavra a Deputada do PS Ana Catarina Mendonça Mendes.</p><p></p><p>A Sr.ª Ana Catarina Mendonça Mendes (PS): — Sr.as e Srs. Deputados, em nome da boa praxe parlamentar, </p><p>e sendo do grupo parlamentar maioritário nesta Assembleia da República, cabe-me iniciar os trabalhos desta </p><p>nova Legislatura. </p><p>Por isso mesmo, gostaria, em primeiro lugar, de saudar todas Sr.as Deputadas e todos os Srs. Deputados, </p><p>todos os eleitos, para que cumpramos aquele que é o respeito pela intuição democrática Assembleia da </p><p>República e para que cada um de nós exerça o seu mandato em representação daqueles que nos elegeram </p><p>para aqui estar. </p><p>Cumprindo também a praxe parlamentar, cabe-me, em nome do Grupo Parlamentar do Partido Socialista, </p><p>com muita honra também, designar para presidir aos nossos trabalhos, nesta primeira sessão, o Sr. Deputado </p><p>Eduardo Ferro Rodrigues, que é, de resto, o Presidente da Assembleia da República cessante e a quem peço </p><p>que suba ao seu lugar. </p><p></p><p>Aplausos do PS, do BE, do PCP, do PEV e de Deputados do PSD. </p><p></p><p>Com o assentimento da Assembleia, assumiu a presidência o Deputado do PS Eduardo Ferro Rodrigues. </p><p></p><p>O Sr. Presidente: —'\"\n",
    "\n",
    "pat=\"(?:</p><p>.*?\\(.*?\\): —.*?\\: —)\"\n",
    "match=re.findall(pat, tt)"
   ]
  },
  {
   "cell_type": "code",
   "execution_count": 83,
   "metadata": {},
   "outputs": [],
   "source": [
    "ttt=\"</p><p></p><p></p><p>2 </p><p>Às 10 horas e 9 minutos, tomou a palavra a Deputada do PS Ana Catarina Mendonça Mendes.</p><p></p><p>A Sr.ª Ana Catarina Mendonça Mendes (PS): — Sr.as e Srs. Deputados, em nome da boa praxe parlamentar, </p><p>e sendo do grupo parlamentar maioritário nesta Assembleia da República, cabe-me iniciar os trabalhos desta </p><p>nova Legislatura. </p><p>Por isso mesmo, gostaria, em primeiro lugar, de saudar todas Sr.as Deputadas e todos os Srs. Deputados, </p><p>todos os eleitos, para que cumpramos aquele que é o respeito pela intuição democrática Assembleia da </p><p>República e para que cada um de nós exerça o seu mandato em representação daqueles que nos elegeram </p><p>para aqui estar. </p><p>Cumprindo também a praxe parlamentar, cabe-me, em nome do Grupo Parlamentar do Partido Socialista, </p><p>com muita honra também, designar para presidir aos nossos trabalhos, nesta primeira sessão, o Sr. Deputado </p><p>Eduardo Ferro Rodrigues, que é, de resto, o Presidente da Assembleia da República cessante e a quem peço </p><p>que suba ao seu lugar. </p><p></p><p>Aplausos do PS, do BE, do PCP, do PEV e de Deputados do PSD. </p><p></p><p>Com o assentimento da Assembleia, assumiu a presidência o Deputado do PS Eduardo Ferro Rodrigues. </p><p></p><p>O Sr. Presidente: —eputados, </p><p>todos os eleitos, para que cumpramos aquele que é o respeito pela intuição democrática Assembleia da </p><p>República e para que cada um de nós exerça o seu mandato em representação daqueles que nos elegeram </p><p>para aqui estar. </p><p>Cumprindo também a praxe parlamentar, cabe-me, em nome do Grupo Parlamentar do Partido Socialista, </p><p>com muita honra também, designar para presidir aos nossos trabalhos, nesta primeira sessão, o Sr. Deputado </p><p>Eduardo Ferro Rodrigues, que é, de resto, o Presidente da Assembleia da República cessante e a quem peço </p><p>que suba ao seu lugar. </p><p></p><p>Aplausos do PS, do BE, do PCP, do PEV e de Deputados d<p>Às 10 horas e 9 minutos, tomou a palavra a Deputada do PS Ana Catarina Mendonça Mendes.</p><p></p><p>A Sr.ª Ana Catarina Mendonça Mendes (PS): — Sr.as e Srs. Deputados, em nome da boa praxe parlamentar, </p><p>e sendo do grupo parlamentar maioritário nesta Assembleia da República, cabe-me iniciar os trabalhos desta </p><p>nova Legislatura. </p><p>Por isso mesmo, gostaria, em primeiro lugar, de saudar todas Sr.as Deputadas e todos os Srs. Deputados, </p><p>todos os eleitos, para que cumpramos aquele que é o respeito pela intuição democrática Assembleia da </p><p>República e para que cada um de nós exerça o seu mandato em representação daqueles que nos elegeram </p><p>para aqui estar. </p><p>Cumprindo também a praxe parlamentar, cabe-me, em nome do Grupo Parlamentar do Partido Socialista, </p><p>com muita honra também, designar para presidir aos nossos trabalhos, nesta primeira sessão, o Sr. Deputado </p><p>Eduardo Ferro Rodrigues, que é, de resto, o Presidente da Assembleia da República\"\n",
    "pat=\"(?:<p>.+\\(.+\\): —.+\\: —)\"\n",
    "match=re.findall(pat, ttt)\n"
   ]
  },
  {
   "cell_type": "code",
   "execution_count": 91,
   "metadata": {},
   "outputs": [
    {
     "name": "stdout",
     "output_type": "stream",
     "text": [
      "[]\n"
     ]
    }
   ],
   "source": [
    "def smallest_between_two(a, b, text):\n",
    "    return re.findall(re.escape(a)+\"(.*?)\"+re.escape(b),text)\n",
    "\n",
    "print(smallest_between_two('<p> ', '): —', ttt))\n",
    "#print(smallest_between_two('<p>', ': —', '<p>this one: —]<p>[not this one: —'))\n",
    "#print(smallest_between_two('paste ', '/', '@paste \"game_01/01\"'))"
   ]
  },
  {
   "cell_type": "code",
   "execution_count": 95,
   "metadata": {},
   "outputs": [],
   "source": [
    "\n",
    "m=re.findall('</p><p></p><p>(.+?): —', ttt)"
   ]
  },
  {
   "cell_type": "code",
   "execution_count": 110,
   "metadata": {},
   "outputs": [
    {
     "data": {
      "text/plain": [
       "['</p><p>2 </p><p>Às 10 horas e 9 minutos, tomou a palavra a Deputada do PS Ana Catarina Mendonça Mendes.</p><p></p><p>A Sr.ª Ana Catarina Mendonça Mendes (PS)',\n",
       " 'Aplausos do PS, do BE, do PCP, do PEV e de Deputados do PSD. </p><p></p><p>Com o assentimento da Assembleia, assumiu a presidência o Deputado do PS Eduardo Ferro Rodrigues. </p><p></p><p>O Sr. Presidente',\n",
       " 'Aplausos do PS, do BE, do PCP, do PEV e de Deputados d<p>Às 10 horas e 9 minutos, tomou a palavra a Deputada do PS Ana Catarina Mendonça Mendes.</p><p></p><p>A Sr.ª Ana Catarina Mendonça Mendes (PS)']"
      ]
     },
     "execution_count": 110,
     "metadata": {},
     "output_type": "execute_result"
    }
   ],
   "source": [
    "m"
   ]
  },
  {
   "cell_type": "code",
   "execution_count": 114,
   "metadata": {},
   "outputs": [
    {
     "data": {
      "text/plain": [
       "[(0, 174), (1084, 1304), (1915, 2130)]"
      ]
     },
     "execution_count": 114,
     "metadata": {},
     "output_type": "execute_result"
    }
   ],
   "source": [
    "[(m.start(0), m.end(0)) for m in re.finditer('</p><p></p><p>(.+?): —', ttt)]"
   ]
  },
  {
   "cell_type": "code",
   "execution_count": 113,
   "metadata": {},
   "outputs": [
    {
     "name": "stdout",
     "output_type": "stream",
     "text": [
      "A Sr.ª Ana Catarina Mendonça Mendes (PS)\n",
      "['PS']\n",
      "Ana Catarina Mendonça Mendes \n",
      "Com o assentimento da Assembleia, assumiu a presidência o Deputado do PS Eduardo Ferro Rodrigues. </p><p></p><p>O Sr. Presidente\n",
      "[]\n",
      "ComassentimentoAssembleia, assumiupresidênciaDeputado Eduardo Ferro Rodrigues </><></><>Presidente\n",
      "A Sr.ª Ana Catarina Mendonça Mendes (PS)\n",
      "['PS']\n",
      "Ana Catarina Mendonça Mendes \n"
     ]
    }
   ],
   "source": [
    "for i in m:\n",
    "    c=i[i.index('</p><p></p><p>')+len('</p><p></p><p>'):]\n",
    "    party=re.findall('\\((.+?)\\)',c)\n",
    "    name=re.sub(r'\\b\\w{1,2}\\b', '', c).replace('.','').replace ('()','').replace('  ','')\n",
    "    print(c)\n",
    "    print(party)\n",
    "    print(name)"
   ]
  },
  {
   "cell_type": "code",
   "execution_count": 102,
   "metadata": {},
   "outputs": [],
   "source": [
    "c=m[0][m[0].index('</p><p></p><p>')+len('</p><p></p><p>'):]"
   ]
  },
  {
   "cell_type": "code",
   "execution_count": 106,
   "metadata": {},
   "outputs": [
    {
     "data": {
      "text/plain": [
       "['PS']"
      ]
     },
     "execution_count": 106,
     "metadata": {},
     "output_type": "execute_result"
    }
   ],
   "source": [
    "party=re.findall('\\((.+?)\\)',c)"
   ]
  },
  {
   "cell_type": "code",
   "execution_count": 109,
   "metadata": {},
   "outputs": [
    {
     "data": {
      "text/plain": [
       "'Ana Catarina Mendonça Mendes '"
      ]
     },
     "execution_count": 109,
     "metadata": {},
     "output_type": "execute_result"
    }
   ],
   "source": [
    "re.sub(r'\\b\\w{1,2}\\b', '', c).replace('.','').replace ('()','').replace('  ','')"
   ]
  },
  {
   "cell_type": "code",
   "execution_count": null,
   "metadata": {},
   "outputs": [],
   "source": []
  }
 ],
 "metadata": {
  "interpreter": {
   "hash": "95a5ab6f8988138c4aafa838927270364e946a56a2b152cd75ab864ac6056d77"
  },
  "kernelspec": {
   "display_name": "Python 3.8.12 64-bit ('py38': conda)",
   "language": "python",
   "name": "python3"
  },
  "language_info": {
   "codemirror_mode": {
    "name": "ipython",
    "version": 3
   },
   "file_extension": ".py",
   "mimetype": "text/x-python",
   "name": "python",
   "nbconvert_exporter": "python",
   "pygments_lexer": "ipython3",
   "version": "3.8.12"
  },
  "orig_nbformat": 4
 },
 "nbformat": 4,
 "nbformat_minor": 2
}
