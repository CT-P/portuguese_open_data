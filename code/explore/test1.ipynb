{
 "cells": [
  {
   "cell_type": "code",
   "execution_count": 2,
   "metadata": {},
   "outputs": [],
   "source": [
    "import pandas as pd\n",
    "from lxml import etree\n",
    "import os\n",
    "from bs4 import BeautifulSoup\n",
    "import requests\n",
    "import xml.etree.ElementTree as ET\n",
    "import validators\n",
    "import datetime\n",
    "import re"
   ]
  },
  {
   "cell_type": "code",
   "execution_count": null,
   "metadata": {},
   "outputs": [],
   "source": []
  },
  {
   "cell_type": "code",
   "execution_count": 5,
   "metadata": {},
   "outputs": [],
   "source": [
    "#utils\n",
    "\n",
    "def add_zeros(int_):\n",
    "    if len(str(int_))<2:\n",
    "        return '00'+str(int_)\n",
    "    if len(str(int_))<3:\n",
    "        return '0'+str(int_)\n",
    "    if len(str(int_))==3:\n",
    "        return str(int_)\n",
    "\n",
    "def get_text_from_html(url__):\n",
    "    from bs4 import BeautifulSoup\n",
    "    res = requests.get(url__)\n",
    "    html_page = res.content\n",
    "    soup = BeautifulSoup(html_page, 'html.parser')\n",
    "    return str(soup.noscript)"
   ]
  },
  {
   "cell_type": "code",
   "execution_count": 78,
   "metadata": {},
   "outputs": [],
   "source": [
    "#regex\n",
    "def check_dialog(text_):\n",
    "    pat=\"(?:</p><p>.*?\\(.*?\\): —.*?\\: —)\"\n",
    "    match=re.findall(pat, text_)\n",
    "    if match is None :\n",
    "        return 'no_dialog'\n",
    "    else:\n",
    "        for m in match:\n",
    "            \n",
    "            return m\n",
    "\n",
    "def extract_dialog(full_text):    \n",
    "    if full_text is None:\n",
    "        return None\n",
    "    else:\n",
    "        dialogs=[(m.start(0), m.end(0)) for m in re.finditer('</p><p></p><p>(.+?): —', full_text)]\n",
    "        out=[]\n",
    "        if len(dialogs)==1:\n",
    "            out.append(full_text[dialogs[0][0]:])\n",
    "        if len(dialogs)>1:\n",
    "            for i in range(0, len(dialogs)-1):\n",
    "                out.append(full_text[dialogs[i][0]:dialogs[i+1][0]])\n",
    "            out.append(full_text[dialogs[len(dialogs)-1][0]:])\n",
    "\n",
    "        return out\n",
    "    \n",
    "def extract_party_name(dialogs):\n",
    "    if dialogs is None:\n",
    "        return None\n",
    "    else:\n",
    "        for i in dialogs:\n",
    "            positions=[(m.start(0), m.end(0)) for m in re.finditer('(.+?): —', i)]\n",
    "            party=re.findall('\\((.+?)\\)',i)\n",
    "            name_aux=i[positions[0][1]-50:positions[0][1]]\n",
    "            name=re.sub(r'\\b\\w{1,2}\\b', '', name_aux).replace('.','').replace ('()','').replace('  ','').replace('<','').replace('>','').replace('/','').replace(': —','')\n",
    "            if len(party)>0:\n",
    "                party=party[0]\n",
    "            return [party, name]"
   ]
  },
  {
   "cell_type": "code",
   "execution_count": 3,
   "metadata": {},
   "outputs": [],
   "source": [
    "current_directory=\"C:\\\\Users\\caperei\"\n",
    "cycle='14'\n",
    "session='1'\n",
    "data_directory=f\"\\portuguese_open_data\\data\\cycle\\{cycle}\\session\\{session}\\\\numbers_dates_pages.csv\"\n",
    "input_data=pd.read_csv(r\"C:\\Users\\caperei\\portuguese_open_data\\data\\cyle\\14\\session\\1\\numbers_dates_pages.csv\")"
   ]
  },
  {
   "cell_type": "code",
   "execution_count": 4,
   "metadata": {},
   "outputs": [
    {
     "data": {
      "text/html": [
       "<div>\n",
       "<style scoped>\n",
       "    .dataframe tbody tr th:only-of-type {\n",
       "        vertical-align: middle;\n",
       "    }\n",
       "\n",
       "    .dataframe tbody tr th {\n",
       "        vertical-align: top;\n",
       "    }\n",
       "\n",
       "    .dataframe thead th {\n",
       "        text-align: right;\n",
       "    }\n",
       "</style>\n",
       "<table border=\"1\" class=\"dataframe\">\n",
       "  <thead>\n",
       "    <tr style=\"text-align: right;\">\n",
       "      <th></th>\n",
       "      <th>number</th>\n",
       "      <th>date</th>\n",
       "      <th>pages</th>\n",
       "    </tr>\n",
       "  </thead>\n",
       "  <tbody>\n",
       "    <tr>\n",
       "      <th>0</th>\n",
       "      <td>1</td>\n",
       "      <td>25/10/2019</td>\n",
       "      <td>13</td>\n",
       "    </tr>\n",
       "    <tr>\n",
       "      <th>1</th>\n",
       "      <td>2</td>\n",
       "      <td>30/10/2019</td>\n",
       "      <td>124</td>\n",
       "    </tr>\n",
       "    <tr>\n",
       "      <th>2</th>\n",
       "      <td>3</td>\n",
       "      <td>31/10/2019</td>\n",
       "      <td>26</td>\n",
       "    </tr>\n",
       "  </tbody>\n",
       "</table>\n",
       "</div>"
      ],
      "text/plain": [
       "   number        date  pages\n",
       "0       1  25/10/2019     13\n",
       "1       2  30/10/2019    124\n",
       "2       3  31/10/2019     26"
      ]
     },
     "execution_count": 4,
     "metadata": {},
     "output_type": "execute_result"
    }
   ],
   "source": [
    "input_data.head(3)"
   ]
  },
  {
   "cell_type": "code",
   "execution_count": 6,
   "metadata": {},
   "outputs": [],
   "source": [
    "df = pd.DataFrame(columns=['legislature','cycle','session','number','date','page', 'text_1','url'])        \n",
    "legislature='dar/01'\n",
    "cycle='14'\n",
    "session=['01'] #['01','02','03']\n",
    "numbers_dates=list(zip(input_data.number, input_data.date,input_data.pages ))[0:1]\n",
    "pages=input_data.pages.values[0:1]"
   ]
  },
  {
   "cell_type": "code",
   "execution_count": 7,
   "metadata": {},
   "outputs": [],
   "source": [
    "s_c=[]\n",
    "n_c=[]\n",
    "d_c=[]\n",
    "p_c=[]\n",
    "u_c=[]\n",
    "t_c=[]\n",
    "for s in session:\n",
    "    for number, date, page in numbers_dates:\n",
    "        number=add_zeros(number)\n",
    "        date=datetime.datetime.strptime(date, '%d/%m/%Y').strftime('%Y-%m-%d')\n",
    "        for page_i in range(1,page+1):\n",
    "                url_=f'https://debates.parlamento.pt/catalogo/r3/{legislature}/{cycle}/{s}/{number}/{date}/{page_i}'\n",
    "                if validators.url(url_):\n",
    "                    #print (url_)\n",
    "                    u_c.append(url_)\n",
    "                    p_c.append(page_i)\n",
    "                    t_c.append(get_text_from_html(url_))\n",
    "                    s_c.append(s)\n",
    "                    n_c.append(number)\n",
    "                    d_c.append(date)\n",
    "df['page']=p_c\n",
    "df['session']=s_c\n",
    "df['number']=n_c\n",
    "df['date']=d_c\n",
    "\n",
    "df['text_1']=t_c\n",
    "df['url']=u_c\n",
    "df['legislature']=legislature\n",
    "df['cycle']=cycle    "
   ]
  },
  {
   "cell_type": "code",
   "execution_count": null,
   "metadata": {},
   "outputs": [],
   "source": [
    "#df.to_pickle('portuguese_transcripts.pkl') \n",
    "#df = pd.read_pickle('portuguese_transcripts.pkl')"
   ]
  },
  {
   "cell_type": "code",
   "execution_count": 8,
   "metadata": {},
   "outputs": [
    {
     "data": {
      "text/html": [
       "<div>\n",
       "<style scoped>\n",
       "    .dataframe tbody tr th:only-of-type {\n",
       "        vertical-align: middle;\n",
       "    }\n",
       "\n",
       "    .dataframe tbody tr th {\n",
       "        vertical-align: top;\n",
       "    }\n",
       "\n",
       "    .dataframe thead th {\n",
       "        text-align: right;\n",
       "    }\n",
       "</style>\n",
       "<table border=\"1\" class=\"dataframe\">\n",
       "  <thead>\n",
       "    <tr style=\"text-align: right;\">\n",
       "      <th></th>\n",
       "      <th>legislature</th>\n",
       "      <th>cycle</th>\n",
       "      <th>session</th>\n",
       "      <th>number</th>\n",
       "      <th>date</th>\n",
       "      <th>page</th>\n",
       "      <th>text_1</th>\n",
       "      <th>url</th>\n",
       "    </tr>\n",
       "  </thead>\n",
       "  <tbody>\n",
       "    <tr>\n",
       "      <th>0</th>\n",
       "      <td>dar/01</td>\n",
       "      <td>14</td>\n",
       "      <td>01</td>\n",
       "      <td>001</td>\n",
       "      <td>2019-10-25</td>\n",
       "      <td>1</td>\n",
       "      <td>&lt;noscript&gt;\\n&lt;p&gt;Sábado, 26 de outubro de 2019  ...</td>\n",
       "      <td>https://debates.parlamento.pt/catalogo/r3/dar/...</td>\n",
       "    </tr>\n",
       "    <tr>\n",
       "      <th>1</th>\n",
       "      <td>dar/01</td>\n",
       "      <td>14</td>\n",
       "      <td>01</td>\n",
       "      <td>001</td>\n",
       "      <td>2019-10-25</td>\n",
       "      <td>2</td>\n",
       "      <td>&lt;noscript&gt;\\n&lt;p&gt;I SÉRIE — NÚMERO 1 &lt;/p&gt;&lt;p&gt;&lt;/p&gt;&lt;...</td>\n",
       "      <td>https://debates.parlamento.pt/catalogo/r3/dar/...</td>\n",
       "    </tr>\n",
       "    <tr>\n",
       "      <th>2</th>\n",
       "      <td>dar/01</td>\n",
       "      <td>14</td>\n",
       "      <td>01</td>\n",
       "      <td>001</td>\n",
       "      <td>2019-10-25</td>\n",
       "      <td>3</td>\n",
       "      <td>&lt;noscript&gt;\\n&lt;p&gt;26 DE OUTUBRO DE 2019 &lt;/p&gt;&lt;p&gt;3 ...</td>\n",
       "      <td>https://debates.parlamento.pt/catalogo/r3/dar/...</td>\n",
       "    </tr>\n",
       "    <tr>\n",
       "      <th>3</th>\n",
       "      <td>dar/01</td>\n",
       "      <td>14</td>\n",
       "      <td>01</td>\n",
       "      <td>001</td>\n",
       "      <td>2019-10-25</td>\n",
       "      <td>4</td>\n",
       "      <td>&lt;noscript&gt;\\n&lt;p&gt;I SÉRIE — NÚMERO 1 &lt;/p&gt;&lt;p&gt;&lt;/p&gt;&lt;...</td>\n",
       "      <td>https://debates.parlamento.pt/catalogo/r3/dar/...</td>\n",
       "    </tr>\n",
       "    <tr>\n",
       "      <th>4</th>\n",
       "      <td>dar/01</td>\n",
       "      <td>14</td>\n",
       "      <td>01</td>\n",
       "      <td>001</td>\n",
       "      <td>2019-10-25</td>\n",
       "      <td>5</td>\n",
       "      <td>&lt;noscript&gt;\\n&lt;p&gt;26 DE OUTUBRO DE 2019 &lt;/p&gt;&lt;p&gt;5 ...</td>\n",
       "      <td>https://debates.parlamento.pt/catalogo/r3/dar/...</td>\n",
       "    </tr>\n",
       "    <tr>\n",
       "      <th>5</th>\n",
       "      <td>dar/01</td>\n",
       "      <td>14</td>\n",
       "      <td>01</td>\n",
       "      <td>001</td>\n",
       "      <td>2019-10-25</td>\n",
       "      <td>6</td>\n",
       "      <td>&lt;noscript&gt;\\n&lt;p&gt;I SÉRIE — NÚMERO 1 &lt;/p&gt;&lt;p&gt;&lt;/p&gt;&lt;...</td>\n",
       "      <td>https://debates.parlamento.pt/catalogo/r3/dar/...</td>\n",
       "    </tr>\n",
       "    <tr>\n",
       "      <th>6</th>\n",
       "      <td>dar/01</td>\n",
       "      <td>14</td>\n",
       "      <td>01</td>\n",
       "      <td>001</td>\n",
       "      <td>2019-10-25</td>\n",
       "      <td>7</td>\n",
       "      <td>&lt;noscript&gt;\\n&lt;p&gt;26 DE OUTUBRO DE 2019 &lt;/p&gt;&lt;p&gt;7 ...</td>\n",
       "      <td>https://debates.parlamento.pt/catalogo/r3/dar/...</td>\n",
       "    </tr>\n",
       "    <tr>\n",
       "      <th>7</th>\n",
       "      <td>dar/01</td>\n",
       "      <td>14</td>\n",
       "      <td>01</td>\n",
       "      <td>001</td>\n",
       "      <td>2019-10-25</td>\n",
       "      <td>8</td>\n",
       "      <td>&lt;noscript&gt;\\n&lt;p&gt;I SÉRIE — NÚMERO 1 &lt;/p&gt;&lt;p&gt;&lt;/p&gt;&lt;...</td>\n",
       "      <td>https://debates.parlamento.pt/catalogo/r3/dar/...</td>\n",
       "    </tr>\n",
       "    <tr>\n",
       "      <th>8</th>\n",
       "      <td>dar/01</td>\n",
       "      <td>14</td>\n",
       "      <td>01</td>\n",
       "      <td>001</td>\n",
       "      <td>2019-10-25</td>\n",
       "      <td>9</td>\n",
       "      <td>&lt;noscript&gt;\\n&lt;p&gt;26 DE OUTUBRO DE 2019 &lt;/p&gt;&lt;p&gt;9 ...</td>\n",
       "      <td>https://debates.parlamento.pt/catalogo/r3/dar/...</td>\n",
       "    </tr>\n",
       "    <tr>\n",
       "      <th>9</th>\n",
       "      <td>dar/01</td>\n",
       "      <td>14</td>\n",
       "      <td>01</td>\n",
       "      <td>001</td>\n",
       "      <td>2019-10-25</td>\n",
       "      <td>10</td>\n",
       "      <td>&lt;noscript&gt;\\n&lt;p&gt;I SÉRIE — NÚMERO 1 &lt;/p&gt;&lt;p&gt;&lt;/p&gt;&lt;...</td>\n",
       "      <td>https://debates.parlamento.pt/catalogo/r3/dar/...</td>\n",
       "    </tr>\n",
       "    <tr>\n",
       "      <th>10</th>\n",
       "      <td>dar/01</td>\n",
       "      <td>14</td>\n",
       "      <td>01</td>\n",
       "      <td>001</td>\n",
       "      <td>2019-10-25</td>\n",
       "      <td>11</td>\n",
       "      <td>&lt;noscript&gt;\\n&lt;p&gt;26 DE OUTUBRO DE 2019 &lt;/p&gt;&lt;p&gt;11...</td>\n",
       "      <td>https://debates.parlamento.pt/catalogo/r3/dar/...</td>\n",
       "    </tr>\n",
       "    <tr>\n",
       "      <th>11</th>\n",
       "      <td>dar/01</td>\n",
       "      <td>14</td>\n",
       "      <td>01</td>\n",
       "      <td>001</td>\n",
       "      <td>2019-10-25</td>\n",
       "      <td>12</td>\n",
       "      <td>&lt;noscript&gt;\\n&lt;p&gt;I SÉRIE — NÚMERO 1 &lt;/p&gt;&lt;p&gt;&lt;/p&gt;&lt;...</td>\n",
       "      <td>https://debates.parlamento.pt/catalogo/r3/dar/...</td>\n",
       "    </tr>\n",
       "    <tr>\n",
       "      <th>12</th>\n",
       "      <td>dar/01</td>\n",
       "      <td>14</td>\n",
       "      <td>01</td>\n",
       "      <td>001</td>\n",
       "      <td>2019-10-25</td>\n",
       "      <td>13</td>\n",
       "      <td>&lt;noscript&gt;\\n&lt;p&gt;26 DE OUTUBRO DE 2019 &lt;/p&gt;&lt;p&gt;13...</td>\n",
       "      <td>https://debates.parlamento.pt/catalogo/r3/dar/...</td>\n",
       "    </tr>\n",
       "  </tbody>\n",
       "</table>\n",
       "</div>"
      ],
      "text/plain": [
       "   legislature cycle session number        date  page  \\\n",
       "0       dar/01    14      01    001  2019-10-25     1   \n",
       "1       dar/01    14      01    001  2019-10-25     2   \n",
       "2       dar/01    14      01    001  2019-10-25     3   \n",
       "3       dar/01    14      01    001  2019-10-25     4   \n",
       "4       dar/01    14      01    001  2019-10-25     5   \n",
       "5       dar/01    14      01    001  2019-10-25     6   \n",
       "6       dar/01    14      01    001  2019-10-25     7   \n",
       "7       dar/01    14      01    001  2019-10-25     8   \n",
       "8       dar/01    14      01    001  2019-10-25     9   \n",
       "9       dar/01    14      01    001  2019-10-25    10   \n",
       "10      dar/01    14      01    001  2019-10-25    11   \n",
       "11      dar/01    14      01    001  2019-10-25    12   \n",
       "12      dar/01    14      01    001  2019-10-25    13   \n",
       "\n",
       "                                               text_1  \\\n",
       "0   <noscript>\\n<p>Sábado, 26 de outubro de 2019  ...   \n",
       "1   <noscript>\\n<p>I SÉRIE — NÚMERO 1 </p><p></p><...   \n",
       "2   <noscript>\\n<p>26 DE OUTUBRO DE 2019 </p><p>3 ...   \n",
       "3   <noscript>\\n<p>I SÉRIE — NÚMERO 1 </p><p></p><...   \n",
       "4   <noscript>\\n<p>26 DE OUTUBRO DE 2019 </p><p>5 ...   \n",
       "5   <noscript>\\n<p>I SÉRIE — NÚMERO 1 </p><p></p><...   \n",
       "6   <noscript>\\n<p>26 DE OUTUBRO DE 2019 </p><p>7 ...   \n",
       "7   <noscript>\\n<p>I SÉRIE — NÚMERO 1 </p><p></p><...   \n",
       "8   <noscript>\\n<p>26 DE OUTUBRO DE 2019 </p><p>9 ...   \n",
       "9   <noscript>\\n<p>I SÉRIE — NÚMERO 1 </p><p></p><...   \n",
       "10  <noscript>\\n<p>26 DE OUTUBRO DE 2019 </p><p>11...   \n",
       "11  <noscript>\\n<p>I SÉRIE — NÚMERO 1 </p><p></p><...   \n",
       "12  <noscript>\\n<p>26 DE OUTUBRO DE 2019 </p><p>13...   \n",
       "\n",
       "                                                  url  \n",
       "0   https://debates.parlamento.pt/catalogo/r3/dar/...  \n",
       "1   https://debates.parlamento.pt/catalogo/r3/dar/...  \n",
       "2   https://debates.parlamento.pt/catalogo/r3/dar/...  \n",
       "3   https://debates.parlamento.pt/catalogo/r3/dar/...  \n",
       "4   https://debates.parlamento.pt/catalogo/r3/dar/...  \n",
       "5   https://debates.parlamento.pt/catalogo/r3/dar/...  \n",
       "6   https://debates.parlamento.pt/catalogo/r3/dar/...  \n",
       "7   https://debates.parlamento.pt/catalogo/r3/dar/...  \n",
       "8   https://debates.parlamento.pt/catalogo/r3/dar/...  \n",
       "9   https://debates.parlamento.pt/catalogo/r3/dar/...  \n",
       "10  https://debates.parlamento.pt/catalogo/r3/dar/...  \n",
       "11  https://debates.parlamento.pt/catalogo/r3/dar/...  \n",
       "12  https://debates.parlamento.pt/catalogo/r3/dar/...  "
      ]
     },
     "execution_count": 8,
     "metadata": {},
     "output_type": "execute_result"
    }
   ],
   "source": [
    "df"
   ]
  },
  {
   "cell_type": "code",
   "execution_count": 16,
   "metadata": {},
   "outputs": [],
   "source": [
    "df['dialogs']=[check_dialog(t) for t in df.text_1]"
   ]
  },
  {
   "cell_type": "code",
   "execution_count": 72,
   "metadata": {},
   "outputs": [],
   "source": [
    "df['speech']=[extract_dialog(t) for t in df.dialogs ]"
   ]
  },
  {
   "cell_type": "code",
   "execution_count": 82,
   "metadata": {},
   "outputs": [],
   "source": [
    "df['party']=[extract_party_name(t) for t in df.speech  ]"
   ]
  },
  {
   "cell_type": "code",
   "execution_count": 83,
   "metadata": {},
   "outputs": [
    {
     "data": {
      "text/html": [
       "<div>\n",
       "<style scoped>\n",
       "    .dataframe tbody tr th:only-of-type {\n",
       "        vertical-align: middle;\n",
       "    }\n",
       "\n",
       "    .dataframe tbody tr th {\n",
       "        vertical-align: top;\n",
       "    }\n",
       "\n",
       "    .dataframe thead th {\n",
       "        text-align: right;\n",
       "    }\n",
       "</style>\n",
       "<table border=\"1\" class=\"dataframe\">\n",
       "  <thead>\n",
       "    <tr style=\"text-align: right;\">\n",
       "      <th></th>\n",
       "      <th>legislature</th>\n",
       "      <th>cycle</th>\n",
       "      <th>session</th>\n",
       "      <th>number</th>\n",
       "      <th>date</th>\n",
       "      <th>page</th>\n",
       "      <th>text_1</th>\n",
       "      <th>url</th>\n",
       "      <th>dialogs</th>\n",
       "      <th>speech</th>\n",
       "      <th>party</th>\n",
       "    </tr>\n",
       "  </thead>\n",
       "  <tbody>\n",
       "    <tr>\n",
       "      <th>0</th>\n",
       "      <td>dar/01</td>\n",
       "      <td>14</td>\n",
       "      <td>01</td>\n",
       "      <td>001</td>\n",
       "      <td>2019-10-25</td>\n",
       "      <td>1</td>\n",
       "      <td>&lt;noscript&gt;\\n&lt;p&gt;Sábado, 26 de outubro de 2019  ...</td>\n",
       "      <td>https://debates.parlamento.pt/catalogo/r3/dar/...</td>\n",
       "      <td>None</td>\n",
       "      <td>None</td>\n",
       "      <td>None</td>\n",
       "    </tr>\n",
       "    <tr>\n",
       "      <th>1</th>\n",
       "      <td>dar/01</td>\n",
       "      <td>14</td>\n",
       "      <td>01</td>\n",
       "      <td>001</td>\n",
       "      <td>2019-10-25</td>\n",
       "      <td>2</td>\n",
       "      <td>&lt;noscript&gt;\\n&lt;p&gt;I SÉRIE — NÚMERO 1 &lt;/p&gt;&lt;p&gt;&lt;/p&gt;&lt;...</td>\n",
       "      <td>https://debates.parlamento.pt/catalogo/r3/dar/...</td>\n",
       "      <td>&lt;/p&gt;&lt;p&gt;&lt;/p&gt;&lt;p&gt;&lt;/p&gt;&lt;p&gt;2 &lt;/p&gt;&lt;p&gt;Às 10 horas e 9 ...</td>\n",
       "      <td>[&lt;/p&gt;&lt;p&gt;&lt;/p&gt;&lt;p&gt;&lt;/p&gt;&lt;p&gt;2 &lt;/p&gt;&lt;p&gt;Às 10 horas e 9...</td>\n",
       "      <td>[PS, Ana Catarina Mendonça Mendes ]</td>\n",
       "    </tr>\n",
       "    <tr>\n",
       "      <th>2</th>\n",
       "      <td>dar/01</td>\n",
       "      <td>14</td>\n",
       "      <td>01</td>\n",
       "      <td>001</td>\n",
       "      <td>2019-10-25</td>\n",
       "      <td>3</td>\n",
       "      <td>&lt;noscript&gt;\\n&lt;p&gt;26 DE OUTUBRO DE 2019 &lt;/p&gt;&lt;p&gt;3 ...</td>\n",
       "      <td>https://debates.parlamento.pt/catalogo/r3/dar/...</td>\n",
       "      <td>None</td>\n",
       "      <td>None</td>\n",
       "      <td>None</td>\n",
       "    </tr>\n",
       "    <tr>\n",
       "      <th>3</th>\n",
       "      <td>dar/01</td>\n",
       "      <td>14</td>\n",
       "      <td>01</td>\n",
       "      <td>001</td>\n",
       "      <td>2019-10-25</td>\n",
       "      <td>4</td>\n",
       "      <td>&lt;noscript&gt;\\n&lt;p&gt;I SÉRIE — NÚMERO 1 &lt;/p&gt;&lt;p&gt;&lt;/p&gt;&lt;...</td>\n",
       "      <td>https://debates.parlamento.pt/catalogo/r3/dar/...</td>\n",
       "      <td>None</td>\n",
       "      <td>None</td>\n",
       "      <td>None</td>\n",
       "    </tr>\n",
       "    <tr>\n",
       "      <th>4</th>\n",
       "      <td>dar/01</td>\n",
       "      <td>14</td>\n",
       "      <td>01</td>\n",
       "      <td>001</td>\n",
       "      <td>2019-10-25</td>\n",
       "      <td>5</td>\n",
       "      <td>&lt;noscript&gt;\\n&lt;p&gt;26 DE OUTUBRO DE 2019 &lt;/p&gt;&lt;p&gt;5 ...</td>\n",
       "      <td>https://debates.parlamento.pt/catalogo/r3/dar/...</td>\n",
       "      <td>None</td>\n",
       "      <td>None</td>\n",
       "      <td>None</td>\n",
       "    </tr>\n",
       "    <tr>\n",
       "      <th>5</th>\n",
       "      <td>dar/01</td>\n",
       "      <td>14</td>\n",
       "      <td>01</td>\n",
       "      <td>001</td>\n",
       "      <td>2019-10-25</td>\n",
       "      <td>6</td>\n",
       "      <td>&lt;noscript&gt;\\n&lt;p&gt;I SÉRIE — NÚMERO 1 &lt;/p&gt;&lt;p&gt;&lt;/p&gt;&lt;...</td>\n",
       "      <td>https://debates.parlamento.pt/catalogo/r3/dar/...</td>\n",
       "      <td>&lt;/p&gt;&lt;p&gt;&lt;/p&gt;&lt;p&gt;&lt;/p&gt;&lt;p&gt;6 &lt;/p&gt;&lt;p&gt;Essa chamada, al...</td>\n",
       "      <td>[&lt;/p&gt;&lt;p&gt;&lt;/p&gt;&lt;p&gt;&lt;/p&gt;&lt;p&gt;6 &lt;/p&gt;&lt;p&gt;Essa chamada, a...</td>\n",
       "      <td>[Duarte Pacheco, Secretário (Duarte Pacheco)]</td>\n",
       "    </tr>\n",
       "    <tr>\n",
       "      <th>6</th>\n",
       "      <td>dar/01</td>\n",
       "      <td>14</td>\n",
       "      <td>01</td>\n",
       "      <td>001</td>\n",
       "      <td>2019-10-25</td>\n",
       "      <td>7</td>\n",
       "      <td>&lt;noscript&gt;\\n&lt;p&gt;26 DE OUTUBRO DE 2019 &lt;/p&gt;&lt;p&gt;7 ...</td>\n",
       "      <td>https://debates.parlamento.pt/catalogo/r3/dar/...</td>\n",
       "      <td>None</td>\n",
       "      <td>None</td>\n",
       "      <td>None</td>\n",
       "    </tr>\n",
       "    <tr>\n",
       "      <th>7</th>\n",
       "      <td>dar/01</td>\n",
       "      <td>14</td>\n",
       "      <td>01</td>\n",
       "      <td>001</td>\n",
       "      <td>2019-10-25</td>\n",
       "      <td>8</td>\n",
       "      <td>&lt;noscript&gt;\\n&lt;p&gt;I SÉRIE — NÚMERO 1 &lt;/p&gt;&lt;p&gt;&lt;/p&gt;&lt;...</td>\n",
       "      <td>https://debates.parlamento.pt/catalogo/r3/dar/...</td>\n",
       "      <td>None</td>\n",
       "      <td>None</td>\n",
       "      <td>None</td>\n",
       "    </tr>\n",
       "    <tr>\n",
       "      <th>8</th>\n",
       "      <td>dar/01</td>\n",
       "      <td>14</td>\n",
       "      <td>01</td>\n",
       "      <td>001</td>\n",
       "      <td>2019-10-25</td>\n",
       "      <td>9</td>\n",
       "      <td>&lt;noscript&gt;\\n&lt;p&gt;26 DE OUTUBRO DE 2019 &lt;/p&gt;&lt;p&gt;9 ...</td>\n",
       "      <td>https://debates.parlamento.pt/catalogo/r3/dar/...</td>\n",
       "      <td>None</td>\n",
       "      <td>None</td>\n",
       "      <td>None</td>\n",
       "    </tr>\n",
       "    <tr>\n",
       "      <th>9</th>\n",
       "      <td>dar/01</td>\n",
       "      <td>14</td>\n",
       "      <td>01</td>\n",
       "      <td>001</td>\n",
       "      <td>2019-10-25</td>\n",
       "      <td>10</td>\n",
       "      <td>&lt;noscript&gt;\\n&lt;p&gt;I SÉRIE — NÚMERO 1 &lt;/p&gt;&lt;p&gt;&lt;/p&gt;&lt;...</td>\n",
       "      <td>https://debates.parlamento.pt/catalogo/r3/dar/...</td>\n",
       "      <td>&lt;/p&gt;&lt;p&gt;&lt;/p&gt;&lt;p&gt;&lt;/p&gt;&lt;p&gt;10 &lt;/p&gt;&lt;p&gt;Parabéns, Sr. P...</td>\n",
       "      <td>[&lt;/p&gt;&lt;p&gt;&lt;/p&gt;&lt;p&gt;&lt;/p&gt;&lt;p&gt;10 &lt;/p&gt;&lt;p&gt;Parabéns, Sr. ...</td>\n",
       "      <td>[[], AplausosPSD Presidente]</td>\n",
       "    </tr>\n",
       "    <tr>\n",
       "      <th>10</th>\n",
       "      <td>dar/01</td>\n",
       "      <td>14</td>\n",
       "      <td>01</td>\n",
       "      <td>001</td>\n",
       "      <td>2019-10-25</td>\n",
       "      <td>11</td>\n",
       "      <td>&lt;noscript&gt;\\n&lt;p&gt;26 DE OUTUBRO DE 2019 &lt;/p&gt;&lt;p&gt;11...</td>\n",
       "      <td>https://debates.parlamento.pt/catalogo/r3/dar/...</td>\n",
       "      <td>&lt;/p&gt;&lt;p&gt;11 &lt;/p&gt;&lt;p&gt;Presidente da Assembleia da R...</td>\n",
       "      <td>[&lt;/p&gt;&lt;p&gt;&lt;/p&gt;&lt;p&gt;Aplausos do PCP. &lt;/p&gt;&lt;p&gt;&lt;/p&gt;&lt;p&gt;...</td>\n",
       "      <td>[[], AplausosPCP Presidente]</td>\n",
       "    </tr>\n",
       "    <tr>\n",
       "      <th>11</th>\n",
       "      <td>dar/01</td>\n",
       "      <td>14</td>\n",
       "      <td>01</td>\n",
       "      <td>001</td>\n",
       "      <td>2019-10-25</td>\n",
       "      <td>12</td>\n",
       "      <td>&lt;noscript&gt;\\n&lt;p&gt;I SÉRIE — NÚMERO 1 &lt;/p&gt;&lt;p&gt;&lt;/p&gt;&lt;...</td>\n",
       "      <td>https://debates.parlamento.pt/catalogo/r3/dar/...</td>\n",
       "      <td>&lt;/p&gt;&lt;p&gt;&lt;/p&gt;&lt;p&gt;&lt;/p&gt;&lt;p&gt;12 &lt;/p&gt;&lt;p&gt;Termino, dizend...</td>\n",
       "      <td>[&lt;/p&gt;&lt;p&gt;&lt;/p&gt;&lt;p&gt;&lt;/p&gt;&lt;p&gt;12 &lt;/p&gt;&lt;p&gt;Termino, dizen...</td>\n",
       "      <td>[[], ausosCDS- Presidente]</td>\n",
       "    </tr>\n",
       "    <tr>\n",
       "      <th>12</th>\n",
       "      <td>dar/01</td>\n",
       "      <td>14</td>\n",
       "      <td>01</td>\n",
       "      <td>001</td>\n",
       "      <td>2019-10-25</td>\n",
       "      <td>13</td>\n",
       "      <td>&lt;noscript&gt;\\n&lt;p&gt;26 DE OUTUBRO DE 2019 &lt;/p&gt;&lt;p&gt;13...</td>\n",
       "      <td>https://debates.parlamento.pt/catalogo/r3/dar/...</td>\n",
       "      <td>&lt;/p&gt;&lt;p&gt;13 &lt;/p&gt;&lt;p&gt;&lt;/p&gt;&lt;p&gt;O Sr. José Luís Ferrei...</td>\n",
       "      <td>[&lt;/p&gt;&lt;p&gt;&lt;/p&gt;&lt;p&gt;O Sr. José Luís Ferreira (PEV):...</td>\n",
       "      <td>[PEV, ]</td>\n",
       "    </tr>\n",
       "  </tbody>\n",
       "</table>\n",
       "</div>"
      ],
      "text/plain": [
       "   legislature cycle session number        date  page  \\\n",
       "0       dar/01    14      01    001  2019-10-25     1   \n",
       "1       dar/01    14      01    001  2019-10-25     2   \n",
       "2       dar/01    14      01    001  2019-10-25     3   \n",
       "3       dar/01    14      01    001  2019-10-25     4   \n",
       "4       dar/01    14      01    001  2019-10-25     5   \n",
       "5       dar/01    14      01    001  2019-10-25     6   \n",
       "6       dar/01    14      01    001  2019-10-25     7   \n",
       "7       dar/01    14      01    001  2019-10-25     8   \n",
       "8       dar/01    14      01    001  2019-10-25     9   \n",
       "9       dar/01    14      01    001  2019-10-25    10   \n",
       "10      dar/01    14      01    001  2019-10-25    11   \n",
       "11      dar/01    14      01    001  2019-10-25    12   \n",
       "12      dar/01    14      01    001  2019-10-25    13   \n",
       "\n",
       "                                               text_1  \\\n",
       "0   <noscript>\\n<p>Sábado, 26 de outubro de 2019  ...   \n",
       "1   <noscript>\\n<p>I SÉRIE — NÚMERO 1 </p><p></p><...   \n",
       "2   <noscript>\\n<p>26 DE OUTUBRO DE 2019 </p><p>3 ...   \n",
       "3   <noscript>\\n<p>I SÉRIE — NÚMERO 1 </p><p></p><...   \n",
       "4   <noscript>\\n<p>26 DE OUTUBRO DE 2019 </p><p>5 ...   \n",
       "5   <noscript>\\n<p>I SÉRIE — NÚMERO 1 </p><p></p><...   \n",
       "6   <noscript>\\n<p>26 DE OUTUBRO DE 2019 </p><p>7 ...   \n",
       "7   <noscript>\\n<p>I SÉRIE — NÚMERO 1 </p><p></p><...   \n",
       "8   <noscript>\\n<p>26 DE OUTUBRO DE 2019 </p><p>9 ...   \n",
       "9   <noscript>\\n<p>I SÉRIE — NÚMERO 1 </p><p></p><...   \n",
       "10  <noscript>\\n<p>26 DE OUTUBRO DE 2019 </p><p>11...   \n",
       "11  <noscript>\\n<p>I SÉRIE — NÚMERO 1 </p><p></p><...   \n",
       "12  <noscript>\\n<p>26 DE OUTUBRO DE 2019 </p><p>13...   \n",
       "\n",
       "                                                  url  \\\n",
       "0   https://debates.parlamento.pt/catalogo/r3/dar/...   \n",
       "1   https://debates.parlamento.pt/catalogo/r3/dar/...   \n",
       "2   https://debates.parlamento.pt/catalogo/r3/dar/...   \n",
       "3   https://debates.parlamento.pt/catalogo/r3/dar/...   \n",
       "4   https://debates.parlamento.pt/catalogo/r3/dar/...   \n",
       "5   https://debates.parlamento.pt/catalogo/r3/dar/...   \n",
       "6   https://debates.parlamento.pt/catalogo/r3/dar/...   \n",
       "7   https://debates.parlamento.pt/catalogo/r3/dar/...   \n",
       "8   https://debates.parlamento.pt/catalogo/r3/dar/...   \n",
       "9   https://debates.parlamento.pt/catalogo/r3/dar/...   \n",
       "10  https://debates.parlamento.pt/catalogo/r3/dar/...   \n",
       "11  https://debates.parlamento.pt/catalogo/r3/dar/...   \n",
       "12  https://debates.parlamento.pt/catalogo/r3/dar/...   \n",
       "\n",
       "                                              dialogs  \\\n",
       "0                                                None   \n",
       "1   </p><p></p><p></p><p>2 </p><p>Às 10 horas e 9 ...   \n",
       "2                                                None   \n",
       "3                                                None   \n",
       "4                                                None   \n",
       "5   </p><p></p><p></p><p>6 </p><p>Essa chamada, al...   \n",
       "6                                                None   \n",
       "7                                                None   \n",
       "8                                                None   \n",
       "9   </p><p></p><p></p><p>10 </p><p>Parabéns, Sr. P...   \n",
       "10  </p><p>11 </p><p>Presidente da Assembleia da R...   \n",
       "11  </p><p></p><p></p><p>12 </p><p>Termino, dizend...   \n",
       "12  </p><p>13 </p><p></p><p>O Sr. José Luís Ferrei...   \n",
       "\n",
       "                                               speech  \\\n",
       "0                                                None   \n",
       "1   [</p><p></p><p></p><p>2 </p><p>Às 10 horas e 9...   \n",
       "2                                                None   \n",
       "3                                                None   \n",
       "4                                                None   \n",
       "5   [</p><p></p><p></p><p>6 </p><p>Essa chamada, a...   \n",
       "6                                                None   \n",
       "7                                                None   \n",
       "8                                                None   \n",
       "9   [</p><p></p><p></p><p>10 </p><p>Parabéns, Sr. ...   \n",
       "10  [</p><p></p><p>Aplausos do PCP. </p><p></p><p>...   \n",
       "11  [</p><p></p><p></p><p>12 </p><p>Termino, dizen...   \n",
       "12  [</p><p></p><p>O Sr. José Luís Ferreira (PEV):...   \n",
       "\n",
       "                                            party  \n",
       "0                                            None  \n",
       "1             [PS, Ana Catarina Mendonça Mendes ]  \n",
       "2                                            None  \n",
       "3                                            None  \n",
       "4                                            None  \n",
       "5   [Duarte Pacheco, Secretário (Duarte Pacheco)]  \n",
       "6                                            None  \n",
       "7                                            None  \n",
       "8                                            None  \n",
       "9                    [[], AplausosPSD Presidente]  \n",
       "10                   [[], AplausosPCP Presidente]  \n",
       "11                     [[], ausosCDS- Presidente]  \n",
       "12                                        [PEV, ]  "
      ]
     },
     "execution_count": 83,
     "metadata": {},
     "output_type": "execute_result"
    }
   ],
   "source": [
    "df"
   ]
  },
  {
   "cell_type": "code",
   "execution_count": 65,
   "metadata": {},
   "outputs": [],
   "source": [
    "pat=\"(?:</p><p>.*?\\(.*?\\): —.*?\\: —)\"\n",
    "match=re.search(pat, df.text_1[0])\n",
    "match"
   ]
  },
  {
   "cell_type": "code",
   "execution_count": 73,
   "metadata": {},
   "outputs": [
    {
     "data": {
      "text/plain": [
       "'</p><p></p><p></p><p>2 </p><p>Às 10 horas e 9 minutos, tomou a palavra a Deputada do PS Ana Catarina Mendonça Mendes.</p><p></p><p>A Sr.ª Ana Catarina Mendonça Mendes (PS): — Sr.as e Srs. Deputados, em nome da boa praxe parlamentar, </p><p>e sendo do grupo parlamentar maioritário nesta Assembleia da República, cabe-me iniciar os trabalhos desta </p><p>nova Legislatura. </p><p>Por isso mesmo, gostaria, em primeiro lugar, de saudar todas Sr.as Deputadas e todos os Srs. Deputados, </p><p>todos os eleitos, para que cumpramos aquele que é o respeito pela intuição democrática Assembleia da </p><p>República e para que cada um de nós exerça o seu mandato em representação daqueles que nos elegeram </p><p>para aqui estar. </p><p>Cumprindo também a praxe parlamentar, cabe-me, em nome do Grupo Parlamentar do Partido Socialista, </p><p>com muita honra também, designar para presidir aos nossos trabalhos, nesta primeira sessão, o Sr. Deputado </p><p>Eduardo Ferro Rodrigues, que é, de resto, o Presidente da Assembleia da República cessante e a quem peço </p><p>que suba ao seu lugar. </p><p></p><p>Aplausos do PS, do BE, do PCP, do PEV e de Deputados do PSD. </p><p></p><p>Com o assentimento da Assembleia, assumiu a presidência o Deputado do PS Eduardo Ferro Rodrigues. </p><p></p><p>O Sr. Presidente: —'"
      ]
     },
     "execution_count": 73,
     "metadata": {},
     "output_type": "execute_result"
    }
   ],
   "source": [
    "df[df.dialogs!='no_dialog'].dialogs[1]"
   ]
  },
  {
   "cell_type": "code",
   "execution_count": 78,
   "metadata": {},
   "outputs": [],
   "source": [
    "tt=\"</p><p></p><p></p><p>2 </p><p>Às 10 horas e 9 minutos, tomou a palavra a Deputada do PS Ana Catarina Mendonça Mendes.</p><p></p><p>A Sr.ª Ana Catarina Mendonça Mendes (PS): — Sr.as e Srs. Deputados, em nome da boa praxe parlamentar, </p><p>e sendo do grupo parlamentar maioritário nesta Assembleia da República, cabe-me iniciar os trabalhos desta </p><p>nova Legislatura. </p><p>Por isso mesmo, gostaria, em primeiro lugar, de saudar todas Sr.as Deputadas e todos os Srs. Deputados, </p><p>todos os eleitos, para que cumpramos aquele que é o respeito pela intuição democrática Assembleia da </p><p>República e para que cada um de nós exerça o seu mandato em representação daqueles que nos elegeram </p><p>para aqui estar. </p><p>Cumprindo também a praxe parlamentar, cabe-me, em nome do Grupo Parlamentar do Partido Socialista, </p><p>com muita honra também, designar para presidir aos nossos trabalhos, nesta primeira sessão, o Sr. Deputado </p><p>Eduardo Ferro Rodrigues, que é, de resto, o Presidente da Assembleia da República cessante e a quem peço </p><p>que suba ao seu lugar. </p><p></p><p>Aplausos do PS, do BE, do PCP, do PEV e de Deputados do PSD. </p><p></p><p>Com o assentimento da Assembleia, assumiu a presidência o Deputado do PS Eduardo Ferro Rodrigues. </p><p></p><p>O Sr. Presidente: —Às 10 horas e 9 minutos, tomou a palavra a Deputada do PS Ana Catarina Mendonça Mendes.</p><p></p><p>A Sr.ª Ana Catarina Mendonça Mendes (PS): — Sr.as e Srs. Deputados, em nome da boa praxe parlamentar, </p><p>e sendo do grupo parlamentar maioritário nesta Assembleia da República, cabe-me iniciar os trabalhos desta </p><p>nova Legislatura. </p><p>Por isso mesmo, gostaria, em primeiro lugar, de saudar todas Sr.as Deputadas e todos os Srs. Deputados, </p><p>todos os eleitos, para que cumpramos aquele que é o respeito pela intuição democrática Assembleia da </p><p>República e para que cada um de nós exerça o seu mandato em representação daqueles que nos elegeram </p><p>para aqui estar. </p><p>Cumprindo também a praxe parlamentar, cabe-me, em nome do Grupo Parlamentar do Partido Socialista, </p><p>com muita honra também, designar para presidir aos nossos trabalhos, nesta primeira sessão, o Sr. Deputado </p><p>Eduardo Ferro Rodrigues, que é, de resto, o Presidente da Assembleia da República cessante e a quem peço </p><p>que suba ao seu lugar. </p><p></p><p>Aplausos do PS, do BE, do PCP, do PEV e de Deputados do PSD. </p><p></p><p>Com o assentimento da Assembleia, assumiu a presidência o Deputado do PS Eduardo Ferro Rodrigues. </p><p></p><p>O Sr. Presidente: —'\"\n",
    "\n",
    "pat=\"(?:</p><p>.*?\\(.*?\\): —.*?\\: —)\"\n",
    "match=re.findall(pat, tt)"
   ]
  },
  {
   "cell_type": "code",
   "execution_count": 18,
   "metadata": {},
   "outputs": [],
   "source": [
    "ttt=\"</p><p></p><p></p><p>2 </p><p>Às 10 horas e 9 minutos, tomou a palavra a Deputada do PS Ana Catarina Mendonça Mendes.</p><p></p><p>A Sr.ª Ana Catarina Mendonça Mendes (PS): — Sr.as e Srs. Deputados, em nome da boa praxe parlamentar, </p><p>e sendo do grupo parlamentar maioritário nesta Assembleia da República, cabe-me iniciar os trabalhos desta </p><p>nova Legislatura. </p><p>Por isso mesmo, gostaria, em primeiro lugar, de saudar todas Sr.as Deputadas e todos os Srs. Deputados, </p><p>todos os eleitos, para que cumpramos aquele que é o respeito pela intuição democrática Assembleia da </p><p>República e para que cada um de nós exerça o seu mandato em representação daqueles que nos elegeram </p><p>para aqui estar. </p><p>Cumprindo também a praxe parlamentar, cabe-me, em nome do Grupo Parlamentar do Partido Socialista, </p><p>com muita honra também, designar para presidir aos nossos trabalhos, nesta primeira sessão, o Sr. Deputado </p><p>Eduardo Ferro Rodrigues, que é, de resto, o Presidente da Assembleia da República cessante e a quem peço </p><p>que suba ao seu lugar. </p><p></p><p>Aplausos do PS, do BE, do PCP, do PEV e de Deputados do PSD. </p><p></p><p>Com o assentimento da Assembleia, assumiu a presidência o Deputado do PS Eduardo Ferro Rodrigues. </p><p></p><p>O Sr. Presidente: —eputados, </p><p>todos os eleitos, para que cumpramos aquele que é o respeito pela intuição democrática Assembleia da </p><p>República e para que cada um de nós exerça o seu mandato em representação daqueles que nos elegeram </p><p>para aqui estar. </p><p>Cumprindo também a praxe parlamentar, cabe-me, em nome do Grupo Parlamentar do Partido Socialista, </p><p>com muita honra também, designar para presidir aos nossos trabalhos, nesta primeira sessão, o Sr. Deputado </p><p>Eduardo Ferro Rodrigues, que é, de resto, o Presidente da Assembleia da República cessante e a quem peço </p><p>que suba ao seu lugar. </p><p></p><p>Aplausos do PS, do BE, do PCP, do PEV e de Deputados d<p>Às 10 horas e 9 minutos, tomou a palavra a Deputada do PS Ana Catarina Mendonça Mendes.</p><p></p><p>A Sr.ª Ana Catarina Mendonça Mendes (PS): — Sr.as e Srs. Deputados, em nome da boa praxe parlamentar, </p><p>e sendo do grupo parlamentar maioritário nesta Assembleia da República, cabe-me iniciar os trabalhos desta </p><p>nova Legislatura. </p><p>Por isso mesmo, gostaria, em primeiro lugar, de saudar todas Sr.as Deputadas e todos os Srs. Deputados, </p><p>todos os eleitos, para que cumpramos aquele que é o respeito pela intuição democrática Assembleia da </p><p>República e para que cada um de nós exerça o seu mandato em representação daqueles que nos elegeram </p><p>para aqui estar. </p><p>Cumprindo também a praxe parlamentar, cabe-me, em nome do Grupo Parlamentar do Partido Socialista, </p><p>com muita honra também, designar para presidir aos nossos trabalhos, nesta primeira sessão, o Sr. Deputado </p><p>Eduardo Ferro Rodrigues, que é, de resto, o Presidente da Assembleia da República\"\n",
    "pat=\"(?:<p>.+\\(.+\\): —.+\\: —)\"\n",
    "match=re.findall(pat, ttt)\n"
   ]
  },
  {
   "cell_type": "code",
   "execution_count": 91,
   "metadata": {},
   "outputs": [
    {
     "name": "stdout",
     "output_type": "stream",
     "text": [
      "[]\n"
     ]
    }
   ],
   "source": [
    "def smallest_between_two(a, b, text):\n",
    "    return re.findall(re.escape(a)+\"(.*?)\"+re.escape(b),text)\n",
    "\n",
    "print(smallest_between_two('<p> ', '): —', ttt))\n",
    "#print(smallest_between_two('<p>', ': —', '<p>this one: —]<p>[not this one: —'))\n",
    "#print(smallest_between_two('paste ', '/', '@paste \"game_01/01\"'))"
   ]
  },
  {
   "cell_type": "code",
   "execution_count": 19,
   "metadata": {},
   "outputs": [],
   "source": [
    "\n",
    "m=re.findall('</p><p></p><p>(.+?): —', ttt)"
   ]
  },
  {
   "cell_type": "code",
   "execution_count": 20,
   "metadata": {},
   "outputs": [
    {
     "data": {
      "text/plain": [
       "['</p><p>2 </p><p>Às 10 horas e 9 minutos, tomou a palavra a Deputada do PS Ana Catarina Mendonça Mendes.</p><p></p><p>A Sr.ª Ana Catarina Mendonça Mendes (PS)',\n",
       " 'Aplausos do PS, do BE, do PCP, do PEV e de Deputados do PSD. </p><p></p><p>Com o assentimento da Assembleia, assumiu a presidência o Deputado do PS Eduardo Ferro Rodrigues. </p><p></p><p>O Sr. Presidente',\n",
       " 'Aplausos do PS, do BE, do PCP, do PEV e de Deputados d<p>Às 10 horas e 9 minutos, tomou a palavra a Deputada do PS Ana Catarina Mendonça Mendes.</p><p></p><p>A Sr.ª Ana Catarina Mendonça Mendes (PS)']"
      ]
     },
     "execution_count": 20,
     "metadata": {},
     "output_type": "execute_result"
    }
   ],
   "source": [
    "m"
   ]
  },
  {
   "cell_type": "code",
   "execution_count": 25,
   "metadata": {},
   "outputs": [],
   "source": [
    "vec=[(m.start(0), m.end(0)) for m in re.finditer('</p><p></p><p>(.+?): —', ttt)]"
   ]
  },
  {
   "cell_type": "code",
   "execution_count": 27,
   "metadata": {},
   "outputs": [
    {
     "data": {
      "text/plain": [
       "[(0, 174), (1084, 1304), (1915, 2130)]"
      ]
     },
     "execution_count": 27,
     "metadata": {},
     "output_type": "execute_result"
    }
   ],
   "source": [
    "vec"
   ]
  },
  {
   "cell_type": "code",
   "execution_count": 36,
   "metadata": {},
   "outputs": [],
   "source": [
    "m=extract_dialog( ttt)"
   ]
  },
  {
   "cell_type": "code",
   "execution_count": 28,
   "metadata": {},
   "outputs": [
    {
     "data": {
      "text/plain": [
       "[0, 1, 2]"
      ]
     },
     "execution_count": 28,
     "metadata": {},
     "output_type": "execute_result"
    }
   ],
   "source": [
    "[i for i in range(0,3)]"
   ]
  },
  {
   "cell_type": "code",
   "execution_count": 35,
   "metadata": {},
   "outputs": [],
   "source": [
    "def extract_dialog(full_text):    \n",
    "    dialogs=[(m.start(0), m.end(0)) for m in re.finditer('</p><p></p><p>(.+?): —', full_text)]\n",
    "    out=[]\n",
    "    if len(dialogs)==1:\n",
    "        out.append(full_text[dialogs[0][0]:])\n",
    "    if len(dialogs)>1:\n",
    "        for i in range(0, len(dialogs)-1):\n",
    "            out.append(full_text[dialogs[i][0]:dialogs[i+1][0]])\n",
    "        out.append(full_text[dialogs[len(dialogs)-1][0]:])\n",
    "\n",
    "    return out\n"
   ]
  },
  {
   "cell_type": "code",
   "execution_count": 45,
   "metadata": {},
   "outputs": [
    {
     "data": {
      "text/plain": [
       "['</p><p></p><p></p><p>2 </p><p>Às 10 horas e 9 minutos, tomou a palavra a Deputada do PS Ana Catarina Mendonça Mendes.</p><p></p><p>A Sr.ª Ana Catarina Mendonça Mendes (PS): — Sr.as e Srs. Deputados, em nome da boa praxe parlamentar, </p><p>e sendo do grupo parlamentar maioritário nesta Assembleia da República, cabe-me iniciar os trabalhos desta </p><p>nova Legislatura. </p><p>Por isso mesmo, gostaria, em primeiro lugar, de saudar todas Sr.as Deputadas e todos os Srs. Deputados, </p><p>todos os eleitos, para que cumpramos aquele que é o respeito pela intuição democrática Assembleia da </p><p>República e para que cada um de nós exerça o seu mandato em representação daqueles que nos elegeram </p><p>para aqui estar. </p><p>Cumprindo também a praxe parlamentar, cabe-me, em nome do Grupo Parlamentar do Partido Socialista, </p><p>com muita honra também, designar para presidir aos nossos trabalhos, nesta primeira sessão, o Sr. Deputado </p><p>Eduardo Ferro Rodrigues, que é, de resto, o Presidente da Assembleia da República cessante e a quem peço </p><p>que suba ao seu lugar. ',\n",
       " '</p><p></p><p>Aplausos do PS, do BE, do PCP, do PEV e de Deputados do PSD. </p><p></p><p>Com o assentimento da Assembleia, assumiu a presidência o Deputado do PS Eduardo Ferro Rodrigues. </p><p></p><p>O Sr. Presidente: —eputados, </p><p>todos os eleitos, para que cumpramos aquele que é o respeito pela intuição democrática Assembleia da </p><p>República e para que cada um de nós exerça o seu mandato em representação daqueles que nos elegeram </p><p>para aqui estar. </p><p>Cumprindo também a praxe parlamentar, cabe-me, em nome do Grupo Parlamentar do Partido Socialista, </p><p>com muita honra também, designar para presidir aos nossos trabalhos, nesta primeira sessão, o Sr. Deputado </p><p>Eduardo Ferro Rodrigues, que é, de resto, o Presidente da Assembleia da República cessante e a quem peço </p><p>que suba ao seu lugar. ',\n",
       " '</p><p></p><p>Aplausos do PS, do BE, do PCP, do PEV e de Deputados d<p>Às 10 horas e 9 minutos, tomou a palavra a Deputada do PS Ana Catarina Mendonça Mendes.</p><p></p><p>A Sr.ª Ana Catarina Mendonça Mendes (PS): — Sr.as e Srs. Deputados, em nome da boa praxe parlamentar, </p><p>e sendo do grupo parlamentar maioritário nesta Assembleia da República, cabe-me iniciar os trabalhos desta </p><p>nova Legislatura. </p><p>Por isso mesmo, gostaria, em primeiro lugar, de saudar todas Sr.as Deputadas e todos os Srs. Deputados, </p><p>todos os eleitos, para que cumpramos aquele que é o respeito pela intuição democrática Assembleia da </p><p>República e para que cada um de nós exerça o seu mandato em representação daqueles que nos elegeram </p><p>para aqui estar. </p><p>Cumprindo também a praxe parlamentar, cabe-me, em nome do Grupo Parlamentar do Partido Socialista, </p><p>com muita honra também, designar para presidir aos nossos trabalhos, nesta primeira sessão, o Sr. Deputado </p><p>Eduardo Ferro Rodrigues, que é, de resto, o Presidente da Assembleia da República']"
      ]
     },
     "execution_count": 45,
     "metadata": {},
     "output_type": "execute_result"
    }
   ],
   "source": [
    "m"
   ]
  },
  {
   "cell_type": "code",
   "execution_count": 65,
   "metadata": {},
   "outputs": [],
   "source": [
    "\n",
    "def extract_party_name(dialogs):\n",
    "    for i in dialogs:\n",
    "        positions=[(m.start(0), m.end(0)) for m in re.finditer('(.+?): —', i)]\n",
    "        party=re.findall('\\((.+?)\\)',i)\n",
    "        name_aux=i[positions[0][1]-50:positions[0][1]]\n",
    "        name=re.sub(r'\\b\\w{1,2}\\b', '', name_aux).replace('.','').replace ('()','').replace('  ','').replace('<','').replace('>','').replace('/','').replace(': —','')\n",
    "        return [party[0], name]\n",
    "    "
   ]
  },
  {
   "cell_type": "code",
   "execution_count": 66,
   "metadata": {},
   "outputs": [
    {
     "data": {
      "text/plain": [
       "['PS', 'Ana Catarina Mendonça Mendes ']"
      ]
     },
     "execution_count": 66,
     "metadata": {},
     "output_type": "execute_result"
    }
   ],
   "source": [
    "extract_party_name(m)"
   ]
  },
  {
   "cell_type": "code",
   "execution_count": 55,
   "metadata": {},
   "outputs": [
    {
     "data": {
      "text/plain": [
       "'</p><p></p><p>Aplausos do PS, do BE, do PCP, do PEV e de Deputados d<p>Às 10 horas e 9 minutos, tomou a palavra a Deputada do PS Ana Catarina Mendonça Mendes.</p><p></p><p>A Sr.ª Ana Catarina Mendonça Mendes (PS): — Sr.as e Srs. Deputados, em nome da boa praxe parlamentar, </p><p>e sendo do grupo parlamentar maioritário nesta Assembleia da República, cabe-me iniciar os trabalhos desta </p><p>nova Legislatura. </p><p>Por isso mesmo, gostaria, em primeiro lugar, de saudar todas Sr.as Deputadas e todos os Srs. Deputados, </p><p>todos os eleitos, para que cumpramos aquele que é o respeito pela intuição democrática Assembleia da </p><p>República e para que cada um de nós exerça o seu mandato em representação daqueles que nos elegeram </p><p>para aqui estar. </p><p>Cumprindo também a praxe parlamentar, cabe-me, em nome do Grupo Parlamentar do Partido Socialista, </p><p>com muita honra também, designar para presidir aos nossos trabalhos, nesta primeira sessão, o Sr. Deputado </p><p>Eduardo Ferro Rodrigues, que é, de resto, o Presidente da Assembleia da República'"
      ]
     },
     "execution_count": 55,
     "metadata": {},
     "output_type": "execute_result"
    }
   ],
   "source": [
    "i"
   ]
  },
  {
   "cell_type": "code",
   "execution_count": 43,
   "metadata": {},
   "outputs": [
    {
     "data": {
      "text/plain": [
       "40"
      ]
     },
     "execution_count": 43,
     "metadata": {},
     "output_type": "execute_result"
    }
   ],
   "source": [
    "len('A Sr.ª Ana Catarina Mendonça Mendes (PS)')"
   ]
  },
  {
   "cell_type": "code",
   "execution_count": 49,
   "metadata": {},
   "outputs": [
    {
     "data": {
      "text/plain": [
       "[(0, 174)]"
      ]
     },
     "execution_count": 49,
     "metadata": {},
     "output_type": "execute_result"
    }
   ],
   "source": [
    "\n",
    "[(m.start(0), m.end(0)) for m in re.finditer('(.+?): —', m[0])]"
   ]
  },
  {
   "cell_type": "code",
   "execution_count": 50,
   "metadata": {},
   "outputs": [
    {
     "data": {
      "text/plain": [
       "'</p><p>A Sr.ª Ana Catarina Mendonça Mendes (PS): —'"
      ]
     },
     "execution_count": 50,
     "metadata": {},
     "output_type": "execute_result"
    }
   ],
   "source": [
    "m[0][174-50:174]"
   ]
  },
  {
   "cell_type": "code",
   "execution_count": 102,
   "metadata": {},
   "outputs": [],
   "source": [
    "c=m[0][m[0].index('</p><p></p><p>')+len('</p><p></p><p>'):]"
   ]
  },
  {
   "cell_type": "code",
   "execution_count": 106,
   "metadata": {},
   "outputs": [
    {
     "data": {
      "text/plain": [
       "['PS']"
      ]
     },
     "execution_count": 106,
     "metadata": {},
     "output_type": "execute_result"
    }
   ],
   "source": [
    "party=re.findall('\\((.+?)\\)',c)"
   ]
  },
  {
   "cell_type": "code",
   "execution_count": 109,
   "metadata": {},
   "outputs": [
    {
     "data": {
      "text/plain": [
       "'Ana Catarina Mendonça Mendes '"
      ]
     },
     "execution_count": 109,
     "metadata": {},
     "output_type": "execute_result"
    }
   ],
   "source": [
    "re.sub(r'\\b\\w{1,2}\\b', '', c).replace('.','').replace ('()','').replace('  ','')"
   ]
  },
  {
   "cell_type": "code",
   "execution_count": null,
   "metadata": {},
   "outputs": [],
   "source": []
  }
 ],
 "metadata": {
  "interpreter": {
   "hash": "95a5ab6f8988138c4aafa838927270364e946a56a2b152cd75ab864ac6056d77"
  },
  "kernelspec": {
   "display_name": "Python 3.8.12 64-bit ('py38': conda)",
   "language": "python",
   "name": "python3"
  },
  "language_info": {
   "codemirror_mode": {
    "name": "ipython",
    "version": 3
   },
   "file_extension": ".py",
   "mimetype": "text/x-python",
   "name": "python",
   "nbconvert_exporter": "python",
   "pygments_lexer": "ipython3",
   "version": "3.8.12"
  },
  "orig_nbformat": 4
 },
 "nbformat": 4,
 "nbformat_minor": 2
}
