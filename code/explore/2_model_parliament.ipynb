{
 "cells": [
  {
   "cell_type": "code",
   "execution_count": 1,
   "metadata": {},
   "outputs": [],
   "source": [
    "create_tokenizedDF= False\n",
    "import pandas as pd\n",
    "import numpy as np\n",
    "pd.options.mode.chained_assignment = None  # default='warn'\n",
    "from collections import Counter\n",
    "import nltk\n",
    "from numpy import trapz\n",
    "from scipy.signal import find_peaks\n",
    "\n",
    "stop_words_nltk = nltk.corpus.stopwords.words('portuguese')\n",
    "snowball = nltk.stem.snowball.SnowballStemmer('portuguese')\n",
    "right=[ 'PSD',  'CDS-PP', 'CH','IL','CDS']\n",
    "left=[ 'PS', 'BE', 'PCP', 'PAN', 'PEV','L']"
   ]
  },
  {
   "cell_type": "code",
   "execution_count": 2,
   "metadata": {},
   "outputs": [],
   "source": [
    "def normlizeTokens(tokenLst, stopwordLst = None, stemmer = None):\n",
    "    #We can use a generator here as we just need to iterate over it\n",
    "\n",
    "    #Lowering the case and removing non-words\n",
    "    workingIter = (w.lower() for w in tokenLst if w.isalpha())\n",
    "\n",
    "    #Now we can use the semmer, if provided\n",
    "    if stemmer is not None:\n",
    "        workingIter = (stemmer.stem(w) for w in workingIter)\n",
    "         \n",
    "    #And remove the stopwords\n",
    "    if stopwordLst is not None:\n",
    "        workingIter = (w for w in workingIter if w not in stopwordLst)\n",
    "    #We will return a list with the stopwords removed\n",
    "    return list(workingIter)\n",
    "\n",
    "def create_tokenized_dataset(df_input):\n",
    "    # 1 create token column: tokens\n",
    "    df_input['tokens']=df_input['speech'].apply(lambda x: nltk.word_tokenize(x))\n",
    "    # 2 create token without stopwords and stemmer: tokens_stemer_stop. 16min\n",
    "    df_input['tokens_stemer_stop'] = df_input['tokens'].apply(lambda x: normlizeTokens(x, stopwordLst = stop_words_nltk, stemmer = snowball))\n",
    "    \n",
    "    # 3 extract very frequent or rare words: token_cleaned\n",
    "    flat_tokens=[item for sublist in df_input['tokens_stemer_stop'] for item in sublist]\n",
    "    aux_c=Counter(flat_tokens)\n",
    "        \n",
    "    extrat_common=['par', 'nao', 'sr', 'deput', 'govern', 'muit', 'pel', 'president','tod','tamb','srs','sras','pod','part','psd','sao','aplaus','ja','porqu','faz','ha','diz','quer','pais','sobr','bem','nest']\n",
    "    extract_rare=[x[0] for x in aux_c.most_common()[-30:]]\n",
    "\n",
    "    df_input['tokens_cleaned'] = df_input['tokens_stemer_stop'].apply(lambda x : [i for i in x if not i in extrat_common])\n",
    "    df_input['tokens_cleaned'] = df_input['tokens_cleaned'].apply(lambda x : [i for i in x if not i in extract_rare])\n",
    "    df_input.to_pickle('dftok.pkl')  \n",
    "    return df_input\n",
    "\n",
    "def generate_N_grams(text,ngram=1):\n",
    "  words=[word for word in text]  \n",
    "  temp=zip(*[words[i:] for i in range(0,ngram)])\n",
    "  ans=[' '.join(ngram) for ngram in temp]\n",
    "  return ans\n",
    "\n",
    "def create_grams(df_frame, n):\n",
    "    grams_d={1: 'uni_grams', 2: 'bi_grams', 3: 'tri_grams'}\n",
    "    df_frame[grams_d[n]] = df_frame['tokens_cleaned'].apply(lambda x: generate_N_grams(x,n))\n",
    "    return df_frame \n",
    "\n",
    "#political polarization functions\n",
    "\n",
    "\n",
    "\n",
    "\n",
    "def create_frequency_table_grams(n_gram=1, indf=None, right_parties=right, left_parties=left):\n",
    "    grams_d={1: 'uni_grams', 2: 'bi_grams', 3: 'tri_grams'}\n",
    "   \n",
    "\n",
    "    r_grams=[item for sublist in indf[indf.party.isin(right)][grams_d[n_gram]] for item in sublist]\n",
    "    l_grams=[item for sublist in indf[indf.party.isin(left)][grams_d[n_gram]] for item in sublist]\n",
    "\n",
    "    total_counter = Counter([item for sublist in indf[grams_d[n_gram]] for item in sublist])\n",
    "    right_counter = Counter(r_grams)\n",
    "    left_counter = Counter(l_grams)\n",
    "\n",
    "    df_all = pd.DataFrame.from_dict(total_counter, orient='index').reset_index()\n",
    "    df_all.columns=['phrase','count']\n",
    "    df_all['count_right']=[right_counter[x] for x in df_all.phrase]\n",
    "    df_all['count_left']=[left_counter[x] for x in df_all.phrase]\n",
    "\n",
    "\n",
    "    df_all['count_left_total']=sum(left_counter.values())\n",
    "    df_all['count_right_total']=sum(right_counter.values())\n",
    "    # frequency of every words except the given one (by row)\n",
    "    #Jensen et al. (2012),p.10 \n",
    "    #f-pck is the frequency of all phrases used in Con­gress c by party k excluding phrase p\n",
    "    df_all['f_right_minus']=( df_all['count_right_total']-df_all['count_right'])/df_all['count_right_total']\n",
    "    df_all['f_left_minus']=( df_all['count_left_total']-df_all['count_left'])/df_all['count_left_total']\n",
    "\n",
    "    df_all['f_right']=df_all['count_right']/df_all['count_right_total']\n",
    "    df_all['f_right_norm'] = (df_all['f_right'] - df_all['f_right'].min()) / (df_all['f_right'].max() - df_all['f_right'].min())  \n",
    "    df_all['f_left']=df_all['count_left']/df_all['count_left_total']\n",
    "    df_all['f_left_norm'] = (df_all['f_left'] - df_all['f_left'].min()) / (df_all['f_left'].max() - df_all['f_left'].min())  \n",
    "\n",
    "    df_all['f_right_minus_norm']=(df_all['f_right_minus'] - df_all['f_right_minus'].min()) / (df_all['f_right_minus'].max() - df_all['f_right_minus'].min()) \n",
    "    df_all['f_left_minus_norm']=(df_all['f_left_minus'] - df_all['f_left_minus'].min()) / (df_all['f_left_minus'].max() - df_all['f_left_minus'].min()) \n",
    "\n",
    "    return df_all\n",
    "\n",
    "\n",
    "def calculate_pearson(df_all):\n",
    "    aa=df_all['f_right_norm']*df_all['f_left_minus_norm'] \n",
    "    bb=df_all['f_left_norm']*df_all['f_right_minus_norm']\n",
    "    cc=aa-bb\n",
    "    dd=cc*cc\n",
    "    d11=df_all['f_right_norm']+df_all['f_left_norm']\n",
    "    d22=df_all['f_right_norm']+df_all['f_right_minus_norm']\n",
    "    d33=df_all['f_left_norm']+df_all['f_left_minus_norm']\n",
    "    d44=df_all['f_right_minus_norm']+df_all['f_left_minus_norm']\n",
    "    denom=d11*d22*d33*d44\n",
    "    pp=dd/denom\n",
    "    return pp\n",
    "\n",
    "def create_phrase_partisanship(df):\n",
    "    aa=df['f_right_norm']+df['f_left_norm']\n",
    "    df['rho']=df['f_right_norm']/aa\n",
    "    \n",
    "    df['gram_partisanship']= 0.5 * df['f_right_norm']*df['rho']+0.5 *df['f_right_norm']*(1-df['rho'])\n",
    "    \n",
    "    return df\n",
    "\n",
    "def create_polarization_correlation(df):\n",
    "    \n",
    "    aa=df['f_left_norm']*-1\n",
    "    bb= df['f_right_norm']*1\n",
    "    df['beta_polarization']=aa+bb\n",
    "\n",
    "    return df\n",
    "\n",
    "def partisanship_by_speach(df_in,partisan_dict, new_column='partisanship', ngrams_col='tri_grams'):\n",
    "    df_in[new_column] = [np.empty(0,dtype=float)]*len(df_in)\n",
    "    df_in[new_column] =df_in[new_column].astype(object)\n",
    "    out_res=[]\n",
    "    for n,row in enumerate(df_in[ngrams_col]):\n",
    "    \n",
    "        res=[]\n",
    "        for x in row:\n",
    "            \n",
    "            if x in partisan_dict:\n",
    "                res.append( partisan_dict[x])\n",
    "            \n",
    "            else:\n",
    "                res.append( 0)\n",
    "        out_res.append(res)\n",
    "    df_in[new_column]=out_res\n",
    "    return df_in\n",
    "\n",
    "def create_200r(df_mainf):\n",
    "    indexes_no_applause=[n for n,x in enumerate(df_mainf.phrase) if 'aplausos' not in x]\n",
    "    df_mainf=df_mainf.iloc[indexes_no_applause]\n",
    "\n",
    "    tri_final = df_mainf[0:200].append(df_mainf[-200:], ignore_index=True)\n",
    "    return tri_final\n",
    "\n",
    "\n",
    "def find_nearest_idx(array, value):\n",
    "    array = np.asarray(array)\n",
    "    idx = (np.abs(array - value)).argmin()\n",
    "    return  idx"
   ]
  },
  {
   "cell_type": "code",
   "execution_count": 3,
   "metadata": {},
   "outputs": [],
   "source": [
    "# load dataframe\n",
    "if create_tokenizedDF==True:\n",
    "    df_input = pd.read_pickle('parliament_fdf.pkl')  \n",
    "    df_tok=create_tokenized_dataset(df_input)\n",
    "else:\n",
    "    df_tok = pd.read_pickle('dftok.pkl')  \n",
    "    "
   ]
  },
  {
   "cell_type": "code",
   "execution_count": 4,
   "metadata": {},
   "outputs": [],
   "source": [
    "# 1 Create n-grams\n",
    "#df_tok=create_grams(df_tok, 2)\n",
    "df_tok=create_grams(df_tok, 3)"
   ]
  },
  {
   "cell_type": "code",
   "execution_count": 5,
   "metadata": {},
   "outputs": [],
   "source": [
    "# 2 create frequency table\n",
    "df_freq=create_frequency_table_grams(n_gram=3, indf=df_tok, right_parties=right, left_parties=left)\n",
    "# 3 Filter pearson >0\n",
    "df_freq['pearson_quad']=calculate_pearson(df_freq)\n",
    "trigrams_table=df_freq[df_freq.pearson_quad>0]\n",
    "#  4 Add  partisanship by word\n",
    "trigrams_table=create_phrase_partisanship(trigrams_table)\n",
    "trigrams_table=create_polarization_correlation(trigrams_table)\n",
    "trigrams_table=trigrams_table.sort_values(by='gram_partisanship',ascending=False)\n"
   ]
  },
  {
   "cell_type": "code",
   "execution_count": 6,
   "metadata": {},
   "outputs": [],
   "source": [
    "# 5 Dictionary of trigrams and partisanship\n",
    "partisan_dict=dict(zip(trigrams_table.phrase,trigrams_table.gram_partisanship))"
   ]
  },
  {
   "cell_type": "code",
   "execution_count": 7,
   "metadata": {},
   "outputs": [],
   "source": [
    "# 6 Partisanship by speach\n",
    "df_tok=partisanship_by_speach(df_in=df_tok, new_column='partisanship', ngrams_col='tri_grams',partisan_dict=partisan_dict)\n",
    "df_tok['avg_partisanship']=df_tok.partisanship.apply(lambda x: sum(x))"
   ]
  },
  {
   "cell_type": "code",
   "execution_count": 8,
   "metadata": {},
   "outputs": [
    {
     "data": {
      "image/png": "[encoded data removed]",
      "text/plain": [
       "<Figure size 432x288 with 1 Axes>"
      ]
     },
     "metadata": {
      "needs_background": "light"
     },
     "output_type": "display_data"
    }
   ],
   "source": [
    "df_tok.head(5)\n",
    "import seaborn as sns\n",
    "import matplotlib.pyplot as plt\n",
    "df_tok['avg_partisanship'].plot.density(color='green')\n",
    "plt.title('Density Plot for Tip')\n",
    "plt.show()\n"
   ]
  },
  {
   "cell_type": "code",
   "execution_count": 9,
   "metadata": {},
   "outputs": [
    {
     "name": "stderr",
     "output_type": "stream",
     "text": [
      "C:\\Users\\trind\\AppData\\Local\\Temp\\ipykernel_6988\\793341432.py:1: FutureWarning: The frame.append method is deprecated and will be removed from pandas in a future version. Use pandas.concat instead.\n",
      "  tri_final = df_tok[0:200].append(df_tok[-200:], ignore_index=True)\n"
     ]
    },
    {
     "data": {
      "image/png": "[encoded data removed]",
      "text/plain": [
       "<Figure size 432x288 with 1 Axes>"
      ]
     },
     "metadata": {
      "needs_background": "light"
     },
     "output_type": "display_data"
    }
   ],
   "source": [
    "tri_final = df_tok[0:200].append(df_tok[-200:], ignore_index=True)\n",
    "tri_final['avg_partisanship'].plot.density(color='green')\n",
    "plt.title('Density Plot for Tip')\n",
    "plt.show()"
   ]
  },
  {
   "cell_type": "code",
   "execution_count": 10,
   "metadata": {},
   "outputs": [
    {
     "name": "stderr",
     "output_type": "stream",
     "text": [
      "C:\\Users\\trind\\AppData\\Local\\Temp\\ipykernel_6988\\3479927013.py:2: FutureWarning: The frame.append method is deprecated and will be removed from pandas in a future version. Use pandas.concat instead.\n",
      "  tri_final = df_tok[0:200].append(df_tok[-200:], ignore_index=True)\n"
     ]
    }
   ],
   "source": [
    "df_tok.sort_values(\"avg_partisanship\", axis =0, ascending = False,inplace = True)\n",
    "tri_final = df_tok[0:200].append(df_tok[-200:], ignore_index=True)"
   ]
  },
  {
   "cell_type": "code",
   "execution_count": 48,
   "metadata": {},
   "outputs": [
    {
     "data": {
      "text/html": [
       "<div>\n",
       "<style scoped>\n",
       "    .dataframe tbody tr th:only-of-type {\n",
       "        vertical-align: middle;\n",
       "    }\n",
       "\n",
       "    .dataframe tbody tr th {\n",
       "        vertical-align: top;\n",
       "    }\n",
       "\n",
       "    .dataframe thead th {\n",
       "        text-align: right;\n",
       "    }\n",
       "</style>\n",
       "<table border=\"1\" class=\"dataframe\">\n",
       "  <thead>\n",
       "    <tr style=\"text-align: right;\">\n",
       "      <th></th>\n",
       "      <th>speaker</th>\n",
       "      <th>speech</th>\n",
       "      <th>filename</th>\n",
       "      <th>number</th>\n",
       "      <th>session</th>\n",
       "      <th>term</th>\n",
       "      <th>Date</th>\n",
       "      <th>link</th>\n",
       "      <th>party</th>\n",
       "      <th>speaker_ntime</th>\n",
       "      <th>genre</th>\n",
       "      <th>len_speech</th>\n",
       "      <th>year</th>\n",
       "      <th>tokens</th>\n",
       "      <th>tokens_stemer_stop</th>\n",
       "      <th>tokens_cleaned</th>\n",
       "      <th>tri_grams</th>\n",
       "      <th>partisanship</th>\n",
       "      <th>avg_partisanship</th>\n",
       "    </tr>\n",
       "  </thead>\n",
       "  <tbody>\n",
       "    <tr>\n",
       "      <th>40987</th>\n",
       "      <td>joaopaulocorreia</td>\n",
       "      <td>sr presidente sr primeiroministro dirijo uma p...</td>\n",
       "      <td>darl13sl03n073.txt</td>\n",
       "      <td>73</td>\n",
       "      <td>3</td>\n",
       "      <td>13</td>\n",
       "      <td>2018-04-18</td>\n",
       "      <td>https://debates.parlamento.pt/catalogo/r3/dar/...</td>\n",
       "      <td>PS</td>\n",
       "      <td>885.0</td>\n",
       "      <td>M</td>\n",
       "      <td>1412</td>\n",
       "      <td>2018</td>\n",
       "      <td>[sr, presidente, sr, primeiroministro, dirijo,...</td>\n",
       "      <td>[sr, president, sr, primeiroministr, dirij, pr...</td>\n",
       "      <td>[primeiroministr, dirij, primeir, palavr, saud...</td>\n",
       "      <td>[primeiroministr dirij primeir, dirij primeir ...</td>\n",
       "      <td>[0.0, 0.0006456611570247934, 0.001033057851239...</td>\n",
       "      <td>2.195506</td>\n",
       "    </tr>\n",
       "  </tbody>\n",
       "</table>\n",
       "</div>"
      ],
      "text/plain": [
       "                speaker                                             speech  \\\n",
       "40987  joaopaulocorreia  sr presidente sr primeiroministro dirijo uma p...   \n",
       "\n",
       "                 filename  number  session  term        Date  \\\n",
       "40987  darl13sl03n073.txt      73        3    13  2018-04-18   \n",
       "\n",
       "                                                    link party  speaker_ntime  \\\n",
       "40987  https://debates.parlamento.pt/catalogo/r3/dar/...    PS          885.0   \n",
       "\n",
       "      genre  len_speech  year  \\\n",
       "40987     M        1412  2018   \n",
       "\n",
       "                                                  tokens  \\\n",
       "40987  [sr, presidente, sr, primeiroministro, dirijo,...   \n",
       "\n",
       "                                      tokens_stemer_stop  \\\n",
       "40987  [sr, president, sr, primeiroministr, dirij, pr...   \n",
       "\n",
       "                                          tokens_cleaned  \\\n",
       "40987  [primeiroministr, dirij, primeir, palavr, saud...   \n",
       "\n",
       "                                               tri_grams  \\\n",
       "40987  [primeiroministr dirij primeir, dirij primeir ...   \n",
       "\n",
       "                                            partisanship  avg_partisanship  \n",
       "40987  [0.0, 0.0006456611570247934, 0.001033057851239...          2.195506  "
      ]
     },
     "execution_count": 48,
     "metadata": {},
     "output_type": "execute_result"
    }
   ],
   "source": [
    "df_tok.head(1)"
   ]
  },
  {
   "cell_type": "code",
   "execution_count": null,
   "metadata": {},
   "outputs": [],
   "source": []
  },
  {
   "cell_type": "code",
   "execution_count": 49,
   "metadata": {},
   "outputs": [],
   "source": [
    "#unique speakers, keeping the last year they spoke\n",
    "min_speaker=df_tok[['speaker','party','term', 'year']].groupby('speaker', group_keys=False).apply(lambda x: x.loc[x['year'].idxmin()])\n",
    "\n",
    "min_speaker.columns=['speaker1','party', 'term', 'year']\n",
    "min_speaker=min_speaker.reset_index()\n",
    "min_speaker.drop('speaker1', axis=1,inplace=True)\n",
    "min_speaker.columns=['speaker', 'party1','term_ini', 'year_ini']\n",
    "\n",
    "max_speaker=df_tok[['speaker','party','term', 'year']].groupby('speaker', group_keys=False).apply(lambda x: x.loc[x['year'].idxmax()])\n",
    "\n",
    "max_speaker.columns=['speaker1', 'party','term', 'year']\n",
    "max_speaker=max_speaker.reset_index()\n",
    "max_speaker.drop('speaker1', axis=1,inplace=True)\n",
    "max_speaker.columns=['speaker','party', 'term_max', 'year_max']"
   ]
  },
  {
   "cell_type": "code",
   "execution_count": 52,
   "metadata": {},
   "outputs": [],
   "source": [
    "deputies_speak=min_speaker.merge(max_speaker, how='left', on='speaker')\n",
    "deputies_speak.drop('party1', axis=1,inplace=True)\n",
    "deputies_speak.to_pickle('deputies_for _twitter.pkl')"
   ]
  },
  {
   "cell_type": "code",
   "execution_count": 53,
   "metadata": {},
   "outputs": [
    {
     "data": {
      "text/html": [
       "<div>\n",
       "<style scoped>\n",
       "    .dataframe tbody tr th:only-of-type {\n",
       "        vertical-align: middle;\n",
       "    }\n",
       "\n",
       "    .dataframe tbody tr th {\n",
       "        vertical-align: top;\n",
       "    }\n",
       "\n",
       "    .dataframe thead th {\n",
       "        text-align: right;\n",
       "    }\n",
       "</style>\n",
       "<table border=\"1\" class=\"dataframe\">\n",
       "  <thead>\n",
       "    <tr style=\"text-align: right;\">\n",
       "      <th></th>\n",
       "      <th>speaker</th>\n",
       "      <th>term_ini</th>\n",
       "      <th>year_ini</th>\n",
       "      <th>party</th>\n",
       "      <th>term_max</th>\n",
       "      <th>year_max</th>\n",
       "    </tr>\n",
       "  </thead>\n",
       "  <tbody>\n",
       "    <tr>\n",
       "      <th>0</th>\n",
       "      <td>abelbaptista</td>\n",
       "      <td>13</td>\n",
       "      <td>2015</td>\n",
       "      <td>CDS-PP</td>\n",
       "      <td>13</td>\n",
       "      <td>2016</td>\n",
       "    </tr>\n",
       "    <tr>\n",
       "      <th>1</th>\n",
       "      <td>adaosilva</td>\n",
       "      <td>13</td>\n",
       "      <td>2015</td>\n",
       "      <td>PSD</td>\n",
       "      <td>14</td>\n",
       "      <td>2021</td>\n",
       "    </tr>\n",
       "    <tr>\n",
       "      <th>2</th>\n",
       "      <td>afonsooliveira</td>\n",
       "      <td>14</td>\n",
       "      <td>2019</td>\n",
       "      <td>PSD</td>\n",
       "      <td>14</td>\n",
       "      <td>2021</td>\n",
       "    </tr>\n",
       "    <tr>\n",
       "      <th>3</th>\n",
       "      <td>albertofonseca</td>\n",
       "      <td>14</td>\n",
       "      <td>2019</td>\n",
       "      <td>PSD</td>\n",
       "      <td>14</td>\n",
       "      <td>2021</td>\n",
       "    </tr>\n",
       "    <tr>\n",
       "      <th>4</th>\n",
       "      <td>albertomachado</td>\n",
       "      <td>14</td>\n",
       "      <td>2019</td>\n",
       "      <td>PSD</td>\n",
       "      <td>14</td>\n",
       "      <td>2021</td>\n",
       "    </tr>\n",
       "    <tr>\n",
       "      <th>...</th>\n",
       "      <td>...</td>\n",
       "      <td>...</td>\n",
       "      <td>...</td>\n",
       "      <td>...</td>\n",
       "      <td>...</td>\n",
       "      <td>...</td>\n",
       "    </tr>\n",
       "    <tr>\n",
       "      <th>348</th>\n",
       "      <td>ulissespereira</td>\n",
       "      <td>13</td>\n",
       "      <td>2016</td>\n",
       "      <td>PSD</td>\n",
       "      <td>13</td>\n",
       "      <td>2019</td>\n",
       "    </tr>\n",
       "    <tr>\n",
       "      <th>349</th>\n",
       "      <td>vaniadiasdasilva</td>\n",
       "      <td>13</td>\n",
       "      <td>2015</td>\n",
       "      <td>CDS-PP</td>\n",
       "      <td>14</td>\n",
       "      <td>2021</td>\n",
       "    </tr>\n",
       "    <tr>\n",
       "      <th>350</th>\n",
       "      <td>verabraz</td>\n",
       "      <td>13</td>\n",
       "      <td>2015</td>\n",
       "      <td>CDS-PP</td>\n",
       "      <td>14</td>\n",
       "      <td>2021</td>\n",
       "    </tr>\n",
       "    <tr>\n",
       "      <th>351</th>\n",
       "      <td>vitalinocanas</td>\n",
       "      <td>13</td>\n",
       "      <td>2015</td>\n",
       "      <td>PS</td>\n",
       "      <td>13</td>\n",
       "      <td>2019</td>\n",
       "    </tr>\n",
       "    <tr>\n",
       "      <th>352</th>\n",
       "      <td>wandaguimaraes</td>\n",
       "      <td>13</td>\n",
       "      <td>2015</td>\n",
       "      <td>PS</td>\n",
       "      <td>13</td>\n",
       "      <td>2019</td>\n",
       "    </tr>\n",
       "  </tbody>\n",
       "</table>\n",
       "<p>353 rows × 6 columns</p>\n",
       "</div>"
      ],
      "text/plain": [
       "              speaker  term_ini  year_ini   party  term_max  year_max\n",
       "0        abelbaptista        13      2015  CDS-PP        13      2016\n",
       "1           adaosilva        13      2015     PSD        14      2021\n",
       "2      afonsooliveira        14      2019     PSD        14      2021\n",
       "3      albertofonseca        14      2019     PSD        14      2021\n",
       "4      albertomachado        14      2019     PSD        14      2021\n",
       "..                ...       ...       ...     ...       ...       ...\n",
       "348    ulissespereira        13      2016     PSD        13      2019\n",
       "349  vaniadiasdasilva        13      2015  CDS-PP        14      2021\n",
       "350          verabraz        13      2015  CDS-PP        14      2021\n",
       "351     vitalinocanas        13      2015      PS        13      2019\n",
       "352    wandaguimaraes        13      2015      PS        13      2019\n",
       "\n",
       "[353 rows x 6 columns]"
      ]
     },
     "execution_count": 53,
     "metadata": {},
     "output_type": "execute_result"
    }
   ],
   "source": [
    "deputies_speak"
   ]
  },
  {
   "cell_type": "code",
   "execution_count": 16,
   "metadata": {},
   "outputs": [
    {
     "data": {
      "text/html": [
       "<div>\n",
       "<style scoped>\n",
       "    .dataframe tbody tr th:only-of-type {\n",
       "        vertical-align: middle;\n",
       "    }\n",
       "\n",
       "    .dataframe tbody tr th {\n",
       "        vertical-align: top;\n",
       "    }\n",
       "\n",
       "    .dataframe thead th {\n",
       "        text-align: right;\n",
       "    }\n",
       "</style>\n",
       "<table border=\"1\" class=\"dataframe\">\n",
       "  <thead>\n",
       "    <tr style=\"text-align: right;\">\n",
       "      <th></th>\n",
       "      <th>speaker</th>\n",
       "      <th>speech</th>\n",
       "      <th>filename</th>\n",
       "      <th>number</th>\n",
       "      <th>session</th>\n",
       "      <th>term</th>\n",
       "      <th>Date</th>\n",
       "      <th>link</th>\n",
       "      <th>party</th>\n",
       "      <th>speaker_ntime</th>\n",
       "      <th>genre</th>\n",
       "      <th>len_speech</th>\n",
       "      <th>year</th>\n",
       "      <th>tokens</th>\n",
       "      <th>tokens_stemer_stop</th>\n",
       "      <th>tokens_cleaned</th>\n",
       "      <th>tri_grams</th>\n",
       "      <th>partisanship</th>\n",
       "      <th>avg_partisanship</th>\n",
       "    </tr>\n",
       "  </thead>\n",
       "  <tbody>\n",
       "    <tr>\n",
       "      <th>0</th>\n",
       "      <td>joaopaulocorreia</td>\n",
       "      <td>sr presidente sr primeiroministro dirijo uma p...</td>\n",
       "      <td>darl13sl03n073.txt</td>\n",
       "      <td>73</td>\n",
       "      <td>3</td>\n",
       "      <td>13</td>\n",
       "      <td>2018-04-18</td>\n",
       "      <td>https://debates.parlamento.pt/catalogo/r3/dar/...</td>\n",
       "      <td>PS</td>\n",
       "      <td>885.0</td>\n",
       "      <td>M</td>\n",
       "      <td>1412</td>\n",
       "      <td>2018</td>\n",
       "      <td>[sr, presidente, sr, primeiroministro, dirijo,...</td>\n",
       "      <td>[sr, president, sr, primeiroministr, dirij, pr...</td>\n",
       "      <td>[primeiroministr, dirij, primeir, palavr, saud...</td>\n",
       "      <td>[primeiroministr dirij primeir, dirij primeir ...</td>\n",
       "      <td>[0.0, 0.0006456611570247934, 0.001033057851239...</td>\n",
       "      <td>2.195506</td>\n",
       "    </tr>\n",
       "    <tr>\n",
       "      <th>1</th>\n",
       "      <td>moisesferreira</td>\n",
       "      <td>sr presidente sras e srs deputados o servico n...</td>\n",
       "      <td>darl13sl03n058.txt</td>\n",
       "      <td>58</td>\n",
       "      <td>3</td>\n",
       "      <td>13</td>\n",
       "      <td>2018-03-09</td>\n",
       "      <td>https://debates.parlamento.pt/catalogo/r3/dar/...</td>\n",
       "      <td>BE</td>\n",
       "      <td>853.0</td>\n",
       "      <td>M</td>\n",
       "      <td>534</td>\n",
       "      <td>2018</td>\n",
       "      <td>[sr, presidente, sras, e, srs, deputados, o, s...</td>\n",
       "      <td>[sr, president, sras, srs, deput, servic, naci...</td>\n",
       "      <td>[servic, nacional, saud, duv, maior, conquist,...</td>\n",
       "      <td>[servic nacional saud, nacional saud duv, saud...</td>\n",
       "      <td>[0.13326446280991738, 0.00012913223140495868, ...</td>\n",
       "      <td>1.946798</td>\n",
       "    </tr>\n",
       "    <tr>\n",
       "      <th>2</th>\n",
       "      <td>moisesferreira</td>\n",
       "      <td>sr presidente comeco por cumprimentar o sr dep...</td>\n",
       "      <td>darl13sl02n034.txt</td>\n",
       "      <td>34</td>\n",
       "      <td>2</td>\n",
       "      <td>13</td>\n",
       "      <td>2017-01-05</td>\n",
       "      <td>https://debates.parlamento.pt/catalogo/r3/dar/...</td>\n",
       "      <td>BE</td>\n",
       "      <td>853.0</td>\n",
       "      <td>M</td>\n",
       "      <td>503</td>\n",
       "      <td>2017</td>\n",
       "      <td>[sr, presidente, comeco, por, cumprimentar, o,...</td>\n",
       "      <td>[sr, president, comec, cumpriment, sr, deput, ...</td>\n",
       "      <td>[comec, cumpriment, joa, ram, sra, luis, salgu...</td>\n",
       "      <td>[comec cumpriment joa, cumpriment joa ram, joa...</td>\n",
       "      <td>[0.0005165289256198347, 0.0, 0.0, 0.0, 0.00142...</td>\n",
       "      <td>1.913352</td>\n",
       "    </tr>\n",
       "    <tr>\n",
       "      <th>3</th>\n",
       "      <td>moisesferreira</td>\n",
       "      <td>sr presidente sras e srs deputados hoje ningue...</td>\n",
       "      <td>darl14sl02n046.txt</td>\n",
       "      <td>46</td>\n",
       "      <td>2</td>\n",
       "      <td>14</td>\n",
       "      <td>2021-02-18</td>\n",
       "      <td>https://debates.parlamento.pt/catalogo/r3/dar/...</td>\n",
       "      <td>BE</td>\n",
       "      <td>853.0</td>\n",
       "      <td>M</td>\n",
       "      <td>662</td>\n",
       "      <td>2021</td>\n",
       "      <td>[sr, presidente, sras, e, srs, deputados, hoje...</td>\n",
       "      <td>[sr, president, sras, srs, deput, hoj, ningu, ...</td>\n",
       "      <td>[hoj, ningu, capaz, coloc, caus, importanc, pa...</td>\n",
       "      <td>[hoj ningu capaz, ningu capaz coloc, capaz col...</td>\n",
       "      <td>[0.0, 0.0, 0.0, 0.0, 0.0, 0.0, 0.0001291322314...</td>\n",
       "      <td>1.911157</td>\n",
       "    </tr>\n",
       "    <tr>\n",
       "      <th>4</th>\n",
       "      <td>heloisaapolonia</td>\n",
       "      <td>sr presidente srs membros do governo sras e sr...</td>\n",
       "      <td>darl13sl03n103.txt</td>\n",
       "      <td>103</td>\n",
       "      <td>3</td>\n",
       "      <td>13</td>\n",
       "      <td>2018-07-05</td>\n",
       "      <td>https://debates.parlamento.pt/catalogo/r3/dar/...</td>\n",
       "      <td>PEV</td>\n",
       "      <td>1492.0</td>\n",
       "      <td>F</td>\n",
       "      <td>835</td>\n",
       "      <td>2018</td>\n",
       "      <td>[sr, presidente, srs, membros, do, governo, sr...</td>\n",
       "      <td>[sr, president, srs, membr, govern, sras, srs,...</td>\n",
       "      <td>[membr, verd, consid, imper, defes, servic, na...</td>\n",
       "      <td>[membr verd consid, verd consid imper, consid ...</td>\n",
       "      <td>[0.0, 0.0, 0.0, 0.0, 0.00025826446280991736, 0...</td>\n",
       "      <td>1.849819</td>\n",
       "    </tr>\n",
       "  </tbody>\n",
       "</table>\n",
       "</div>"
      ],
      "text/plain": [
       "            speaker                                             speech  \\\n",
       "0  joaopaulocorreia  sr presidente sr primeiroministro dirijo uma p...   \n",
       "1    moisesferreira  sr presidente sras e srs deputados o servico n...   \n",
       "2    moisesferreira  sr presidente comeco por cumprimentar o sr dep...   \n",
       "3    moisesferreira  sr presidente sras e srs deputados hoje ningue...   \n",
       "4   heloisaapolonia  sr presidente srs membros do governo sras e sr...   \n",
       "\n",
       "             filename  number  session  term        Date  \\\n",
       "0  darl13sl03n073.txt      73        3    13  2018-04-18   \n",
       "1  darl13sl03n058.txt      58        3    13  2018-03-09   \n",
       "2  darl13sl02n034.txt      34        2    13  2017-01-05   \n",
       "3  darl14sl02n046.txt      46        2    14  2021-02-18   \n",
       "4  darl13sl03n103.txt     103        3    13  2018-07-05   \n",
       "\n",
       "                                                link party  speaker_ntime  \\\n",
       "0  https://debates.parlamento.pt/catalogo/r3/dar/...    PS          885.0   \n",
       "1  https://debates.parlamento.pt/catalogo/r3/dar/...    BE          853.0   \n",
       "2  https://debates.parlamento.pt/catalogo/r3/dar/...    BE          853.0   \n",
       "3  https://debates.parlamento.pt/catalogo/r3/dar/...    BE          853.0   \n",
       "4  https://debates.parlamento.pt/catalogo/r3/dar/...   PEV         1492.0   \n",
       "\n",
       "  genre  len_speech  year                                             tokens  \\\n",
       "0     M        1412  2018  [sr, presidente, sr, primeiroministro, dirijo,...   \n",
       "1     M         534  2018  [sr, presidente, sras, e, srs, deputados, o, s...   \n",
       "2     M         503  2017  [sr, presidente, comeco, por, cumprimentar, o,...   \n",
       "3     M         662  2021  [sr, presidente, sras, e, srs, deputados, hoje...   \n",
       "4     F         835  2018  [sr, presidente, srs, membros, do, governo, sr...   \n",
       "\n",
       "                                  tokens_stemer_stop  \\\n",
       "0  [sr, president, sr, primeiroministr, dirij, pr...   \n",
       "1  [sr, president, sras, srs, deput, servic, naci...   \n",
       "2  [sr, president, comec, cumpriment, sr, deput, ...   \n",
       "3  [sr, president, sras, srs, deput, hoj, ningu, ...   \n",
       "4  [sr, president, srs, membr, govern, sras, srs,...   \n",
       "\n",
       "                                      tokens_cleaned  \\\n",
       "0  [primeiroministr, dirij, primeir, palavr, saud...   \n",
       "1  [servic, nacional, saud, duv, maior, conquist,...   \n",
       "2  [comec, cumpriment, joa, ram, sra, luis, salgu...   \n",
       "3  [hoj, ningu, capaz, coloc, caus, importanc, pa...   \n",
       "4  [membr, verd, consid, imper, defes, servic, na...   \n",
       "\n",
       "                                           tri_grams  \\\n",
       "0  [primeiroministr dirij primeir, dirij primeir ...   \n",
       "1  [servic nacional saud, nacional saud duv, saud...   \n",
       "2  [comec cumpriment joa, cumpriment joa ram, joa...   \n",
       "3  [hoj ningu capaz, ningu capaz coloc, capaz col...   \n",
       "4  [membr verd consid, verd consid imper, consid ...   \n",
       "\n",
       "                                        partisanship  avg_partisanship  \n",
       "0  [0.0, 0.0006456611570247934, 0.001033057851239...          2.195506  \n",
       "1  [0.13326446280991738, 0.00012913223140495868, ...          1.946798  \n",
       "2  [0.0005165289256198347, 0.0, 0.0, 0.0, 0.00142...          1.913352  \n",
       "3  [0.0, 0.0, 0.0, 0.0, 0.0, 0.0, 0.0001291322314...          1.911157  \n",
       "4  [0.0, 0.0, 0.0, 0.0, 0.00025826446280991736, 0...          1.849819  "
      ]
     },
     "execution_count": 16,
     "metadata": {},
     "output_type": "execute_result"
    }
   ],
   "source": [
    "tri_final.head()"
   ]
  },
  {
   "cell_type": "code",
   "execution_count": 12,
   "metadata": {},
   "outputs": [],
   "source": [
    "YEAR_S=2018"
   ]
  },
  {
   "cell_type": "code",
   "execution_count": 19,
   "metadata": {},
   "outputs": [
    {
     "data": {
      "image/png": "[encoded data removed]",
      "text/plain": [
       "<Figure size 432x288 with 1 Axes>"
      ]
     },
     "metadata": {
      "needs_background": "light"
     },
     "output_type": "display_data"
    },
    {
     "name": "stdout",
     "output_type": "stream",
     "text": [
      "0.7963331523460946 0\n"
     ]
    },
    {
     "data": {
      "image/png": "[encoded data removed]",
      "text/plain": [
       "<Figure size 432x288 with 1 Axes>"
      ]
     },
     "metadata": {
      "needs_background": "light"
     },
     "output_type": "display_data"
    },
    {
     "name": "stdout",
     "output_type": "stream",
     "text": [
      "1o 0.9161423936431703 0.08323060708580497\n"
     ]
    },
    {
     "data": {
      "image/png": "[encoded data removed]",
      "text/plain": [
       "<Figure size 432x288 with 1 Axes>"
      ]
     },
     "metadata": {
      "needs_background": "light"
     },
     "output_type": "display_data"
    },
    {
     "name": "stdout",
     "output_type": "stream",
     "text": [
      "1o 0.8327208556144106 0.13042573273557104\n"
     ]
    },
    {
     "data": {
      "image/png": "[encoded data removed]",
      "text/plain": [
       "<Figure size 432x288 with 1 Axes>"
      ]
     },
     "metadata": {
      "needs_background": "light"
     },
     "output_type": "display_data"
    },
    {
     "name": "stdout",
     "output_type": "stream",
     "text": [
      "1o 0.869321273013123 0.12793056049954568\n"
     ]
    },
    {
     "data": {
      "image/png": "[encoded data removed]",
      "text/plain": [
       "<Figure size 432x288 with 1 Axes>"
      ]
     },
     "metadata": {
      "needs_background": "light"
     },
     "output_type": "display_data"
    },
    {
     "name": "stdout",
     "output_type": "stream",
     "text": [
      "1o 0.9257688615171447 0.07379755290802323\n"
     ]
    },
    {
     "data": {
      "image/png": "[encoded data removed]",
      "text/plain": [
       "<Figure size 432x288 with 1 Axes>"
      ]
     },
     "metadata": {
      "needs_background": "light"
     },
     "output_type": "display_data"
    },
    {
     "name": "stdout",
     "output_type": "stream",
     "text": [
      "0.8288794356376555 0\n"
     ]
    },
    {
     "data": {
      "text/plain": [
       "<Figure size 432x288 with 0 Axes>"
      ]
     },
     "metadata": {},
     "output_type": "display_data"
    }
   ],
   "source": [
    "# \n",
    "df_polmetric=pd.DataFrame([])\n",
    "\n",
    "for YEAR_S in range(2016, 2022):\n",
    "    res=[]\n",
    "    tri_final[tri_final.year==YEAR_S]['avg_partisanship'].plot.density(color='blue')\n",
    "    plt.title('Density plot for Parliament Speach in '+ str(YEAR_S))\n",
    "    plt.xlabel('Average partisanship by speach')\n",
    "    line = plt.gca().get_lines()\n",
    "    x_data = line[0].get_data()[0]\n",
    "    y1_data = line[0].get_data()[1]\n",
    "    peaks, _ = find_peaks(y1_data, height=0)\n",
    "    plt.plot(x_data[peaks[0]],y1_data[peaks[0]], \"x\", color='red')\n",
    "    if len(peaks)>1:\n",
    "        plt.plot(x_data[peaks[1]],y1_data[peaks[1]], \"x\", color='red')\n",
    "\n",
    "    plt.show()\n",
    "    plt.clf()\n",
    "    if len(peaks)>1:\n",
    "        #distance_from_peaks=x_data[peaks[0]]\n",
    "\n",
    "        first_peak_startX=x_data[0]\n",
    "        fstartY=find_nearest_idx(x_data, first_peak_startX)\n",
    "        #print(fstartY,fendY)\n",
    "        first_peak_endX=x_data[peaks[0]]+((x_data[peaks[1]]-x_data[peaks[0]])/2 )\n",
    "        fendY=find_nearest_idx(x_data, first_peak_endX)\n",
    "        area_left = trapz(y1_data[fstartY:fendY], x_data[fstartY:fendY],dx=1)\n",
    "\n",
    "        second_peak_start=first_peak_endX\n",
    "        SstartY=find_nearest_idx(x_data, second_peak_start)\n",
    "        second_peak_end=x_data[peaks[1]]+((x_data[peaks[1]]-x_data[peaks[0]])/2 )\n",
    "        SendY=find_nearest_idx(x_data, second_peak_end)\n",
    "\n",
    "\n",
    "        area_right = trapz(y1_data[SstartY:SendY], x_data[SstartY:SendY],dx=1)\n",
    "\n",
    "        print('1o', area_left,area_right)\n",
    "    else:\n",
    "        distance_from_peaks=min(x_data[:peaks[0]])\n",
    "\n",
    "        first_peak_startX=x_data[0]\n",
    "        fstartY=find_nearest_idx(x_data, first_peak_startX)\n",
    "\n",
    "        first_peak_endX=x_data[peaks[0]]+((x_data[peaks[0]]-x_data[0])/2 )\n",
    "        fendY=find_nearest_idx(x_data, first_peak_endX)\n",
    "        area_left = trapz(y1_data[fstartY:fendY], x_data[fstartY:fendY],dx=1)\n",
    "\n",
    "        area_right=0\n",
    "        print(area_left,area_right)\n",
    "\n",
    "    res.append(YEAR_S)\n",
    "    if len(peaks)>1:\n",
    "        res.append(x_data[peaks[1]]-x_data[peaks[0]]) #partisanship_interval\n",
    "    else:\n",
    "        res.append(0)\n",
    "    res.append(area_left)\n",
    "    res.append( area_right)\n",
    "\n",
    "    new_df = pd.DataFrame([res])\n",
    "    df_polmetric = pd.concat([df_polmetric, new_df], axis=0, ignore_index=True)\n",
    "    "
   ]
  },
  {
   "cell_type": "code",
   "execution_count": 20,
   "metadata": {},
   "outputs": [
    {
     "data": {
      "text/html": [
       "<div>\n",
       "<style scoped>\n",
       "    .dataframe tbody tr th:only-of-type {\n",
       "        vertical-align: middle;\n",
       "    }\n",
       "\n",
       "    .dataframe tbody tr th {\n",
       "        vertical-align: top;\n",
       "    }\n",
       "\n",
       "    .dataframe thead th {\n",
       "        text-align: right;\n",
       "    }\n",
       "</style>\n",
       "<table border=\"1\" class=\"dataframe\">\n",
       "  <thead>\n",
       "    <tr style=\"text-align: right;\">\n",
       "      <th></th>\n",
       "      <th>year</th>\n",
       "      <th>partisanship_interval</th>\n",
       "      <th>left_probability</th>\n",
       "      <th>right_probability</th>\n",
       "    </tr>\n",
       "  </thead>\n",
       "  <tbody>\n",
       "    <tr>\n",
       "      <th>0</th>\n",
       "      <td>2016</td>\n",
       "      <td>0.000000</td>\n",
       "      <td>0.796333</td>\n",
       "      <td>0.000000</td>\n",
       "    </tr>\n",
       "    <tr>\n",
       "      <th>1</th>\n",
       "      <td>2017</td>\n",
       "      <td>1.091581</td>\n",
       "      <td>0.916142</td>\n",
       "      <td>0.083231</td>\n",
       "    </tr>\n",
       "    <tr>\n",
       "      <th>2</th>\n",
       "      <td>2018</td>\n",
       "      <td>0.777987</td>\n",
       "      <td>0.832721</td>\n",
       "      <td>0.130426</td>\n",
       "    </tr>\n",
       "    <tr>\n",
       "      <th>3</th>\n",
       "      <td>2019</td>\n",
       "      <td>0.648760</td>\n",
       "      <td>0.869321</td>\n",
       "      <td>0.127931</td>\n",
       "    </tr>\n",
       "    <tr>\n",
       "      <th>4</th>\n",
       "      <td>2020</td>\n",
       "      <td>1.058149</td>\n",
       "      <td>0.925769</td>\n",
       "      <td>0.073798</td>\n",
       "    </tr>\n",
       "    <tr>\n",
       "      <th>5</th>\n",
       "      <td>2021</td>\n",
       "      <td>0.000000</td>\n",
       "      <td>0.828879</td>\n",
       "      <td>0.000000</td>\n",
       "    </tr>\n",
       "  </tbody>\n",
       "</table>\n",
       "</div>"
      ],
      "text/plain": [
       "   year  partisanship_interval  left_probability  right_probability\n",
       "0  2016               0.000000          0.796333           0.000000\n",
       "1  2017               1.091581          0.916142           0.083231\n",
       "2  2018               0.777987          0.832721           0.130426\n",
       "3  2019               0.648760          0.869321           0.127931\n",
       "4  2020               1.058149          0.925769           0.073798\n",
       "5  2021               0.000000          0.828879           0.000000"
      ]
     },
     "execution_count": 20,
     "metadata": {},
     "output_type": "execute_result"
    }
   ],
   "source": [
    "df_polmetric.columns='year','partisanship_interval', 'left_probability','right_probability'\n",
    "df_polmetric"
   ]
  },
  {
   "cell_type": "code",
   "execution_count": 15,
   "metadata": {},
   "outputs": [],
   "source": [
    "#graficos tabela\n",
    "#graficos porlegislatura"
   ]
  },
  {
   "cell_type": "code",
   "execution_count": 22,
   "metadata": {},
   "outputs": [
    {
     "data": {
      "image/png": "[encoded data removed]",
      "text/plain": [
       "<Figure size 432x288 with 1 Axes>"
      ]
     },
     "metadata": {
      "needs_background": "light"
     },
     "output_type": "display_data"
    },
    {
     "name": "stdout",
     "output_type": "stream",
     "text": [
      "1o 0.6625625595853576 0.28836807060543246\n"
     ]
    },
    {
     "data": {
      "image/png": "[encoded data removed]",
      "text/plain": [
       "<Figure size 432x288 with 1 Axes>"
      ]
     },
     "metadata": {
      "needs_background": "light"
     },
     "output_type": "display_data"
    },
    {
     "name": "stdout",
     "output_type": "stream",
     "text": [
      "1o 0.8913989981527368 0.10769083202487115\n"
     ]
    },
    {
     "data": {
      "text/plain": [
       "<Figure size 432x288 with 0 Axes>"
      ]
     },
     "metadata": {},
     "output_type": "display_data"
    }
   ],
   "source": [
    "# \n",
    "df_polmetric=pd.DataFrame([])\n",
    "\n",
    "for YEAR_S in range(13, 15):\n",
    "    res=[]\n",
    "    tri_final[tri_final.term==YEAR_S]['avg_partisanship'].plot.density(color='blue')\n",
    "    plt.title('Density plot for Parliament Speach in '+ str(YEAR_S)+ 'th Government Term')\n",
    "    plt.xlabel('Average partisanship by speach')\n",
    "    line = plt.gca().get_lines()\n",
    "    x_data = line[0].get_data()[0]\n",
    "    y1_data = line[0].get_data()[1]\n",
    "    peaks, _ = find_peaks(y1_data, height=0)\n",
    "    plt.plot(x_data[peaks[0]],y1_data[peaks[0]], \"x\", color='red')\n",
    "    if len(peaks)>1:\n",
    "        plt.plot(x_data[peaks[1]],y1_data[peaks[1]], \"x\", color='red')\n",
    "\n",
    "    plt.show()\n",
    "    plt.clf()\n",
    "    if len(peaks)>1:\n",
    "        #distance_from_peaks=x_data[peaks[0]]\n",
    "\n",
    "        first_peak_startX=x_data[0]\n",
    "        fstartY=find_nearest_idx(x_data, first_peak_startX)\n",
    "        #print(fstartY,fendY)\n",
    "        first_peak_endX=x_data[peaks[0]]+((x_data[peaks[1]]-x_data[peaks[0]])/2 )\n",
    "        fendY=find_nearest_idx(x_data, first_peak_endX)\n",
    "        area_left = trapz(y1_data[fstartY:fendY], x_data[fstartY:fendY],dx=1)\n",
    "\n",
    "        second_peak_start=first_peak_endX\n",
    "        SstartY=find_nearest_idx(x_data, second_peak_start)\n",
    "        second_peak_end=x_data[peaks[1]]+((x_data[peaks[1]]-x_data[peaks[0]])/2 )\n",
    "        SendY=find_nearest_idx(x_data, second_peak_end)\n",
    "\n",
    "\n",
    "        area_right = trapz(y1_data[SstartY:SendY], x_data[SstartY:SendY],dx=1)\n",
    "\n",
    "        print('1o', area_left,area_right)\n",
    "    else:\n",
    "        distance_from_peaks=min(x_data[:peaks[0]])\n",
    "\n",
    "        first_peak_startX=x_data[0]\n",
    "        fstartY=find_nearest_idx(x_data, first_peak_startX)\n",
    "\n",
    "        first_peak_endX=x_data[peaks[0]]+((x_data[peaks[0]]-x_data[0])/2 )\n",
    "        fendY=find_nearest_idx(x_data, first_peak_endX)\n",
    "        area_left = trapz(y1_data[fstartY:fendY], x_data[fstartY:fendY],dx=1)\n",
    "\n",
    "        area_right=0\n",
    "        print(area_left,area_right)\n",
    "\n",
    "    res.append(YEAR_S)\n",
    "    if len(peaks)>1:\n",
    "        res.append(x_data[peaks[1]]-x_data[peaks[0]]) #partisanship_interval\n",
    "    else:\n",
    "        res.append(0)\n",
    "    res.append(area_left)\n",
    "    res.append( area_right)\n",
    "\n",
    "    new_df = pd.DataFrame([res])\n",
    "    df_polmetric = pd.concat([df_polmetric, new_df], axis=0, ignore_index=True)"
   ]
  },
  {
   "cell_type": "code",
   "execution_count": 23,
   "metadata": {},
   "outputs": [
    {
     "data": {
      "text/html": [
       "<div>\n",
       "<style scoped>\n",
       "    .dataframe tbody tr th:only-of-type {\n",
       "        vertical-align: middle;\n",
       "    }\n",
       "\n",
       "    .dataframe tbody tr th {\n",
       "        vertical-align: top;\n",
       "    }\n",
       "\n",
       "    .dataframe thead th {\n",
       "        text-align: right;\n",
       "    }\n",
       "</style>\n",
       "<table border=\"1\" class=\"dataframe\">\n",
       "  <thead>\n",
       "    <tr style=\"text-align: right;\">\n",
       "      <th></th>\n",
       "      <th>term</th>\n",
       "      <th>partisanship_interval</th>\n",
       "      <th>left_probability</th>\n",
       "      <th>right_probability</th>\n",
       "    </tr>\n",
       "  </thead>\n",
       "  <tbody>\n",
       "    <tr>\n",
       "      <th>0</th>\n",
       "      <td>13</td>\n",
       "      <td>0.786778</td>\n",
       "      <td>0.662563</td>\n",
       "      <td>0.288368</td>\n",
       "    </tr>\n",
       "    <tr>\n",
       "      <th>1</th>\n",
       "      <td>14</td>\n",
       "      <td>1.017621</td>\n",
       "      <td>0.891399</td>\n",
       "      <td>0.107691</td>\n",
       "    </tr>\n",
       "  </tbody>\n",
       "</table>\n",
       "</div>"
      ],
      "text/plain": [
       "   term  partisanship_interval  left_probability  right_probability\n",
       "0    13               0.786778          0.662563           0.288368\n",
       "1    14               1.017621          0.891399           0.107691"
      ]
     },
     "execution_count": 23,
     "metadata": {},
     "output_type": "execute_result"
    }
   ],
   "source": [
    "df_polmetric.columns='term','partisanship_interval', 'left_probability','right_probability'\n",
    "df_polmetric"
   ]
  },
  {
   "cell_type": "code",
   "execution_count": null,
   "metadata": {},
   "outputs": [],
   "source": []
  }
 ],
 "metadata": {
  "kernelspec": {
   "display_name": "Python 3.9.12 ('base')",
   "language": "python",
   "name": "python3"
  },
  "language_info": {
   "codemirror_mode": {
    "name": "ipython",
    "version": 3
   },
   "file_extension": ".py",
   "mimetype": "text/x-python",
   "name": "python",
   "nbconvert_exporter": "python",
   "pygments_lexer": "ipython3",
   "version": "3.9.12"
  },
  "orig_nbformat": 4,
  "vscode": {
   "interpreter": {
    "hash": "ddb3f830e79c6f8e791b80246b7047706826e249abf27510d15251ed3cae5420"
   }
  }
 },
 "nbformat": 4,
 "nbformat_minor": 2
}
